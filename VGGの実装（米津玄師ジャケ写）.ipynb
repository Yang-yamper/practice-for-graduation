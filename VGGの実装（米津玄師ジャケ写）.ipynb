{
  "nbformat": 4,
  "nbformat_minor": 0,
  "metadata": {
    "colab": {
      "provenance": [],
      "authorship_tag": "ABX9TyMNWng/KegfyuFvAXy0F8dY",
      "include_colab_link": true
    },
    "kernelspec": {
      "name": "python3",
      "display_name": "Python 3"
    },
    "language_info": {
      "name": "python"
    }
  },
  "cells": [
    {
      "cell_type": "markdown",
      "metadata": {
        "id": "view-in-github",
        "colab_type": "text"
      },
      "source": [
        "<a href=\"https://colab.research.google.com/github/Yang-yamper/practice-for-graduation/blob/main/VGG%E3%81%AE%E5%AE%9F%E8%A3%85%EF%BC%88%E7%B1%B3%E6%B4%A5%E7%8E%84%E5%B8%AB%E3%82%B8%E3%83%A3%E3%82%B1%E5%86%99%EF%BC%89.ipynb\" target=\"_parent\"><img src=\"https://colab.research.google.com/assets/colab-badge.svg\" alt=\"Open In Colab\"/></a>"
      ]
    },
    {
      "cell_type": "code",
      "source": [
        "from google.colab import drive\n",
        "drive.mount('/content/drive')"
      ],
      "metadata": {
        "colab": {
          "base_uri": "https://localhost:8080/"
        },
        "id": "EtSKIRSN5RCS",
        "outputId": "26f8008c-9c45-4b4a-ca17-2e720b8cf4ef"
      },
      "execution_count": 1,
      "outputs": [
        {
          "output_type": "stream",
          "name": "stdout",
          "text": [
            "Mounted at /content/drive\n"
          ]
        }
      ]
    },
    {
      "cell_type": "code",
      "source": [
        "import tensorflow as tf\n",
        "from tensorflow.keras.preprocessing import image_dataset_from_directory\n",
        "from sklearn.model_selection import train_test_split\n",
        "import matplotlib.pyplot as plt\n",
        "import numpy as np\n",
        "\n",
        "\n",
        "# 画像ディレクトリ\n",
        "IMG_DIR = '/content/drive/MyDrive/sample_data'\n",
        "# バッチサイズ\n",
        "BATCH_SIZE = 32\n",
        "# VGG16を使用するため以下のサイズに設定\n",
        "IMAGE_SIZE = (224, 224)\n",
        "IMAGE_SHAPE = IMAGE_SIZE + (3, )\n",
        "\n",
        "# 訓練、検証、テストの比率\n",
        "TRAIN_SIZE = 0.6\n",
        "VALIDATION_SIZE = 0.2\n",
        "TEST_SIZE = 0.2\n",
        "\n",
        "# 実行毎に同一の結果が得られるようシード値を固定\n",
        "RANDOM_STATE = 123\n",
        "\n",
        "# 学習率\n",
        "LEARNING_RATE = 3e-5\n",
        "\n",
        "# エポック数\n",
        "INITIAL_EPOCHS = 5\n",
        "\n",
        "# ------------------------------------------------------------\n",
        "# 1.画像とラベル取得と訓練・検証・テスト分割\n",
        "# ------------------------------------------------------------\n",
        "# (1) 画像読み込み\n",
        "image_dataset = image_dataset_from_directory(IMG_DIR,\n",
        "                                             shuffle=False,\n",
        "                                             batch_size=BATCH_SIZE,\n",
        "                                             image_size=IMAGE_SIZE\n",
        "                                             )\n",
        "\n",
        "# (2) 画像データセットをX:画像とY:クラス名で各々配列化\n",
        "image_class_names = image_dataset.class_names\n",
        "img_X = []\n",
        "img_Y = []\n",
        "for img_ds_batch in list(image_dataset.as_numpy_iterator()):\n",
        "    img_X.extend(img_ds_batch[0])\n",
        "    img_Y.extend(img_ds_batch[1])\n",
        "\n",
        "img_X = np.asarray(img_X)\n",
        "img_Y = np.asarray(img_Y)\n",
        "\n",
        "# (3) 画像データの標準化\n",
        "img_X = tf.keras.applications.vgg16.preprocess_input(img_X)\n",
        "\n",
        "# (4) データセットを訓練・検証・テストに分割\n",
        "# データセットを[train, (validation + test)]に分割\n",
        "img_X_train, imp_X_tmp, img_Y_train, img_Y_tmp = train_test_split(\n",
        "    img_X, img_Y,\n",
        "    train_size=TRAIN_SIZE,\n",
        "    random_state=RANDOM_STATE,\n",
        "    stratify=img_Y)\n",
        "\n",
        "# (validation + test)データセットを[validation, test]に分割\n",
        "VAL_TEST_SPLIT_SIZE = VALIDATION_SIZE / (VALIDATION_SIZE + TEST_SIZE)\n",
        "img_X_valid, img_X_test, img_Y_valid, img_Y_test = train_test_split(\n",
        "    imp_X_tmp, img_Y_tmp,\n",
        "    train_size=VAL_TEST_SPLIT_SIZE,\n",
        "    random_state=RANDOM_STATE,\n",
        "    stratify=img_Y_tmp)"
      ],
      "metadata": {
        "colab": {
          "base_uri": "https://localhost:8080/"
        },
        "id": "sfNTWgyrYV3u",
        "outputId": "2b397c8f-078c-471c-b3ad-5840335ee389"
      },
      "execution_count": 2,
      "outputs": [
        {
          "output_type": "stream",
          "name": "stdout",
          "text": [
            "Found 290 files belonging to 6 classes.\n"
          ]
        }
      ]
    },
    {
      "cell_type": "code",
      "source": [
        "# ------------------------------------------------------------\n",
        "# 2.モデル構築と学習\n",
        "# ------------------------------------------------------------\n",
        "# (1) 転移学習のベースモデルとしてVGG16を宣言\n",
        "base_model = tf.keras.applications.vgg16.VGG16(include_top=False,\n",
        "                                               input_shape=IMAGE_SHAPE,\n",
        "                                               weights='imagenet')\n",
        "\n",
        "# (2) 畳み込みベースの凍結\n",
        "base_model.trainable = False\n",
        "\n",
        "# (3) モデル構築\n",
        "# Flatten(=平坦化層)追加\n",
        "x = tf.keras.layers.Flatten()(base_model.output)\n",
        "# FC1層追加\n",
        "x = tf.keras.layers.Dense(4096, activation='relu')(x)\n",
        "# FC2層追加\n",
        "x = tf.keras.layers.Dense(4096, activation='relu')(x)\n",
        "# 入力画像の形状\n",
        "transfer_learning_inputs = base_model.inputs\n",
        "# predictions層の追加\n",
        "# 今回分類するクラス数を指定\n",
        "image_class_num = len(image_class_names)\n",
        "transfer_learning_prediction = tf.keras.layers.Dense(\n",
        "                                 image_class_num, activation='softmax')(x)\n",
        "# 転移学習モデル構築\n",
        "transfer_learning_model = tf.keras.Model(inputs=transfer_learning_inputs,\n",
        "                                         outputs=transfer_learning_prediction)\n",
        "\n",
        "# (4) モデルのコンパイル\n",
        "transfer_learning_model.compile(optimizer=\n",
        "                                    tf.keras.optimizers.Adam(learning_rate=LEARNING_RATE),\n",
        "                                loss='sparse_categorical_crossentropy',\n",
        "                                metrics=['accuracy'])\n",
        "\n",
        "# (5) モデルの学習\n",
        "history = transfer_learning_model.fit(img_X_train, img_Y_train,\n",
        "                                      epochs=INITIAL_EPOCHS,\n",
        "                                      batch_size=BATCH_SIZE,\n",
        "                                      validation_data=(img_X_valid, img_Y_valid))\n"
      ],
      "metadata": {
        "colab": {
          "base_uri": "https://localhost:8080/"
        },
        "id": "2F8XaWlzZFQu",
        "outputId": "89aea255-dff9-4829-f82f-20fd3b462ddf"
      },
      "execution_count": 3,
      "outputs": [
        {
          "output_type": "stream",
          "name": "stdout",
          "text": [
            "Downloading data from https://storage.googleapis.com/tensorflow/keras-applications/vgg16/vgg16_weights_tf_dim_ordering_tf_kernels_notop.h5\n",
            "58889256/58889256 [==============================] - 1s 0us/step\n",
            "Epoch 1/5\n",
            "6/6 [==============================] - 127s 22s/step - loss: 6.8268 - accuracy: 0.4483 - val_loss: 0.4361 - val_accuracy: 0.9310\n",
            "Epoch 2/5\n",
            "6/6 [==============================] - 127s 22s/step - loss: 0.3213 - accuracy: 0.9483 - val_loss: 1.7872 - val_accuracy: 0.7759\n",
            "Epoch 3/5\n",
            "6/6 [==============================] - 123s 21s/step - loss: 0.0674 - accuracy: 0.9943 - val_loss: 1.3578 - val_accuracy: 0.8448\n",
            "Epoch 4/5\n",
            "6/6 [==============================] - 123s 21s/step - loss: 0.0037 - accuracy: 1.0000 - val_loss: 1.0692 - val_accuracy: 0.8621\n",
            "Epoch 5/5\n",
            "6/6 [==============================] - 124s 21s/step - loss: 6.4446e-05 - accuracy: 1.0000 - val_loss: 0.7842 - val_accuracy: 0.8966\n"
          ]
        }
      ]
    },
    {
      "cell_type": "code",
      "source": [
        "transfer_learning_model.summary()"
      ],
      "metadata": {
        "colab": {
          "base_uri": "https://localhost:8080/"
        },
        "id": "kW4pUvsEdqPu",
        "outputId": "79adb909-2b1f-4451-f9ed-fc7fafc1a69f"
      },
      "execution_count": 5,
      "outputs": [
        {
          "output_type": "stream",
          "name": "stdout",
          "text": [
            "Model: \"model\"\n",
            "_________________________________________________________________\n",
            " Layer (type)                Output Shape              Param #   \n",
            "=================================================================\n",
            " input_1 (InputLayer)        [(None, 224, 224, 3)]     0         \n",
            "                                                                 \n",
            " block1_conv1 (Conv2D)       (None, 224, 224, 64)      1792      \n",
            "                                                                 \n",
            " block1_conv2 (Conv2D)       (None, 224, 224, 64)      36928     \n",
            "                                                                 \n",
            " block1_pool (MaxPooling2D)  (None, 112, 112, 64)      0         \n",
            "                                                                 \n",
            " block2_conv1 (Conv2D)       (None, 112, 112, 128)     73856     \n",
            "                                                                 \n",
            " block2_conv2 (Conv2D)       (None, 112, 112, 128)     147584    \n",
            "                                                                 \n",
            " block2_pool (MaxPooling2D)  (None, 56, 56, 128)       0         \n",
            "                                                                 \n",
            " block3_conv1 (Conv2D)       (None, 56, 56, 256)       295168    \n",
            "                                                                 \n",
            " block3_conv2 (Conv2D)       (None, 56, 56, 256)       590080    \n",
            "                                                                 \n",
            " block3_conv3 (Conv2D)       (None, 56, 56, 256)       590080    \n",
            "                                                                 \n",
            " block3_pool (MaxPooling2D)  (None, 28, 28, 256)       0         \n",
            "                                                                 \n",
            " block4_conv1 (Conv2D)       (None, 28, 28, 512)       1180160   \n",
            "                                                                 \n",
            " block4_conv2 (Conv2D)       (None, 28, 28, 512)       2359808   \n",
            "                                                                 \n",
            " block4_conv3 (Conv2D)       (None, 28, 28, 512)       2359808   \n",
            "                                                                 \n",
            " block4_pool (MaxPooling2D)  (None, 14, 14, 512)       0         \n",
            "                                                                 \n",
            " block5_conv1 (Conv2D)       (None, 14, 14, 512)       2359808   \n",
            "                                                                 \n",
            " block5_conv2 (Conv2D)       (None, 14, 14, 512)       2359808   \n",
            "                                                                 \n",
            " block5_conv3 (Conv2D)       (None, 14, 14, 512)       2359808   \n",
            "                                                                 \n",
            " block5_pool (MaxPooling2D)  (None, 7, 7, 512)         0         \n",
            "                                                                 \n",
            " flatten (Flatten)           (None, 25088)             0         \n",
            "                                                                 \n",
            " dense (Dense)               (None, 4096)              102764544 \n",
            "                                                                 \n",
            " dense_1 (Dense)             (None, 4096)              16781312  \n",
            "                                                                 \n",
            " dense_2 (Dense)             (None, 6)                 24582     \n",
            "                                                                 \n",
            "=================================================================\n",
            "Total params: 134,285,126\n",
            "Trainable params: 119,570,438\n",
            "Non-trainable params: 14,714,688\n",
            "_________________________________________________________________\n"
          ]
        }
      ]
    },
    {
      "cell_type": "code",
      "source": [
        "# ------------------------------------------------------------\n",
        "# 3.画像分類と精度\n",
        "# ------------------------------------------------------------\n",
        "# テストデータの画像分類結果を標準出力\n",
        "# [損失関数, 正解率]\n",
        "print(transfer_learning_model.evaluate(img_X_test, img_Y_test, verbose=0))\n",
        "\n",
        "# 訓練と検証\n",
        "acc = history.history['accuracy']\n",
        "val_acc = history.history['val_accuracy']\n",
        "\n",
        "loss = history.history['loss']\n",
        "val_loss = history.history['val_loss']\n",
        "\n",
        "# 正解率\n",
        "plt.figure(figsize=(8, 8))\n",
        "plt.subplot(2, 1, 1)\n",
        "plt.plot(acc, label='Training Accuracy')\n",
        "plt.plot(val_acc, label='Validation Accuracy')\n",
        "plt.legend(loc='lower right')\n",
        "plt.ylabel('Accuracy')\n",
        "plt.ylim([min(plt.ylim()),1])\n",
        "plt.title('Training and Validation Accuracy')\n",
        "\n",
        "# 損失関数\n",
        "plt.subplot(2, 1, 2)\n",
        "plt.plot(loss, label='Training Loss')\n",
        "plt.plot(val_loss, label='Validation Loss')\n",
        "plt.legend(loc='upper right')\n",
        "plt.ylabel('Cross Entropy')\n",
        "plt.ylim([0, 10.0])\n",
        "plt.title('Training and Validation Loss')\n",
        "plt.xlabel('epoch')\n",
        "plt.show()\n"
      ],
      "metadata": {
        "colab": {
          "base_uri": "https://localhost:8080/",
          "height": 531
        },
        "id": "wJwN17ewZpNt",
        "outputId": "72956e6f-eb91-4bfd-fe64-4aa56c54bd09"
      },
      "execution_count": 4,
      "outputs": [
        {
          "output_type": "stream",
          "name": "stdout",
          "text": [
            "[0.9321812391281128, 0.8620689511299133]\n"
          ]
        },
        {
          "output_type": "display_data",
          "data": {
            "text/plain": [
              "<Figure size 576x576 with 2 Axes>"
            ],
            "image/png": "[encoded data removed]"
          },
          "metadata": {
            "needs_background": "light"
          }
        }
      ]
    }
  ]
}