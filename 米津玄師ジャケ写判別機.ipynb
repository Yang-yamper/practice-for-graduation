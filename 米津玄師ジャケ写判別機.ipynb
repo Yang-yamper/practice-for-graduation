{
  "nbformat": 4,
  "nbformat_minor": 0,
  "metadata": {
    "colab": {
      "name": "米津玄師ジャケ写判別機.ipynb",
      "provenance": [],
      "include_colab_link": true
    },
    "kernelspec": {
      "name": "python3",
      "display_name": "Python 3"
    },
    "language_info": {
      "name": "python"
    }
  },
  "cells": [
    {
      "cell_type": "markdown",
      "metadata": {
        "id": "view-in-github",
        "colab_type": "text"
      },
      "source": [
        "<a href=\"https://colab.research.google.com/github/Yang-yamper/practice-for-graduation/blob/main/%E7%B1%B3%E6%B4%A5%E7%8E%84%E5%B8%AB%E3%82%B8%E3%83%A3%E3%82%B1%E5%86%99%E5%88%A4%E5%88%A5%E6%A9%9F.ipynb\" target=\"_parent\"><img src=\"https://colab.research.google.com/assets/colab-badge.svg\" alt=\"Open In Colab\"/></a>"
      ]
    },
    {
      "cell_type": "markdown",
      "source": [
        "データの読み込み"
      ],
      "metadata": {
        "id": "WkpYQEzJrzYq"
      }
    },
    {
      "cell_type": "code",
      "source": [
        "from google.colab import drive\n",
        "drive.mount('/content/drive')"
      ],
      "metadata": {
        "colab": {
          "base_uri": "https://localhost:8080/"
        },
        "id": "iMyI3o9_zgqG",
        "outputId": "18c8c928-cebb-405a-d0e7-7ae64d33bc60"
      },
      "execution_count": 1,
      "outputs": [
        {
          "output_type": "stream",
          "name": "stdout",
          "text": [
            "Mounted at /content/drive\n"
          ]
        }
      ]
    },
    {
      "cell_type": "code",
      "execution_count": 2,
      "metadata": {
        "id": "JVc_wvNdrv7w",
        "colab": {
          "base_uri": "https://localhost:8080/"
        },
        "outputId": "dd455e44-7618-4ce8-a394-5821a1eec600"
      },
      "outputs": [
        {
          "output_type": "stream",
          "name": "stderr",
          "text": [
            "/usr/local/lib/python3.7/dist-packages/numpy/lib/npyio.py:528: VisibleDeprecationWarning: Creating an ndarray from ragged nested sequences (which is a list-or-tuple of lists-or-tuples-or ndarrays with different lengths or shapes) is deprecated. If you meant to do this, you must specify 'dtype=object' when creating the ndarray.\n",
            "  arr = np.asanyarray(arr)\n"
          ]
        }
      ],
      "source": [
        "from PIL import Image\n",
        "import os, glob\n",
        "import numpy as np\n",
        "import random, math\n",
        "\n",
        "#画像が保存されているルートディレクトリのパス\n",
        "root_dir = \"/content/drive/MyDrive/sample_data\"\n",
        "# 商品名\n",
        "categories = [\"Pale Blue\",\"M87\",\"Stay sheep\",\"馬と鹿\",\"Bootleg\",\"かいじゅうずかん\"]\n",
        "\n",
        "# 画像データ用配列\n",
        "X = []\n",
        "# ラベルデータ用配列\n",
        "Y = []\n",
        "\n",
        "#画像データごとにadd_sample()を呼び出し、X,Yの配列を返す関数\n",
        "def make_sample(files):\n",
        "    global X, Y\n",
        "    X = []\n",
        "    Y = []\n",
        "    for cat, fname in files:\n",
        "        add_sample(cat, fname)\n",
        "    return np.array(X), np.array(Y)\n",
        "\n",
        "#渡された画像データを読み込んでXに格納し、また、\n",
        "#画像データに対応するcategoriesのidxをY格納する関数\n",
        "def add_sample(cat, fname):\n",
        "    img = Image.open(fname)\n",
        "    img = img.convert(\"RGB\")\n",
        "    img = img.resize((150, 150))\n",
        "    data = np.asarray(img)\n",
        "    X.append(data)\n",
        "    Y.append(cat)\n",
        "\n",
        "#全データ格納用配列\n",
        "allfiles = []\n",
        "\n",
        "#カテゴリ配列の各値と、それに対応するidxを認識し、全データをallfilesにまとめる\n",
        "for idx, cat in enumerate(categories):\n",
        "    image_dir = root_dir + \"/\" + cat\n",
        "    files = glob.glob(image_dir + \"/*.jpg\")\n",
        "    for f in files:\n",
        "        allfiles.append((idx, f))\n",
        "\n",
        "#シャッフル後、学習データと検証データに分ける\n",
        "random.shuffle(allfiles)\n",
        "th = math.floor(len(allfiles) * 0.8)\n",
        "train = allfiles[0:th]\n",
        "test  = allfiles[th:]\n",
        "X_train, y_train = make_sample(train)\n",
        "X_test, y_test = make_sample(test)\n",
        "xy = (X_train, X_test, y_train, y_test)\n",
        "#データを保存する（データの名前を「tea_data.npy」としている）\n",
        "np.save(\"/content/drive/MyDrive/tea_data.npy\", xy)"
      ]
    },
    {
      "cell_type": "markdown",
      "source": [
        "モデルの構築"
      ],
      "metadata": {
        "id": "oKmXIL87r_ex"
      }
    },
    {
      "cell_type": "code",
      "source": [
        "from keras import layers, models\n",
        "\n",
        "model = models.Sequential()\n",
        "model.add(layers.Conv2D(32,(3,3),activation=\"relu\",input_shape=(150,150,3)))\n",
        "model.add(layers.MaxPooling2D((2,2)))\n",
        "model.add(layers.Conv2D(64,(3,3),activation=\"relu\"))\n",
        "model.add(layers.MaxPooling2D((2,2)))\n",
        "model.add(layers.Conv2D(128,(3,3),activation=\"relu\"))\n",
        "model.add(layers.MaxPooling2D((2,2)))\n",
        "model.add(layers.Conv2D(128,(3,3),activation=\"relu\"))\n",
        "model.add(layers.MaxPooling2D((2,2)))\n",
        "model.add(layers.Flatten())\n",
        "model.add(layers.Dense(512,activation=\"relu\"))\n",
        "model.add(layers.Dense(6,activation=\"sigmoid\")) #分類先の種類分設定\n",
        "\n",
        "#モデル構成の確認\n",
        "model.summary()"
      ],
      "metadata": {
        "id": "Mx6LEnCXr9-c",
        "colab": {
          "base_uri": "https://localhost:8080/"
        },
        "outputId": "9035cd75-19fe-4648-d4d9-5614d6dd935f"
      },
      "execution_count": 3,
      "outputs": [
        {
          "output_type": "stream",
          "name": "stdout",
          "text": [
            "Model: \"sequential\"\n",
            "_________________________________________________________________\n",
            " Layer (type)                Output Shape              Param #   \n",
            "=================================================================\n",
            " conv2d (Conv2D)             (None, 148, 148, 32)      896       \n",
            "                                                                 \n",
            " max_pooling2d (MaxPooling2D  (None, 74, 74, 32)       0         \n",
            " )                                                               \n",
            "                                                                 \n",
            " conv2d_1 (Conv2D)           (None, 72, 72, 64)        18496     \n",
            "                                                                 \n",
            " max_pooling2d_1 (MaxPooling  (None, 36, 36, 64)       0         \n",
            " 2D)                                                             \n",
            "                                                                 \n",
            " conv2d_2 (Conv2D)           (None, 34, 34, 128)       73856     \n",
            "                                                                 \n",
            " max_pooling2d_2 (MaxPooling  (None, 17, 17, 128)      0         \n",
            " 2D)                                                             \n",
            "                                                                 \n",
            " conv2d_3 (Conv2D)           (None, 15, 15, 128)       147584    \n",
            "                                                                 \n",
            " max_pooling2d_3 (MaxPooling  (None, 7, 7, 128)        0         \n",
            " 2D)                                                             \n",
            "                                                                 \n",
            " flatten (Flatten)           (None, 6272)              0         \n",
            "                                                                 \n",
            " dense (Dense)               (None, 512)               3211776   \n",
            "                                                                 \n",
            " dense_1 (Dense)             (None, 6)                 3078      \n",
            "                                                                 \n",
            "=================================================================\n",
            "Total params: 3,455,686\n",
            "Trainable params: 3,455,686\n",
            "Non-trainable params: 0\n",
            "_________________________________________________________________\n"
          ]
        }
      ]
    },
    {
      "cell_type": "markdown",
      "source": [
        "モデルのコンパイル"
      ],
      "metadata": {
        "id": "nhGrjSSgsDi-"
      }
    },
    {
      "cell_type": "code",
      "source": [
        "from tensorflow.keras.optimizers import RMSprop\n",
        "\n",
        "model.compile(loss=\"categorical_crossentropy\",optimizer=RMSprop(learning_rate=1e-4),metrics=[\"acc\"])"
      ],
      "metadata": {
        "id": "CdkqIyvBsBNU"
      },
      "execution_count": 4,
      "outputs": []
    },
    {
      "cell_type": "markdown",
      "source": [
        "モデルの正規化"
      ],
      "metadata": {
        "id": "PzmJM-FMsHfJ"
      }
    },
    {
      "cell_type": "code",
      "source": [
        "from keras.utils import np_utils\n",
        "import numpy as np\n",
        "\n",
        "categories = [\"Pale Blue\",\"M87\",\"Stay sheep\",\"馬と鹿\",\n",
        "              \"Bootleg\",\"かいじゅうずかん\"]\n",
        "nb_classes = len(categories)\n",
        "\n",
        "X_train, X_test,y_train, y_test = np.load(\"/content/drive/MyDrive/tea_data.npy\", allow_pickle=True)\n",
        "\n",
        "#データの正規化\n",
        "X_train = X_train.astype(\"float\") / 255\n",
        "X_test  = X_test.astype(\"float\")  / 255\n",
        "\n",
        "#kerasで扱えるようにcategoriesをベクトルに変換\n",
        "y_train = np_utils.to_categorical(y_train, nb_classes)\n",
        "y_test  = np_utils.to_categorical(y_test, nb_classes)"
      ],
      "metadata": {
        "id": "gw0lC_e3sFCs"
      },
      "execution_count": 5,
      "outputs": []
    },
    {
      "cell_type": "markdown",
      "source": [
        "モデルの学習"
      ],
      "metadata": {
        "id": "X4fVLrxksM4d"
      }
    },
    {
      "cell_type": "code",
      "source": [
        "model = model.fit(X_train,\n",
        "                  y_train,\n",
        "                  epochs=15,\n",
        "                  batch_size=6,\n",
        "                  validation_data=(X_test,y_test))"
      ],
      "metadata": {
        "id": "UeVnC8Q7sKnt",
        "colab": {
          "base_uri": "https://localhost:8080/"
        },
        "outputId": "a388f056-df4e-4fe9-ed65-592604c7bf4e"
      },
      "execution_count": 6,
      "outputs": [
        {
          "output_type": "stream",
          "name": "stdout",
          "text": [
            "Epoch 1/15\n",
            "29/29 [==============================] - 11s 344ms/step - loss: 1.6940 - acc: 0.2558 - val_loss: 1.5583 - val_acc: 0.3953\n",
            "Epoch 2/15\n",
            "29/29 [==============================] - 10s 337ms/step - loss: 1.5091 - acc: 0.3198 - val_loss: 1.3111 - val_acc: 0.4419\n",
            "Epoch 3/15\n",
            "29/29 [==============================] - 10s 339ms/step - loss: 1.2607 - acc: 0.5174 - val_loss: 1.2062 - val_acc: 0.4651\n",
            "Epoch 4/15\n",
            "29/29 [==============================] - 10s 336ms/step - loss: 1.0386 - acc: 0.5930 - val_loss: 0.9700 - val_acc: 0.6744\n",
            "Epoch 5/15\n",
            "29/29 [==============================] - 10s 340ms/step - loss: 0.8666 - acc: 0.6802 - val_loss: 0.9154 - val_acc: 0.6744\n",
            "Epoch 6/15\n",
            "29/29 [==============================] - 10s 340ms/step - loss: 0.8202 - acc: 0.7267 - val_loss: 0.6175 - val_acc: 0.7674\n",
            "Epoch 7/15\n",
            "29/29 [==============================] - 10s 340ms/step - loss: 0.6556 - acc: 0.7326 - val_loss: 0.6313 - val_acc: 0.7674\n",
            "Epoch 8/15\n",
            "29/29 [==============================] - 10s 339ms/step - loss: 0.6188 - acc: 0.7616 - val_loss: 0.6147 - val_acc: 0.7442\n",
            "Epoch 9/15\n",
            "29/29 [==============================] - 10s 338ms/step - loss: 0.5720 - acc: 0.7907 - val_loss: 0.8850 - val_acc: 0.6744\n",
            "Epoch 10/15\n",
            "29/29 [==============================] - 10s 338ms/step - loss: 0.4479 - acc: 0.8314 - val_loss: 0.5929 - val_acc: 0.7674\n",
            "Epoch 11/15\n",
            "29/29 [==============================] - 10s 340ms/step - loss: 0.4116 - acc: 0.8547 - val_loss: 0.5251 - val_acc: 0.7674\n",
            "Epoch 12/15\n",
            "29/29 [==============================] - 10s 341ms/step - loss: 0.3569 - acc: 0.8721 - val_loss: 0.4904 - val_acc: 0.8140\n",
            "Epoch 13/15\n",
            "29/29 [==============================] - 10s 338ms/step - loss: 0.3431 - acc: 0.8547 - val_loss: 0.4078 - val_acc: 0.8140\n",
            "Epoch 14/15\n",
            "29/29 [==============================] - 10s 339ms/step - loss: 0.2323 - acc: 0.9186 - val_loss: 0.4470 - val_acc: 0.8372\n",
            "Epoch 15/15\n",
            "29/29 [==============================] - 10s 341ms/step - loss: 0.2183 - acc: 0.9302 - val_loss: 0.5938 - val_acc: 0.7907\n"
          ]
        }
      ]
    },
    {
      "cell_type": "code",
      "source": [
        "import matplotlib.pyplot as plt\n",
        "\n",
        "acc = model.history['acc']\n",
        "val_acc = model.history['val_acc']\n",
        "loss = model.history['loss']\n",
        "val_loss = model.history['val_loss']\n",
        "\n",
        "epochs = range(len(acc))\n",
        "\n",
        "plt.plot(epochs, acc, 'bo', label='Training acc')\n",
        "plt.plot(epochs, val_acc, 'b', label='Validation acc')\n",
        "plt.title('Training and validation accuracy')\n",
        "plt.legend()\n",
        "plt.savefig('property')\n",
        "\n",
        "plt.figure()\n",
        "\n",
        "plt.plot(epochs, loss, 'bo', label='Training loss')\n",
        "plt.plot(epochs, val_loss, 'b', label='Validation loss')\n",
        "plt.title('Training and validation loss')\n",
        "plt.legend()\n",
        "plt.savefig('loss')"
      ],
      "metadata": {
        "colab": {
          "base_uri": "https://localhost:8080/",
          "height": 545
        },
        "id": "6aLjSi823yBY",
        "outputId": "e7aa80bb-0389-4016-83ea-942836ec8fd5"
      },
      "execution_count": 7,
      "outputs": [
        {
          "output_type": "display_data",
          "data": {
            "text/plain": [
              "<Figure size 432x288 with 1 Axes>"
            ],
            "image/png": "[encoded data removed]"
          },
          "metadata": {
            "needs_background": "light"
          }
        },
        {
          "output_type": "display_data",
          "data": {
            "text/plain": [
              "<Figure size 432x288 with 1 Axes>"
            ],
            "image/png": "[encoded data removed]"
          },
          "metadata": {
            "needs_background": "light"
          }
        }
      ]
    },
    {
      "cell_type": "code",
      "source": [
        "#モデルの保存\n",
        "\n",
        "json_string = model.model.to_json()\n",
        "open('/content/drive/MyDrive/tea_predict.json', 'w').write(json_string)\n",
        "\n",
        "#重みの保存\n",
        "\n",
        "hdf5_file = \"/content/drive/MyDrive/tea_predict.hdf5\"\n",
        "model.model.save_weights(hdf5_file)"
      ],
      "metadata": {
        "id": "9uMizVh4ptAu"
      },
      "execution_count": 8,
      "outputs": []
    },
    {
      "cell_type": "code",
      "source": [
        "from PIL import Image\n",
        "import os, glob\n",
        "import numpy as np\n",
        "import random, math\n",
        "\n",
        "# 画像が保存されているディレクトリのパス\n",
        "root_dir = \"/content/drive/MyDrive/sample_data\"\n",
        "# 画像が保存されているフォルダ名\n",
        "categories =[\"Pale Blue\",\"M87\",\"Stay sheep\",\"馬と鹿\",\"Bootleg\",\"かいじゅうずかん\"]\n",
        "\n",
        "X = [] # 画像データ\n",
        "Y = [] # ラベルデータ\n",
        "\n",
        "# フォルダごとに分けられたファイルを収集\n",
        "#（categoriesのidxと、画像のファイルパスが紐づいたリストを生成）\n",
        "allfiles = []\n",
        "for idx, cat in enumerate(categories):\n",
        "    image_dir = root_dir + \"/\" + cat\n",
        "    files = glob.glob(image_dir + \"/*.jpg\")\n",
        "    for f in files:\n",
        "        allfiles.append((idx, f))\n",
        "\n",
        "for cat, fname in allfiles:\n",
        "    img = Image.open(fname)\n",
        "    img = img.convert(\"RGB\")\n",
        "    img = img.resize((150, 150))\n",
        "    data = np.asarray(img)\n",
        "    X.append(data)\n",
        "    Y.append(cat)\n",
        "\n",
        "x = np.array(X)\n",
        "y = np.array(Y)\n",
        "\n",
        "np.save(\"/content/drive/MyDrive/tea_data_test_X_150.npy\", x)\n",
        "np.save(\"/content/drive/MyDrive/tea_data_test_Y_150.npy\", y)"
      ],
      "metadata": {
        "id": "ZmqzjO5CumdK"
      },
      "execution_count": 9,
      "outputs": []
    },
    {
      "cell_type": "code",
      "source": [
        "# モデルの精度を測る\n",
        "\n",
        "#評価用のデータの読み込み\n",
        "test_X = np.load(\"/content/drive/MyDrive/tea_data_test_X_150.npy\")\n",
        "test_Y = np.load(\"/content/drive/MyDrive/tea_data_test_Y_150.npy\")\n",
        "\n",
        "#Yのデータをone-hotに変換\n",
        "from keras.utils import np_utils\n",
        "\n",
        "test_Y = np_utils.to_categorical(test_Y, 6)\n",
        "\n",
        "score = model.model.evaluate(x=test_X,y=test_Y)\n",
        "\n",
        "print('loss=', score[0])\n",
        "print('accuracy=', score[1])"
      ],
      "metadata": {
        "colab": {
          "base_uri": "https://localhost:8080/"
        },
        "id": "YjUYF8hf7Lhd",
        "outputId": "38cef634-6796-4b50-cd56-1138b50b4aa3"
      },
      "execution_count": 10,
      "outputs": [
        {
          "output_type": "stream",
          "name": "stdout",
          "text": [
            "7/7 [==============================] - 3s 356ms/step - loss: 24.9354 - acc: 0.9070\n",
            "loss= 24.9354248046875\n",
            "accuracy= 0.9069767594337463\n"
          ]
        }
      ]
    },
    {
      "cell_type": "markdown",
      "source": [
        "正しいジャケ写を選ばせるプログラム"
      ],
      "metadata": {
        "id": "eUEekkdXxBSg"
      }
    },
    {
      "cell_type": "code",
      "source": [
        "#綾鷹を選ばせるプログラム\n",
        "\n",
        "from keras import models\n",
        "from keras.models import model_from_json\n",
        "from keras.preprocessing import image\n",
        "import numpy as np\n",
        "\n",
        "#保存したモデルの読み込み\n",
        "model = model_from_json(open('/content/drive/MyDrive/tea_predict.json').read())\n",
        "#保存した重みの読み込み\n",
        "model.load_weights('/content/drive/MyDrive/tea_predict.hdf5')\n",
        "\n",
        "categories = [\"Pale Blue\",\"M87\",\"Stay sheep\",\"馬と鹿\",\n",
        "              \"Bootleg\",\"かいじゅうずかん\"]\n",
        "\n",
        "#画像を読み込む\n",
        "img_path = str(input())\n",
        "img = image.load_img(img_path,target_size=(150, 150, 3))\n",
        "x = image.img_to_array(img)\n",
        "x = np.expand_dims(x, axis=0)\n",
        "\n",
        "#予測\n",
        "features = model.predict(x)\n",
        "\n",
        "#予測結果によって処理を分ける\n",
        "if features[0,0] == 1:\n",
        "    print (\"選ばれたのは、Pale blueでした。\")\n",
        "\n",
        "elif features[0,4] == 1:\n",
        "    print (\"選ばれたのは、Bootlegでした。\")\n",
        "\n",
        "else:\n",
        "    for i in range(0,10):\n",
        "          if features[0,i] == 1:\n",
        "              cat = categories[i]\n",
        "    message = \"綾鷹を選んでください。（もしかして：あなたが選んでいるのは「\" + cat + \"」ではありませんか？）\"\n",
        "    print(message)"
      ],
      "metadata": {
        "colab": {
          "base_uri": "https://localhost:8080/"
        },
        "id": "UwHE19eV8cFb",
        "outputId": "c22d3cab-50f4-4efe-da21-9c42db93cb19"
      },
      "execution_count": 11,
      "outputs": [
        {
          "output_type": "stream",
          "name": "stdout",
          "text": [
            "/content/drive/MyDrive/sample_data/Stray sheep/IMG_7935.jpg\n",
            "選ばれたのは、Pale blueでした。\n"
          ]
        }
      ]
    }
  ]
}