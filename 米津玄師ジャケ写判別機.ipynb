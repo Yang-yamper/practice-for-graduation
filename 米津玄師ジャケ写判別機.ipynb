{
  "cells": [
    {
      "cell_type": "markdown",
      "metadata": {
        "id": "view-in-github",
        "colab_type": "text"
      },
      "source": [
        "<a href=\"https://colab.research.google.com/github/Yang-yamper/practice-for-graduation/blob/main/%E7%B1%B3%E6%B4%A5%E7%8E%84%E5%B8%AB%E3%82%B8%E3%83%A3%E3%82%B1%E5%86%99%E5%88%A4%E5%88%A5%E6%A9%9F.ipynb\" target=\"_parent\"><img src=\"https://colab.research.google.com/assets/colab-badge.svg\" alt=\"Open In Colab\"/></a>"
      ]
    },
    {
      "cell_type": "markdown",
      "metadata": {
        "id": "WkpYQEzJrzYq"
      },
      "source": [
        "データの読み込み"
      ]
    },
    {
      "cell_type": "code",
      "execution_count": null,
      "metadata": {
        "colab": {
          "base_uri": "https://localhost:8080/"
        },
        "id": "iMyI3o9_zgqG",
        "outputId": "aa4f60b9-5857-4bbc-cdfb-e86726d01f90"
      },
      "outputs": [
        {
          "output_type": "stream",
          "name": "stdout",
          "text": [
            "Mounted at /content/drive\n"
          ]
        }
      ],
      "source": [
        "from google.colab import drive\n",
        "drive.mount('/content/drive')"
      ]
    },
    {
      "cell_type": "code",
      "execution_count": 9,
      "metadata": {
        "colab": {
          "base_uri": "https://localhost:8080/"
        },
        "id": "JVc_wvNdrv7w",
        "outputId": "e37050e4-77cc-4b9b-8ebb-f81ca0db78c5"
      },
      "outputs": [
        {
          "metadata": {
            "tags": null
          },
          "name": "stderr",
          "output_type": "stream",
          "text": [
            "/usr/local/lib/python3.7/dist-packages/numpy/lib/npyio.py:528: VisibleDeprecationWarning: Creating an ndarray from ragged nested sequences (which is a list-or-tuple of lists-or-tuples-or ndarrays with different lengths or shapes) is deprecated. If you meant to do this, you must specify 'dtype=object' when creating the ndarray.\n",
            "  arr = np.asanyarray(arr)\n"
          ]
        }
      ],
      "source": [
        "from PIL import Image\n",
        "import os, glob\n",
        "import numpy as np\n",
        "import random, math\n",
        "\n",
        "#画像が保存されているルートディレクトリのパス\n",
        "root_dir = \"/content/drive/MyDrive/sample_data\"\n",
        "# 商品名\n",
        "categories = [\"Pale Blue\",\"M87\",\"Stay sheep\",\"馬と鹿\",\"Bootleg\",\"かいじゅうずかん\"]\n",
        "\n",
        "# 画像データ用配列\n",
        "X = []\n",
        "# ラベルデータ用配列\n",
        "Y = []\n",
        "\n",
        "#画像データごとにadd_sample()を呼び出し、X,Yの配列を返す関数\n",
        "def make_sample(files):\n",
        "    global X, Y\n",
        "    X = []\n",
        "    Y = []\n",
        "    for cat, fname in files:\n",
        "        add_sample(cat, fname)\n",
        "    return np.array(X), np.array(Y)\n",
        "\n",
        "#渡された画像データを読み込んでXに格納し、また、\n",
        "#画像データに対応するcategoriesのidxをY格納する関数\n",
        "def add_sample(cat, fname):\n",
        "    img = Image.open(fname)\n",
        "    img = img.convert(\"RGB\")\n",
        "    img = img.resize((400,400))\n",
        "    data = np.asarray(img)\n",
        "    X.append(data)\n",
        "    Y.append(cat)\n",
        "\n",
        "#全データ格納用配列\n",
        "allfiles = []\n",
        "\n",
        "#カテゴリ配列の各値と、それに対応するidxを認識し、全データをallfilesにまとめる\n",
        "for idx, cat in enumerate(categories):\n",
        "    image_dir = root_dir + \"/\" + cat\n",
        "    files = glob.glob(image_dir + \"/*.jpg\")\n",
        "    for f in files:\n",
        "        allfiles.append((idx, f))\n",
        "\n",
        "#シャッフル後、学習データと検証データに分ける\n",
        "random.shuffle(allfiles)\n",
        "th = math.floor(len(allfiles) * 0.8)\n",
        "train = allfiles[0:th]\n",
        "test  = allfiles[th:]\n",
        "X_train, y_train = make_sample(train)\n",
        "X_test, y_test = make_sample(test)\n",
        "xy = (X_train, X_test, y_train, y_test)\n",
        "#データを保存する（データの名前を「tea_data.npy」としている）\n",
        "np.save(\"/content/drive/MyDrive/tea_data.npy\", xy)"
      ]
    },
    {
      "cell_type": "markdown",
      "metadata": {
        "id": "oKmXIL87r_ex"
      },
      "source": [
        "モデルの構築"
      ]
    },
    {
      "cell_type": "code",
      "execution_count": 11,
      "metadata": {
        "colab": {
          "base_uri": "https://localhost:8080/"
        },
        "id": "Mx6LEnCXr9-c",
        "outputId": "9263e3c4-8d0b-4cdd-9638-506e39898f94"
      },
      "outputs": [
        {
          "metadata": {
            "tags": null
          },
          "name": "stdout",
          "output_type": "stream",
          "text": [
            "Model: \"sequential_1\"\n",
            "_________________________________________________________________\n",
            " Layer (type)                Output Shape              Param #   \n",
            "=================================================================\n",
            " conv2d_4 (Conv2D)           (None, 398, 398, 32)      896       \n",
            "                                                                 \n",
            " max_pooling2d_4 (MaxPooling  (None, 199, 199, 32)     0         \n",
            " 2D)                                                             \n",
            "                                                                 \n",
            " conv2d_5 (Conv2D)           (None, 197, 197, 64)      18496     \n",
            "                                                                 \n",
            " max_pooling2d_5 (MaxPooling  (None, 98, 98, 64)       0         \n",
            " 2D)                                                             \n",
            "                                                                 \n",
            " conv2d_6 (Conv2D)           (None, 96, 96, 128)       73856     \n",
            "                                                                 \n",
            " max_pooling2d_6 (MaxPooling  (None, 48, 48, 128)      0         \n",
            " 2D)                                                             \n",
            "                                                                 \n",
            " conv2d_7 (Conv2D)           (None, 46, 46, 128)       147584    \n",
            "                                                                 \n",
            " max_pooling2d_7 (MaxPooling  (None, 23, 23, 128)      0         \n",
            " 2D)                                                             \n",
            "                                                                 \n",
            " flatten_1 (Flatten)         (None, 67712)             0         \n",
            "                                                                 \n",
            " dropout_1 (Dropout)         (None, 67712)             0         \n",
            "                                                                 \n",
            " dense_2 (Dense)             (None, 512)               34669056  \n",
            "                                                                 \n",
            " dense_3 (Dense)             (None, 6)                 3078      \n",
            "                                                                 \n",
            "=================================================================\n",
            "Total params: 34,912,966\n",
            "Trainable params: 34,912,966\n",
            "Non-trainable params: 0\n",
            "_________________________________________________________________\n"
          ]
        }
      ],
      "source": [
        "from keras import layers, models\n",
        "\n",
        "model = models.Sequential()\n",
        "model.add(layers.Conv2D(32,(3,3),activation=\"relu\",input_shape=(400,400,3)))\n",
        "model.add(layers.MaxPooling2D((2,2)))\n",
        "model.add(layers.Conv2D(64,(3,3),activation=\"relu\"))\n",
        "model.add(layers.MaxPooling2D((2,2)))\n",
        "model.add(layers.Conv2D(128,(3,3),activation=\"relu\"))\n",
        "model.add(layers.MaxPooling2D((2,2)))\n",
        "model.add(layers.Conv2D(128,(3,3),activation=\"relu\"))\n",
        "model.add(layers.MaxPooling2D((2,2)))\n",
        "model.add(layers.Flatten())\n",
        "model.add(layers.Dropout(0.25))\n",
        "model.add(layers.Dense(512,activation=\"relu\"))\n",
        "model.add(layers.Dense(6,activation=\"sigmoid\")) #分類先の種類分設定\n",
        "\n",
        "#モデル構成の確認\n",
        "model.summary()"
      ]
    },
    {
      "cell_type": "markdown",
      "metadata": {
        "id": "nhGrjSSgsDi-"
      },
      "source": [
        "モデルのコンパイル"
      ]
    },
    {
      "cell_type": "code",
      "execution_count": null,
      "metadata": {
        "id": "CdkqIyvBsBNU"
      },
      "outputs": [],
      "source": [
        "from tensorflow.keras.optimizers import RMSprop\n",
        "\n",
        "model.compile(loss=\"categorical_crossentropy\",optimizer=RMSprop(learning_rate=1e-4),metrics=[\"acc\"])"
      ]
    },
    {
      "cell_type": "markdown",
      "metadata": {
        "id": "PzmJM-FMsHfJ"
      },
      "source": [
        "モデルの正規化"
      ]
    },
    {
      "cell_type": "code",
      "execution_count": null,
      "metadata": {
        "id": "gw0lC_e3sFCs"
      },
      "outputs": [],
      "source": [
        "from keras.utils import np_utils\n",
        "import numpy as np\n",
        "\n",
        "categories = [\"Pale Blue\",\"M87\",\"Stay sheep\",\"馬と鹿\",\n",
        "              \"Bootleg\",\"かいじゅうずかん\"]\n",
        "nb_classes = len(categories)\n",
        "\n",
        "X_train, X_test,y_train, y_test = np.load(\"/content/drive/MyDrive/tea_data.npy\", allow_pickle=True)\n",
        "\n",
        "#データの正規化\n",
        "X_train = X_train.astype(\"float\") / 255\n",
        "X_test  = X_test.astype(\"float\")  / 255\n",
        "\n",
        "#kerasで扱えるようにcategoriesをベクトルに変換\n",
        "y_train = np_utils.to_categorical(y_train, nb_classes)\n",
        "y_test  = np_utils.to_categorical(y_test, nb_classes)"
      ]
    },
    {
      "cell_type": "markdown",
      "metadata": {
        "id": "X4fVLrxksM4d"
      },
      "source": [
        "モデルの学習"
      ]
    },
    {
      "cell_type": "code",
      "execution_count": 6,
      "metadata": {
        "colab": {
          "base_uri": "https://localhost:8080/"
        },
        "id": "UeVnC8Q7sKnt",
        "outputId": "fc156225-2ebe-44bc-db8d-5c19f252278c"
      },
      "outputs": [
        {
          "output_type": "stream",
          "name": "stdout",
          "text": [
            "Epoch 1/150\n",
            "9/9 [==============================] - 49s 5s/step - loss: 1.6831 - acc: 0.3198 - val_loss: 1.5313 - val_acc: 0.2326\n",
            "Epoch 2/150\n",
            "9/9 [==============================] - 47s 5s/step - loss: 1.4267 - acc: 0.3663 - val_loss: 1.3287 - val_acc: 0.3953\n",
            "Epoch 3/150\n",
            "9/9 [==============================] - 47s 5s/step - loss: 1.0954 - acc: 0.6047 - val_loss: 1.3228 - val_acc: 0.4186\n",
            "Epoch 4/150\n",
            "9/9 [==============================] - 46s 5s/step - loss: 0.8885 - acc: 0.5988 - val_loss: 1.3706 - val_acc: 0.4186\n",
            "Epoch 5/150\n",
            "9/9 [==============================] - 49s 5s/step - loss: 0.7388 - acc: 0.7267 - val_loss: 0.9842 - val_acc: 0.6279\n",
            "Epoch 6/150\n",
            "9/9 [==============================] - 47s 5s/step - loss: 0.6616 - acc: 0.6919 - val_loss: 0.7296 - val_acc: 0.7442\n",
            "Epoch 7/150\n",
            "9/9 [==============================] - 49s 5s/step - loss: 0.4538 - acc: 0.8372 - val_loss: 0.7766 - val_acc: 0.7442\n",
            "Epoch 8/150\n",
            "9/9 [==============================] - 47s 5s/step - loss: 0.3206 - acc: 0.9070 - val_loss: 0.8963 - val_acc: 0.6279\n",
            "Epoch 9/150\n",
            "9/9 [==============================] - 47s 5s/step - loss: 0.3945 - acc: 0.8663 - val_loss: 1.0504 - val_acc: 0.6279\n",
            "Epoch 10/150\n",
            "9/9 [==============================] - 48s 5s/step - loss: 0.2837 - acc: 0.8721 - val_loss: 0.8854 - val_acc: 0.6512\n",
            "Epoch 11/150\n",
            "9/9 [==============================] - 48s 5s/step - loss: 0.2511 - acc: 0.9302 - val_loss: 0.7673 - val_acc: 0.7442\n",
            "Epoch 12/150\n",
            "9/9 [==============================] - 49s 5s/step - loss: 0.2038 - acc: 0.9244 - val_loss: 1.1232 - val_acc: 0.5814\n",
            "Epoch 13/150\n",
            "9/9 [==============================] - 47s 5s/step - loss: 0.1696 - acc: 0.9593 - val_loss: 2.3174 - val_acc: 0.4419\n",
            "Epoch 14/150\n",
            "9/9 [==============================] - 47s 5s/step - loss: 0.2556 - acc: 0.9012 - val_loss: 0.7456 - val_acc: 0.6977\n",
            "Epoch 15/150\n",
            "9/9 [==============================] - 47s 5s/step - loss: 0.0745 - acc: 0.9826 - val_loss: 0.9900 - val_acc: 0.7209\n",
            "Epoch 16/150\n",
            "9/9 [==============================] - 47s 5s/step - loss: 0.0785 - acc: 0.9709 - val_loss: 1.0630 - val_acc: 0.6047\n",
            "Epoch 17/150\n",
            "9/9 [==============================] - 48s 5s/step - loss: 0.1649 - acc: 0.9360 - val_loss: 0.8900 - val_acc: 0.7442\n",
            "Epoch 18/150\n",
            "9/9 [==============================] - 48s 5s/step - loss: 0.0339 - acc: 1.0000 - val_loss: 1.0169 - val_acc: 0.7442\n",
            "Epoch 19/150\n",
            "9/9 [==============================] - 48s 5s/step - loss: 0.0557 - acc: 0.9884 - val_loss: 1.0172 - val_acc: 0.7442\n",
            "Epoch 20/150\n",
            "9/9 [==============================] - 49s 5s/step - loss: 0.0194 - acc: 1.0000 - val_loss: 0.9160 - val_acc: 0.7907\n",
            "Epoch 21/150\n",
            "9/9 [==============================] - 48s 5s/step - loss: 0.0566 - acc: 0.9767 - val_loss: 2.1232 - val_acc: 0.6744\n",
            "Epoch 22/150\n",
            "9/9 [==============================] - 48s 5s/step - loss: 0.0495 - acc: 0.9767 - val_loss: 0.8817 - val_acc: 0.7442\n",
            "Epoch 23/150\n",
            "9/9 [==============================] - 48s 5s/step - loss: 0.0087 - acc: 1.0000 - val_loss: 0.9905 - val_acc: 0.7907\n",
            "Epoch 24/150\n",
            "9/9 [==============================] - 48s 5s/step - loss: 0.0062 - acc: 1.0000 - val_loss: 1.1477 - val_acc: 0.6977\n",
            "Epoch 25/150\n",
            "9/9 [==============================] - 48s 5s/step - loss: 0.0047 - acc: 1.0000 - val_loss: 1.1167 - val_acc: 0.7674\n",
            "Epoch 26/150\n",
            "9/9 [==============================] - 49s 5s/step - loss: 0.0032 - acc: 1.0000 - val_loss: 0.9987 - val_acc: 0.7674\n",
            "Epoch 27/150\n",
            "9/9 [==============================] - 49s 5s/step - loss: 0.4227 - acc: 0.8953 - val_loss: 1.0535 - val_acc: 0.7442\n",
            "Epoch 28/150\n",
            "9/9 [==============================] - 48s 5s/step - loss: 0.0076 - acc: 1.0000 - val_loss: 1.0708 - val_acc: 0.7442\n",
            "Epoch 29/150\n",
            "9/9 [==============================] - 47s 5s/step - loss: 0.0053 - acc: 1.0000 - val_loss: 1.1118 - val_acc: 0.7209\n",
            "Epoch 30/150\n",
            "9/9 [==============================] - 47s 5s/step - loss: 0.0029 - acc: 1.0000 - val_loss: 1.1508 - val_acc: 0.7209\n",
            "Epoch 31/150\n",
            "9/9 [==============================] - 49s 5s/step - loss: 0.0020 - acc: 1.0000 - val_loss: 1.2459 - val_acc: 0.7674\n",
            "Epoch 32/150\n",
            "9/9 [==============================] - 49s 6s/step - loss: 0.0011 - acc: 1.0000 - val_loss: 1.3025 - val_acc: 0.7674\n",
            "Epoch 33/150\n",
            "9/9 [==============================] - 47s 5s/step - loss: 7.8505e-04 - acc: 1.0000 - val_loss: 1.3514 - val_acc: 0.7442\n",
            "Epoch 34/150\n",
            "9/9 [==============================] - 48s 5s/step - loss: 7.1737e-04 - acc: 1.0000 - val_loss: 1.4551 - val_acc: 0.7209\n",
            "Epoch 35/150\n",
            "9/9 [==============================] - 48s 5s/step - loss: 0.0016 - acc: 1.0000 - val_loss: 3.4428 - val_acc: 0.5814\n",
            "Epoch 36/150\n",
            "9/9 [==============================] - 48s 5s/step - loss: 0.2155 - acc: 0.9419 - val_loss: 1.4082 - val_acc: 0.7209\n",
            "Epoch 37/150\n",
            "9/9 [==============================] - 48s 5s/step - loss: 0.0016 - acc: 1.0000 - val_loss: 1.4375 - val_acc: 0.7209\n",
            "Epoch 38/150\n",
            "9/9 [==============================] - 48s 5s/step - loss: 0.0010 - acc: 1.0000 - val_loss: 1.4274 - val_acc: 0.7442\n",
            "Epoch 39/150\n",
            "9/9 [==============================] - 49s 6s/step - loss: 6.0819e-04 - acc: 1.0000 - val_loss: 1.4184 - val_acc: 0.7209\n",
            "Epoch 40/150\n",
            "9/9 [==============================] - 48s 5s/step - loss: 4.1215e-04 - acc: 1.0000 - val_loss: 1.4373 - val_acc: 0.7209\n",
            "Epoch 41/150\n",
            "9/9 [==============================] - 48s 5s/step - loss: 4.2456e-04 - acc: 1.0000 - val_loss: 1.4494 - val_acc: 0.7442\n",
            "Epoch 42/150\n",
            "9/9 [==============================] - 48s 5s/step - loss: 2.1097e-04 - acc: 1.0000 - val_loss: 1.4544 - val_acc: 0.7907\n",
            "Epoch 43/150\n",
            "9/9 [==============================] - 48s 5s/step - loss: 1.5743e-04 - acc: 1.0000 - val_loss: 1.5572 - val_acc: 0.7907\n",
            "Epoch 44/150\n",
            "9/9 [==============================] - 48s 5s/step - loss: 1.3050e-04 - acc: 1.0000 - val_loss: 1.8247 - val_acc: 0.7674\n",
            "Epoch 45/150\n",
            "9/9 [==============================] - 48s 5s/step - loss: 0.0903 - acc: 0.9767 - val_loss: 1.6929 - val_acc: 0.7907\n",
            "Epoch 46/150\n",
            "9/9 [==============================] - 49s 5s/step - loss: 2.9929e-04 - acc: 1.0000 - val_loss: 1.6423 - val_acc: 0.7674\n",
            "Epoch 47/150\n",
            "9/9 [==============================] - 49s 5s/step - loss: 1.8516e-04 - acc: 1.0000 - val_loss: 1.5933 - val_acc: 0.7907\n",
            "Epoch 48/150\n",
            "9/9 [==============================] - 48s 5s/step - loss: 1.2588e-04 - acc: 1.0000 - val_loss: 1.6200 - val_acc: 0.7674\n",
            "Epoch 49/150\n",
            "9/9 [==============================] - 48s 5s/step - loss: 1.1232e-04 - acc: 1.0000 - val_loss: 1.5229 - val_acc: 0.7907\n",
            "Epoch 50/150\n",
            "9/9 [==============================] - 48s 5s/step - loss: 8.3508e-05 - acc: 1.0000 - val_loss: 1.6259 - val_acc: 0.7674\n",
            "Epoch 51/150\n",
            "9/9 [==============================] - 48s 5s/step - loss: 7.1674e-05 - acc: 1.0000 - val_loss: 1.5768 - val_acc: 0.7674\n",
            "Epoch 52/150\n",
            "9/9 [==============================] - 48s 5s/step - loss: 5.4175e-05 - acc: 1.0000 - val_loss: 1.6990 - val_acc: 0.7674\n",
            "Epoch 53/150\n",
            "9/9 [==============================] - 49s 5s/step - loss: 4.7026e-05 - acc: 1.0000 - val_loss: 1.6761 - val_acc: 0.7674\n",
            "Epoch 54/150\n",
            "9/9 [==============================] - 49s 5s/step - loss: 3.3186e-05 - acc: 1.0000 - val_loss: 1.7219 - val_acc: 0.7674\n",
            "Epoch 55/150\n",
            "9/9 [==============================] - 48s 5s/step - loss: 2.6280e-05 - acc: 1.0000 - val_loss: 1.6494 - val_acc: 0.7907\n",
            "Epoch 56/150\n",
            "9/9 [==============================] - 48s 5s/step - loss: 3.9255e-04 - acc: 1.0000 - val_loss: 5.1530 - val_acc: 0.5116\n",
            "Epoch 57/150\n",
            "9/9 [==============================] - 48s 5s/step - loss: 0.1092 - acc: 0.9709 - val_loss: 1.0811 - val_acc: 0.7442\n",
            "Epoch 58/150\n",
            "9/9 [==============================] - 47s 5s/step - loss: 7.9623e-04 - acc: 1.0000 - val_loss: 1.1698 - val_acc: 0.7674\n",
            "Epoch 59/150\n",
            "9/9 [==============================] - 48s 5s/step - loss: 4.6477e-04 - acc: 1.0000 - val_loss: 1.1675 - val_acc: 0.7442\n",
            "Epoch 60/150\n",
            "9/9 [==============================] - 50s 6s/step - loss: 3.3468e-04 - acc: 1.0000 - val_loss: 1.1595 - val_acc: 0.7907\n",
            "Epoch 61/150\n",
            "9/9 [==============================] - 48s 5s/step - loss: 1.8473e-04 - acc: 1.0000 - val_loss: 1.2292 - val_acc: 0.7674\n",
            "Epoch 62/150\n",
            "9/9 [==============================] - 48s 5s/step - loss: 1.1902e-04 - acc: 1.0000 - val_loss: 1.2527 - val_acc: 0.7442\n",
            "Epoch 63/150\n",
            "9/9 [==============================] - 47s 5s/step - loss: 7.8700e-05 - acc: 1.0000 - val_loss: 1.3140 - val_acc: 0.7674\n",
            "Epoch 64/150\n",
            "9/9 [==============================] - 47s 5s/step - loss: 5.5239e-05 - acc: 1.0000 - val_loss: 1.3323 - val_acc: 0.7209\n",
            "Epoch 65/150\n",
            "9/9 [==============================] - 48s 5s/step - loss: 4.4418e-05 - acc: 1.0000 - val_loss: 1.7298 - val_acc: 0.7442\n",
            "Epoch 66/150\n",
            "9/9 [==============================] - 47s 5s/step - loss: 2.8315e-05 - acc: 1.0000 - val_loss: 1.4688 - val_acc: 0.7442\n",
            "Epoch 67/150\n",
            "9/9 [==============================] - 49s 5s/step - loss: 1.6620e-05 - acc: 1.0000 - val_loss: 1.5457 - val_acc: 0.7442\n",
            "Epoch 68/150\n",
            "9/9 [==============================] - 47s 5s/step - loss: 8.8779e-06 - acc: 1.0000 - val_loss: 1.5423 - val_acc: 0.7442\n",
            "Epoch 69/150\n",
            "9/9 [==============================] - 47s 5s/step - loss: 8.4435e-06 - acc: 1.0000 - val_loss: 1.6579 - val_acc: 0.7674\n",
            "Epoch 70/150\n",
            "9/9 [==============================] - 47s 5s/step - loss: 4.2471e-06 - acc: 1.0000 - val_loss: 1.7836 - val_acc: 0.7674\n",
            "Epoch 71/150\n",
            "9/9 [==============================] - 47s 5s/step - loss: 3.5325e-06 - acc: 1.0000 - val_loss: 1.7919 - val_acc: 0.7442\n",
            "Epoch 72/150\n",
            "9/9 [==============================] - 47s 5s/step - loss: 1.7805e-06 - acc: 1.0000 - val_loss: 1.8300 - val_acc: 0.7674\n",
            "Epoch 73/150\n",
            "9/9 [==============================] - 48s 5s/step - loss: 1.2884e-06 - acc: 1.0000 - val_loss: 1.8762 - val_acc: 0.7674\n",
            "Epoch 74/150\n",
            "9/9 [==============================] - 47s 5s/step - loss: 1.3272e-06 - acc: 1.0000 - val_loss: 1.9976 - val_acc: 0.7674\n",
            "Epoch 75/150\n",
            "9/9 [==============================] - 47s 5s/step - loss: 7.8317e-07 - acc: 1.0000 - val_loss: 2.1536 - val_acc: 0.7907\n",
            "Epoch 76/150\n",
            "9/9 [==============================] - 47s 5s/step - loss: 6.7852e-07 - acc: 1.0000 - val_loss: 2.1218 - val_acc: 0.7442\n",
            "Epoch 77/150\n",
            "9/9 [==============================] - 48s 5s/step - loss: 4.7614e-07 - acc: 1.0000 - val_loss: 2.2948 - val_acc: 0.7674\n",
            "Epoch 78/150\n",
            "9/9 [==============================] - 48s 5s/step - loss: 4.0614e-07 - acc: 1.0000 - val_loss: 2.7789 - val_acc: 0.7209\n",
            "Epoch 79/150\n",
            "9/9 [==============================] - 48s 5s/step - loss: 0.2405 - acc: 0.9477 - val_loss: 1.7649 - val_acc: 0.7674\n",
            "Epoch 80/150\n",
            "9/9 [==============================] - 47s 5s/step - loss: 2.0962e-04 - acc: 1.0000 - val_loss: 1.7094 - val_acc: 0.7674\n",
            "Epoch 81/150\n",
            "9/9 [==============================] - 48s 5s/step - loss: 6.4809e-05 - acc: 1.0000 - val_loss: 1.6939 - val_acc: 0.7674\n",
            "Epoch 82/150\n",
            "9/9 [==============================] - 47s 5s/step - loss: 3.5446e-05 - acc: 1.0000 - val_loss: 1.6794 - val_acc: 0.7674\n",
            "Epoch 83/150\n",
            "9/9 [==============================] - 47s 5s/step - loss: 3.0023e-05 - acc: 1.0000 - val_loss: 1.6660 - val_acc: 0.7674\n",
            "Epoch 84/150\n",
            "9/9 [==============================] - 47s 5s/step - loss: 1.5522e-05 - acc: 1.0000 - val_loss: 1.6578 - val_acc: 0.7674\n",
            "Epoch 85/150\n",
            "9/9 [==============================] - 47s 5s/step - loss: 1.0927e-05 - acc: 1.0000 - val_loss: 1.6562 - val_acc: 0.7674\n",
            "Epoch 86/150\n",
            "9/9 [==============================] - 48s 5s/step - loss: 8.9534e-06 - acc: 1.0000 - val_loss: 1.6586 - val_acc: 0.7674\n",
            "Epoch 87/150\n",
            "9/9 [==============================] - 47s 5s/step - loss: 5.3934e-06 - acc: 1.0000 - val_loss: 1.6701 - val_acc: 0.7907\n",
            "Epoch 88/150\n",
            "9/9 [==============================] - 48s 5s/step - loss: 5.1709e-06 - acc: 1.0000 - val_loss: 1.6727 - val_acc: 0.8140\n",
            "Epoch 89/150\n",
            "9/9 [==============================] - 48s 5s/step - loss: 4.0682e-06 - acc: 1.0000 - val_loss: 1.6902 - val_acc: 0.8140\n",
            "Epoch 90/150\n",
            "9/9 [==============================] - 48s 5s/step - loss: 3.0377e-06 - acc: 1.0000 - val_loss: 1.7161 - val_acc: 0.8140\n",
            "Epoch 91/150\n",
            "9/9 [==============================] - 47s 5s/step - loss: 2.5955e-06 - acc: 1.0000 - val_loss: 1.7460 - val_acc: 0.8140\n",
            "Epoch 92/150\n",
            "9/9 [==============================] - 47s 5s/step - loss: 1.7355e-06 - acc: 1.0000 - val_loss: 1.7637 - val_acc: 0.8140\n",
            "Epoch 93/150\n",
            "9/9 [==============================] - 47s 5s/step - loss: 1.6301e-06 - acc: 1.0000 - val_loss: 1.8098 - val_acc: 0.8140\n",
            "Epoch 94/150\n",
            "9/9 [==============================] - 49s 5s/step - loss: 1.1567e-06 - acc: 1.0000 - val_loss: 1.8135 - val_acc: 0.8140\n",
            "Epoch 95/150\n",
            "9/9 [==============================] - 48s 5s/step - loss: 8.7327e-07 - acc: 1.0000 - val_loss: 1.8870 - val_acc: 0.8140\n",
            "Epoch 96/150\n",
            "9/9 [==============================] - 48s 5s/step - loss: 5.2050e-07 - acc: 1.0000 - val_loss: 1.9254 - val_acc: 0.8140\n",
            "Epoch 97/150\n",
            "9/9 [==============================] - 47s 5s/step - loss: 4.4495e-07 - acc: 1.0000 - val_loss: 1.9527 - val_acc: 0.8140\n",
            "Epoch 98/150\n",
            "9/9 [==============================] - 48s 5s/step - loss: 3.6802e-07 - acc: 1.0000 - val_loss: 2.0107 - val_acc: 0.8140\n",
            "Epoch 99/150\n",
            "9/9 [==============================] - 47s 5s/step - loss: 3.0565e-07 - acc: 1.0000 - val_loss: 2.0831 - val_acc: 0.7907\n",
            "Epoch 100/150\n",
            "9/9 [==============================] - 47s 5s/step - loss: 2.9248e-07 - acc: 1.0000 - val_loss: 2.1291 - val_acc: 0.7907\n",
            "Epoch 101/150\n",
            "9/9 [==============================] - 48s 5s/step - loss: 1.1782e-07 - acc: 1.0000 - val_loss: 2.1950 - val_acc: 0.7674\n",
            "Epoch 102/150\n",
            "9/9 [==============================] - 47s 5s/step - loss: 1.4347e-07 - acc: 1.0000 - val_loss: 2.1536 - val_acc: 0.7674\n",
            "Epoch 103/150\n",
            "9/9 [==============================] - 47s 5s/step - loss: 8.3862e-08 - acc: 1.0000 - val_loss: 2.1670 - val_acc: 0.7907\n",
            "Epoch 104/150\n",
            "9/9 [==============================] - 48s 5s/step - loss: 7.2080e-08 - acc: 1.0000 - val_loss: 2.1501 - val_acc: 0.7907\n",
            "Epoch 105/150\n",
            "9/9 [==============================] - 48s 5s/step - loss: 8.4555e-08 - acc: 1.0000 - val_loss: 2.2385 - val_acc: 0.7674\n",
            "Epoch 106/150\n",
            "9/9 [==============================] - 47s 5s/step - loss: 4.2971e-08 - acc: 1.0000 - val_loss: 2.1697 - val_acc: 0.7907\n",
            "Epoch 107/150\n",
            "9/9 [==============================] - 48s 5s/step - loss: 2.9802e-08 - acc: 1.0000 - val_loss: 2.3666 - val_acc: 0.7674\n",
            "Epoch 108/150\n",
            "9/9 [==============================] - 50s 6s/step - loss: 2.0792e-08 - acc: 1.0000 - val_loss: 2.3897 - val_acc: 0.7907\n",
            "Epoch 109/150\n",
            "9/9 [==============================] - 48s 5s/step - loss: 3.5347e-08 - acc: 1.0000 - val_loss: 2.3589 - val_acc: 0.7907\n",
            "Epoch 110/150\n",
            "9/9 [==============================] - 48s 5s/step - loss: 2.1485e-08 - acc: 1.0000 - val_loss: 2.3725 - val_acc: 0.7907\n",
            "Epoch 111/150\n",
            "9/9 [==============================] - 48s 5s/step - loss: 1.9406e-08 - acc: 1.0000 - val_loss: 2.5262 - val_acc: 0.7674\n",
            "Epoch 112/150\n",
            "9/9 [==============================] - 48s 5s/step - loss: 2.0099e-08 - acc: 1.0000 - val_loss: 2.9276 - val_acc: 0.7674\n",
            "Epoch 113/150\n",
            "9/9 [==============================] - 47s 5s/step - loss: 0.2112 - acc: 0.9884 - val_loss: 2.8140 - val_acc: 0.7209\n",
            "Epoch 114/150\n",
            "9/9 [==============================] - 48s 5s/step - loss: 4.4886e-05 - acc: 1.0000 - val_loss: 2.3854 - val_acc: 0.7442\n",
            "Epoch 115/150\n",
            "9/9 [==============================] - 49s 5s/step - loss: 5.4248e-06 - acc: 1.0000 - val_loss: 2.3405 - val_acc: 0.7442\n",
            "Epoch 116/150\n",
            "9/9 [==============================] - 48s 5s/step - loss: 2.1326e-06 - acc: 1.0000 - val_loss: 2.3256 - val_acc: 0.7442\n",
            "Epoch 117/150\n",
            "9/9 [==============================] - 48s 5s/step - loss: 3.2753e-06 - acc: 1.0000 - val_loss: 2.2780 - val_acc: 0.7442\n",
            "Epoch 118/150\n",
            "9/9 [==============================] - 47s 5s/step - loss: 1.7632e-06 - acc: 1.0000 - val_loss: 2.3094 - val_acc: 0.7442\n",
            "Epoch 119/150\n",
            "9/9 [==============================] - 47s 5s/step - loss: 1.4360e-06 - acc: 1.0000 - val_loss: 2.3312 - val_acc: 0.7209\n",
            "Epoch 120/150\n",
            "9/9 [==============================] - 48s 5s/step - loss: 1.5580e-06 - acc: 1.0000 - val_loss: 2.2929 - val_acc: 0.7442\n",
            "Epoch 121/150\n",
            "9/9 [==============================] - 48s 5s/step - loss: 1.1394e-06 - acc: 1.0000 - val_loss: 2.3018 - val_acc: 0.7209\n",
            "Epoch 122/150\n",
            "9/9 [==============================] - 49s 5s/step - loss: 1.0486e-06 - acc: 1.0000 - val_loss: 2.3143 - val_acc: 0.7209\n",
            "Epoch 123/150\n",
            "9/9 [==============================] - 48s 5s/step - loss: 9.8209e-07 - acc: 1.0000 - val_loss: 2.3295 - val_acc: 0.7209\n",
            "Epoch 124/150\n",
            "9/9 [==============================] - 48s 5s/step - loss: 9.0515e-07 - acc: 1.0000 - val_loss: 2.3565 - val_acc: 0.7442\n",
            "Epoch 125/150\n",
            "9/9 [==============================] - 47s 5s/step - loss: 5.1773e-07 - acc: 1.0000 - val_loss: 2.3486 - val_acc: 0.7442\n",
            "Epoch 126/150\n",
            "9/9 [==============================] - 48s 5s/step - loss: 6.0991e-07 - acc: 1.0000 - val_loss: 2.3793 - val_acc: 0.7442\n",
            "Epoch 127/150\n",
            "9/9 [==============================] - 48s 5s/step - loss: 8.0674e-07 - acc: 1.0000 - val_loss: 2.3349 - val_acc: 0.7442\n",
            "Epoch 128/150\n",
            "9/9 [==============================] - 48s 5s/step - loss: 7.6862e-07 - acc: 1.0000 - val_loss: 2.4473 - val_acc: 0.7442\n",
            "Epoch 129/150\n",
            "9/9 [==============================] - 48s 5s/step - loss: 2.8901e-07 - acc: 1.0000 - val_loss: 2.4283 - val_acc: 0.7907\n",
            "Epoch 130/150\n",
            "9/9 [==============================] - 47s 5s/step - loss: 2.0376e-07 - acc: 1.0000 - val_loss: 2.4585 - val_acc: 0.7907\n",
            "Epoch 131/150\n",
            "9/9 [==============================] - 47s 5s/step - loss: 1.6842e-07 - acc: 1.0000 - val_loss: 2.5273 - val_acc: 0.7907\n",
            "Epoch 132/150\n",
            "9/9 [==============================] - 47s 5s/step - loss: 1.0951e-07 - acc: 1.0000 - val_loss: 2.5553 - val_acc: 0.7907\n",
            "Epoch 133/150\n",
            "9/9 [==============================] - 48s 5s/step - loss: 1.0258e-07 - acc: 1.0000 - val_loss: 2.5895 - val_acc: 0.7907\n",
            "Epoch 134/150\n",
            "9/9 [==============================] - 47s 5s/step - loss: 8.6635e-08 - acc: 1.0000 - val_loss: 2.5425 - val_acc: 0.7907\n",
            "Epoch 135/150\n",
            "9/9 [==============================] - 48s 5s/step - loss: 7.6238e-08 - acc: 1.0000 - val_loss: 2.6652 - val_acc: 0.7907\n",
            "Epoch 136/150\n",
            "9/9 [==============================] - 47s 5s/step - loss: 4.8515e-08 - acc: 1.0000 - val_loss: 2.6599 - val_acc: 0.7907\n",
            "Epoch 137/150\n",
            "9/9 [==============================] - 47s 5s/step - loss: 6.4456e-08 - acc: 1.0000 - val_loss: 2.5728 - val_acc: 0.7907\n",
            "Epoch 138/150\n",
            "9/9 [==============================] - 48s 5s/step - loss: 2.7723e-08 - acc: 1.0000 - val_loss: 2.6154 - val_acc: 0.7907\n",
            "Epoch 139/150\n",
            "9/9 [==============================] - 48s 5s/step - loss: 2.6337e-08 - acc: 1.0000 - val_loss: 2.7006 - val_acc: 0.7674\n",
            "Epoch 140/150\n",
            "9/9 [==============================] - 47s 5s/step - loss: 1.8020e-08 - acc: 1.0000 - val_loss: 2.5910 - val_acc: 0.7907\n",
            "Epoch 141/150\n",
            "9/9 [==============================] - 47s 5s/step - loss: 1.1089e-08 - acc: 1.0000 - val_loss: 2.6432 - val_acc: 0.7907\n",
            "Epoch 142/150\n",
            "9/9 [==============================] - 48s 5s/step - loss: 1.8713e-08 - acc: 1.0000 - val_loss: 2.7633 - val_acc: 0.7907\n",
            "Epoch 143/150\n",
            "9/9 [==============================] - 47s 5s/step - loss: 9.7031e-09 - acc: 1.0000 - val_loss: 2.7163 - val_acc: 0.7907\n",
            "Epoch 144/150\n",
            "9/9 [==============================] - 47s 5s/step - loss: 8.3169e-09 - acc: 1.0000 - val_loss: 2.7748 - val_acc: 0.7907\n",
            "Epoch 145/150\n",
            "9/9 [==============================] - 47s 5s/step - loss: 6.9308e-09 - acc: 1.0000 - val_loss: 2.7936 - val_acc: 0.7907\n",
            "Epoch 146/150\n",
            "9/9 [==============================] - 47s 5s/step - loss: 5.5446e-09 - acc: 1.0000 - val_loss: 2.7468 - val_acc: 0.7907\n",
            "Epoch 147/150\n",
            "9/9 [==============================] - 47s 5s/step - loss: 7.6238e-09 - acc: 1.0000 - val_loss: 2.6805 - val_acc: 0.7907\n",
            "Epoch 148/150\n",
            "9/9 [==============================] - 48s 5s/step - loss: 5.5446e-09 - acc: 1.0000 - val_loss: 2.7092 - val_acc: 0.7907\n",
            "Epoch 149/150\n",
            "9/9 [==============================] - 47s 5s/step - loss: 9.7031e-09 - acc: 1.0000 - val_loss: 2.7059 - val_acc: 0.8140\n",
            "Epoch 150/150\n",
            "9/9 [==============================] - 47s 5s/step - loss: 9.0100e-09 - acc: 1.0000 - val_loss: 2.6755 - val_acc: 0.8140\n"
          ]
        }
      ],
      "source": [
        "model = model.fit(X_train,\n",
        "                  y_train,\n",
        "                  epochs=150,\n",
        "                  batch_size=20,\n",
        "                  validation_data=(X_test,y_test))"
      ]
    },
    {
      "cell_type": "code",
      "execution_count": 7,
      "metadata": {
        "colab": {
          "base_uri": "https://localhost:8080/",
          "height": 545
        },
        "id": "6aLjSi823yBY",
        "outputId": "d8175b90-eb4d-4d9f-dcd6-5a6a907f6ccc"
      },
      "outputs": [
        {
          "output_type": "display_data",
          "data": {
            "text/plain": [
              "<Figure size 432x288 with 1 Axes>"
            ],
            "image/png": "[encoded data removed]"
          },
          "metadata": {
            "needs_background": "light"
          }
        },
        {
          "output_type": "display_data",
          "data": {
            "text/plain": [
              "<Figure size 432x288 with 1 Axes>"
            ],
            "image/png": "[encoded data removed]"
          },
          "metadata": {
            "needs_background": "light"
          }
        }
      ],
      "source": [
        "import matplotlib.pyplot as plt\n",
        "\n",
        "acc = model.history['acc']\n",
        "val_acc = model.history['val_acc']\n",
        "loss = model.history['loss']\n",
        "val_loss = model.history['val_loss']\n",
        "\n",
        "epochs = range(len(acc))\n",
        "\n",
        "plt.plot(epochs, acc, 'bo', label='Training acc')\n",
        "plt.plot(epochs, val_acc, 'b', label='Validation acc')\n",
        "plt.title('Training and validation accuracy')\n",
        "plt.legend()\n",
        "plt.savefig('property')\n",
        "\n",
        "plt.figure()\n",
        "\n",
        "plt.plot(epochs, loss, 'bo', label='Training loss')\n",
        "plt.plot(epochs, val_loss, 'b', label='Validation loss')\n",
        "plt.title('Training and validation loss')\n",
        "plt.legend()\n",
        "plt.savefig('loss')"
      ]
    },
    {
      "cell_type": "code",
      "execution_count": 8,
      "metadata": {
        "id": "9uMizVh4ptAu"
      },
      "outputs": [],
      "source": [
        "#モデルの保存\n",
        "\n",
        "json_string = model.model.to_json()\n",
        "open('/content/drive/MyDrive/tea_predict.json', 'w').write(json_string)\n",
        "\n",
        "#重みの保存\n",
        "\n",
        "hdf5_file = \"/content/drive/MyDrive/tea_predict.hdf5\"\n",
        "model.model.save_weights(hdf5_file)"
      ]
    },
    {
      "cell_type": "code",
      "execution_count": 10,
      "metadata": {
        "id": "ZmqzjO5CumdK"
      },
      "outputs": [],
      "source": [
        "from PIL import Image\n",
        "import os, glob\n",
        "import numpy as np\n",
        "import random, math\n",
        "\n",
        "# 画像が保存されているディレクトリのパス\n",
        "root_dir = \"/content/drive/MyDrive/sample_data\"\n",
        "# 画像が保存されているフォルダ名\n",
        "categories =[\"Pale Blue\",\"M87\",\"Stay sheep\",\"馬と鹿\",\"Bootleg\",\"かいじゅうずかん\"]\n",
        "\n",
        "X = [] # 画像データ\n",
        "Y = [] # ラベルデータ\n",
        "\n",
        "# フォルダごとに分けられたファイルを収集\n",
        "#（categoriesのidxと、画像のファイルパスが紐づいたリストを生成）\n",
        "allfiles = []\n",
        "for idx, cat in enumerate(categories):\n",
        "    image_dir = root_dir + \"/\" + cat\n",
        "    files = glob.glob(image_dir + \"/*.jpg\")\n",
        "    for f in files:\n",
        "        allfiles.append((idx, f))\n",
        "\n",
        "for cat, fname in allfiles:\n",
        "    img = Image.open(fname)\n",
        "    img = img.convert(\"RGB\")\n",
        "    img = img.resize((150, 150))\n",
        "    data = np.asarray(img)\n",
        "    X.append(data)\n",
        "    Y.append(cat)\n",
        "\n",
        "x = np.array(X)\n",
        "y = np.array(Y)\n",
        "\n",
        "np.save(\"/content/drive/MyDrive/tea_data_test_X_150.npy\", x)\n",
        "np.save(\"/content/drive/MyDrive/tea_data_test_Y_150.npy\", y)"
      ]
    },
    {
      "cell_type": "code",
      "execution_count": 12,
      "metadata": {
        "colab": {
          "base_uri": "https://localhost:8080/",
          "height": 245
        },
        "id": "YjUYF8hf7Lhd",
        "outputId": "c4265ec3-c423-49b1-efcd-9eff0833e565"
      },
      "outputs": [
        {
          "output_type": "error",
          "ename": "AttributeError",
          "evalue": "ignored",
          "traceback": [
            "\u001b[0;31m---------------------------------------------------------------------------\u001b[0m",
            "\u001b[0;31mAttributeError\u001b[0m                            Traceback (most recent call last)",
            "\u001b[0;32m<ipython-input-12-7c7bea28ca75>\u001b[0m in \u001b[0;36m<module>\u001b[0;34m()\u001b[0m\n\u001b[1;32m     10\u001b[0m \u001b[0mtest_Y\u001b[0m \u001b[0;34m=\u001b[0m \u001b[0mnp_utils\u001b[0m\u001b[0;34m.\u001b[0m\u001b[0mto_categorical\u001b[0m\u001b[0;34m(\u001b[0m\u001b[0mtest_Y\u001b[0m\u001b[0;34m,\u001b[0m \u001b[0;36m6\u001b[0m\u001b[0;34m)\u001b[0m\u001b[0;34m\u001b[0m\u001b[0;34m\u001b[0m\u001b[0m\n\u001b[1;32m     11\u001b[0m \u001b[0;34m\u001b[0m\u001b[0m\n\u001b[0;32m---> 12\u001b[0;31m \u001b[0mscore\u001b[0m \u001b[0;34m=\u001b[0m \u001b[0mmodel\u001b[0m\u001b[0;34m.\u001b[0m\u001b[0mmodel\u001b[0m\u001b[0;34m.\u001b[0m\u001b[0mevaluate\u001b[0m\u001b[0;34m(\u001b[0m\u001b[0mx\u001b[0m\u001b[0;34m=\u001b[0m\u001b[0mtest_X\u001b[0m\u001b[0;34m,\u001b[0m\u001b[0my\u001b[0m\u001b[0;34m=\u001b[0m\u001b[0mtest_Y\u001b[0m\u001b[0;34m)\u001b[0m\u001b[0;34m\u001b[0m\u001b[0;34m\u001b[0m\u001b[0m\n\u001b[0m\u001b[1;32m     13\u001b[0m \u001b[0;34m\u001b[0m\u001b[0m\n\u001b[1;32m     14\u001b[0m \u001b[0mprint\u001b[0m\u001b[0;34m(\u001b[0m\u001b[0;34m'loss='\u001b[0m\u001b[0;34m,\u001b[0m \u001b[0mscore\u001b[0m\u001b[0;34m[\u001b[0m\u001b[0;36m0\u001b[0m\u001b[0;34m]\u001b[0m\u001b[0;34m)\u001b[0m\u001b[0;34m\u001b[0m\u001b[0;34m\u001b[0m\u001b[0m\n",
            "\u001b[0;31mAttributeError\u001b[0m: 'Sequential' object has no attribute 'model'"
          ]
        }
      ],
      "source": [
        "# モデルの精度を測る\n",
        "\n",
        "#評価用のデータの読み込み\n",
        "test_X = np.load(\"/content/drive/MyDrive/tea_data_test_X_150.npy\")\n",
        "test_Y = np.load(\"/content/drive/MyDrive/tea_data_test_Y_150.npy\")\n",
        "\n",
        "#Yのデータをone-hotに変換\n",
        "from keras.utils import np_utils\n",
        "\n",
        "test_Y = np_utils.to_categorical(test_Y, 6)\n",
        "\n",
        "score = model.model.evaluate(x=test_X,y=test_Y)\n",
        "\n",
        "print('loss=', score[0])\n",
        "print('accuracy=', score[1])"
      ]
    },
    {
      "cell_type": "markdown",
      "metadata": {
        "id": "eUEekkdXxBSg"
      },
      "source": [
        "正しいジャケ写を選ばせるプログラム"
      ]
    },
    {
      "cell_type": "code",
      "execution_count": 15,
      "metadata": {
        "colab": {
          "base_uri": "https://localhost:8080/"
        },
        "id": "UwHE19eV8cFb",
        "outputId": "05804100-2fbb-4547-e806-507474d40aac"
      },
      "outputs": [
        {
          "output_type": "stream",
          "name": "stdout",
          "text": [
            "/content/drive/MyDrive/sample_data/かいじゅうずかん/IMG_7986.jpg\n",
            "綾鷹を選んでください。（もしかして：あなたが選んでいるのは「かいじゅうずかん」ではありませんか？）\n"
          ]
        }
      ],
      "source": [
        "#綾鷹を選ばせるプログラム\n",
        "\n",
        "from keras import models\n",
        "from keras.models import model_from_json\n",
        "from keras.preprocessing import image\n",
        "import numpy as np\n",
        "\n",
        "#保存したモデルの読み込み\n",
        "model = model_from_json(open('/content/drive/MyDrive/tea_predict.json').read())\n",
        "#保存した重みの読み込み\n",
        "model.load_weights('/content/drive/MyDrive/tea_predict.hdf5')\n",
        "\n",
        "categories = [\"Pale Blue\",\"M87\",\"Stay sheep\",\"馬と鹿\",\n",
        "              \"Bootleg\",\"かいじゅうずかん\"]\n",
        "\n",
        "#画像を読み込む\n",
        "img_path = str(input())\n",
        "img = image.load_img(img_path,target_size=(400, 400, 3))\n",
        "x = image.img_to_array(img)\n",
        "x = np.expand_dims(x, axis=0)\n",
        "\n",
        "#予測\n",
        "features = model.predict(x)\n",
        "\n",
        "#予測結果によって処理を分ける\n",
        "if features[0,0] == 1:\n",
        "    print (\"選ばれたのは、Pale blueでした。\")\n",
        "\n",
        "elif features[0,4] == 1:\n",
        "    print (\"選ばれたのは、Bootlegでした。\")\n",
        "\n",
        "else:\n",
        "    for i in range(0,6):\n",
        "          if features[0,i] == 1:\n",
        "              cat = categories[i]\n",
        "    message = \"もしかして：あなたが選んでいるのは「\" + cat + \"」ではありませんか？\"\n",
        "    print(message)"
      ]
    }
  ],
  "metadata": {
    "colab": {
      "name": "米津玄師ジャケ写判別機.ipynb",
      "provenance": [],
      "include_colab_link": true
    },
    "kernelspec": {
      "display_name": "Python 3",
      "name": "python3"
    },
    "language_info": {
      "name": "python"
    }
  },
  "nbformat": 4,
  "nbformat_minor": 0
}