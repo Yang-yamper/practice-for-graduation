{
  "cells": [
    {
      "cell_type": "markdown",
      "metadata": {
        "id": "view-in-github",
        "colab_type": "text"
      },
      "source": [
        "<a href=\"https://colab.research.google.com/github/Yang-yamper/practice-for-graduation/blob/main/%E7%B1%B3%E6%B4%A5%E7%8E%84%E5%B8%AB%E3%82%B8%E3%83%A3%E3%82%B1%E5%86%99%E5%88%A4%E5%88%A5%E6%A9%9F.ipynb\" target=\"_parent\"><img src=\"https://colab.research.google.com/assets/colab-badge.svg\" alt=\"Open In Colab\"/></a>"
      ]
    },
    {
      "cell_type": "markdown",
      "metadata": {
        "id": "WkpYQEzJrzYq"
      },
      "source": [
        "データの読み込み"
      ]
    },
    {
      "cell_type": "code",
      "execution_count": null,
      "metadata": {
        "colab": {
          "base_uri": "https://localhost:8080/"
        },
        "id": "iMyI3o9_zgqG",
        "outputId": "aa4f60b9-5857-4bbc-cdfb-e86726d01f90"
      },
      "outputs": [
        {
          "output_type": "stream",
          "name": "stdout",
          "text": [
            "Mounted at /content/drive\n"
          ]
        }
      ],
      "source": [
        "from google.colab import drive\n",
        "drive.mount('/content/drive')"
      ]
    },
    {
      "cell_type": "code",
      "execution_count": null,
      "metadata": {
        "colab": {
          "base_uri": "https://localhost:8080/"
        },
        "id": "JVc_wvNdrv7w",
        "outputId": "ccedfb64-7b91-42fc-ffbf-5027165e76c5"
      },
      "outputs": [
        {
          "output_type": "stream",
          "name": "stderr",
          "text": [
            "/usr/local/lib/python3.7/dist-packages/numpy/lib/npyio.py:528: VisibleDeprecationWarning: Creating an ndarray from ragged nested sequences (which is a list-or-tuple of lists-or-tuples-or ndarrays with different lengths or shapes) is deprecated. If you meant to do this, you must specify 'dtype=object' when creating the ndarray.\n",
            "  arr = np.asanyarray(arr)\n"
          ]
        }
      ],
      "source": [
        "from PIL import Image\n",
        "import os, glob\n",
        "import numpy as np\n",
        "import random, math\n",
        "\n",
        "#画像が保存されているルートディレクトリのパス\n",
        "root_dir = \"/content/drive/MyDrive/sample_data\"\n",
        "# 商品名\n",
        "categories = [\"Pale Blue\",\"M87\",\"Stay sheep\",\"馬と鹿\",\"Bootleg\",\"かいじゅうずかん\"]\n",
        "\n",
        "# 画像データ用配列\n",
        "X = []\n",
        "# ラベルデータ用配列\n",
        "Y = []\n",
        "\n",
        "#画像データごとにadd_sample()を呼び出し、X,Yの配列を返す関数\n",
        "def make_sample(files):\n",
        "    global X, Y\n",
        "    X = []\n",
        "    Y = []\n",
        "    for cat, fname in files:\n",
        "        add_sample(cat, fname)\n",
        "    return np.array(X), np.array(Y)\n",
        "\n",
        "#渡された画像データを読み込んでXに格納し、また、\n",
        "#画像データに対応するcategoriesのidxをY格納する関数\n",
        "def add_sample(cat, fname):\n",
        "    img = Image.open(fname)\n",
        "    img = img.convert(\"RGB\")\n",
        "    img = img.resize((400,400))\n",
        "    data = np.asarray(img)\n",
        "    X.append(data)\n",
        "    Y.append(cat)\n",
        "\n",
        "#全データ格納用配列\n",
        "allfiles = []\n",
        "\n",
        "#カテゴリ配列の各値と、それに対応するidxを認識し、全データをallfilesにまとめる\n",
        "for idx, cat in enumerate(categories):\n",
        "    image_dir = root_dir + \"/\" + cat\n",
        "    files = glob.glob(image_dir + \"/*.jpg\")\n",
        "    for f in files:\n",
        "        allfiles.append((idx, f))\n",
        "\n",
        "#シャッフル後、学習データと検証データに分ける\n",
        "random.shuffle(allfiles)\n",
        "th = math.floor(len(allfiles) * 0.8)\n",
        "train = allfiles[0:th]\n",
        "test  = allfiles[th:]\n",
        "X_train, y_train = make_sample(train)\n",
        "X_test, y_test = make_sample(test)\n",
        "xy = (X_train, X_test, y_train, y_test)\n",
        "#データを保存する（データの名前を「tea_data.npy」としている）\n",
        "np.save(\"/content/drive/MyDrive/tea_data.npy\", xy)"
      ]
    },
    {
      "cell_type": "markdown",
      "metadata": {
        "id": "oKmXIL87r_ex"
      },
      "source": [
        "モデルの構築"
      ]
    },
    {
      "cell_type": "code",
      "execution_count": null,
      "metadata": {
        "colab": {
          "base_uri": "https://localhost:8080/"
        },
        "id": "Mx6LEnCXr9-c",
        "outputId": "5a5757f6-a610-45c4-937d-8b0fe17c26c2"
      },
      "outputs": [
        {
          "output_type": "stream",
          "name": "stdout",
          "text": [
            "Model: \"sequential\"\n",
            "_________________________________________________________________\n",
            " Layer (type)                Output Shape              Param #   \n",
            "=================================================================\n",
            " conv2d (Conv2D)             (None, 398, 398, 32)      896       \n",
            "                                                                 \n",
            " max_pooling2d (MaxPooling2D  (None, 199, 199, 32)     0         \n",
            " )                                                               \n",
            "                                                                 \n",
            " conv2d_1 (Conv2D)           (None, 197, 197, 64)      18496     \n",
            "                                                                 \n",
            " max_pooling2d_1 (MaxPooling  (None, 98, 98, 64)       0         \n",
            " 2D)                                                             \n",
            "                                                                 \n",
            " conv2d_2 (Conv2D)           (None, 96, 96, 128)       73856     \n",
            "                                                                 \n",
            " max_pooling2d_2 (MaxPooling  (None, 48, 48, 128)      0         \n",
            " 2D)                                                             \n",
            "                                                                 \n",
            " conv2d_3 (Conv2D)           (None, 46, 46, 128)       147584    \n",
            "                                                                 \n",
            " max_pooling2d_3 (MaxPooling  (None, 23, 23, 128)      0         \n",
            " 2D)                                                             \n",
            "                                                                 \n",
            " flatten (Flatten)           (None, 67712)             0         \n",
            "                                                                 \n",
            " dense (Dense)               (None, 512)               34669056  \n",
            "                                                                 \n",
            " dense_1 (Dense)             (None, 6)                 3078      \n",
            "                                                                 \n",
            "=================================================================\n",
            "Total params: 34,912,966\n",
            "Trainable params: 34,912,966\n",
            "Non-trainable params: 0\n",
            "_________________________________________________________________\n"
          ]
        }
      ],
      "source": [
        "from keras import layers, models\n",
        "\n",
        "model = models.Sequential()\n",
        "model.add(layers.Conv2D(32,(3,3),activation=\"relu\",input_shape=(400,400,3)))\n",
        "model.add(layers.MaxPooling2D((2,2)))\n",
        "model.add(layers.Conv2D(64,(3,3),activation=\"relu\"))\n",
        "model.add(layers.MaxPooling2D((2,2)))\n",
        "model.add(layers.Conv2D(128,(3,3),activation=\"relu\"))\n",
        "model.add(layers.MaxPooling2D((2,2)))\n",
        "model.add(layers.Conv2D(128,(3,3),activation=\"relu\"))\n",
        "model.add(layers.MaxPooling2D((2,2)))\n",
        "model.add(layers.Flatten())\n",
        "model.add(layers.Dense(512,activation=\"relu\"))\n",
        "model.add(layers.Dense(6,activation=\"sigmoid\")) #分類先の種類分設定\n",
        "\n",
        "#モデル構成の確認\n",
        "model.summary()"
      ]
    },
    {
      "cell_type": "markdown",
      "metadata": {
        "id": "nhGrjSSgsDi-"
      },
      "source": [
        "モデルのコンパイル"
      ]
    },
    {
      "cell_type": "code",
      "execution_count": null,
      "metadata": {
        "id": "CdkqIyvBsBNU"
      },
      "outputs": [],
      "source": [
        "from tensorflow.keras.optimizers import RMSprop\n",
        "\n",
        "model.compile(loss=\"categorical_crossentropy\",optimizer=RMSprop(learning_rate=1e-4),metrics=[\"acc\"])"
      ]
    },
    {
      "cell_type": "markdown",
      "metadata": {
        "id": "PzmJM-FMsHfJ"
      },
      "source": [
        "モデルの正規化"
      ]
    },
    {
      "cell_type": "code",
      "execution_count": null,
      "metadata": {
        "id": "gw0lC_e3sFCs"
      },
      "outputs": [],
      "source": [
        "from keras.utils import np_utils\n",
        "import numpy as np\n",
        "\n",
        "categories = [\"Pale Blue\",\"M87\",\"Stay sheep\",\"馬と鹿\",\n",
        "              \"Bootleg\",\"かいじゅうずかん\"]\n",
        "nb_classes = len(categories)\n",
        "\n",
        "X_train, X_test,y_train, y_test = np.load(\"/content/drive/MyDrive/tea_data.npy\", allow_pickle=True)\n",
        "\n",
        "#データの正規化\n",
        "X_train = X_train.astype(\"float\") / 255\n",
        "X_test  = X_test.astype(\"float\")  / 255\n",
        "\n",
        "#kerasで扱えるようにcategoriesをベクトルに変換\n",
        "y_train = np_utils.to_categorical(y_train, nb_classes)\n",
        "y_test  = np_utils.to_categorical(y_test, nb_classes)"
      ]
    },
    {
      "cell_type": "markdown",
      "metadata": {
        "id": "X4fVLrxksM4d"
      },
      "source": [
        "モデルの学習"
      ]
    },
    {
      "cell_type": "code",
      "execution_count": null,
      "metadata": {
        "colab": {
          "base_uri": "https://localhost:8080/"
        },
        "id": "UeVnC8Q7sKnt",
        "outputId": "a5157029-da1f-44de-f9b7-7d22a8e9fe23"
      },
      "outputs": [
        {
          "output_type": "stream",
          "name": "stdout",
          "text": [
            "Epoch 1/150\n",
            "9/9 [==============================] - 67s 7s/step - loss: 1.6920 - acc: 0.2442 - val_loss: 1.5963 - val_acc: 0.2791\n",
            "Epoch 2/150\n",
            "9/9 [==============================] - 64s 7s/step - loss: 1.4754 - acc: 0.3779 - val_loss: 1.4293 - val_acc: 0.2791\n",
            "Epoch 3/150\n",
            "9/9 [==============================] - 66s 7s/step - loss: 1.1642 - acc: 0.5756 - val_loss: 1.0779 - val_acc: 0.4651\n",
            "Epoch 4/150\n",
            "9/9 [==============================] - 66s 7s/step - loss: 1.1009 - acc: 0.6163 - val_loss: 0.9121 - val_acc: 0.6512\n",
            "Epoch 5/150\n",
            "9/9 [==============================] - 64s 7s/step - loss: 0.8117 - acc: 0.7384 - val_loss: 0.8289 - val_acc: 0.6977\n",
            "Epoch 6/150\n",
            "9/9 [==============================] - 65s 7s/step - loss: 0.7452 - acc: 0.7035 - val_loss: 0.8233 - val_acc: 0.7209\n",
            "Epoch 7/150\n",
            "9/9 [==============================] - 67s 7s/step - loss: 0.5585 - acc: 0.8372 - val_loss: 0.6599 - val_acc: 0.7442\n",
            "Epoch 8/150\n",
            "9/9 [==============================] - 65s 7s/step - loss: 0.5454 - acc: 0.8023 - val_loss: 0.6116 - val_acc: 0.7674\n",
            "Epoch 9/150\n",
            "9/9 [==============================] - 65s 7s/step - loss: 0.4315 - acc: 0.8721 - val_loss: 1.5514 - val_acc: 0.3488\n",
            "Epoch 10/150\n",
            "9/9 [==============================] - 67s 7s/step - loss: 0.4115 - acc: 0.8605 - val_loss: 0.5801 - val_acc: 0.7442\n",
            "Epoch 11/150\n",
            "9/9 [==============================] - 65s 7s/step - loss: 0.3195 - acc: 0.8953 - val_loss: 0.6488 - val_acc: 0.7209\n",
            "Epoch 12/150\n",
            "9/9 [==============================] - 65s 7s/step - loss: 0.2319 - acc: 0.9419 - val_loss: 0.6082 - val_acc: 0.6977\n",
            "Epoch 13/150\n",
            "9/9 [==============================] - 68s 8s/step - loss: 0.1632 - acc: 0.9593 - val_loss: 0.6563 - val_acc: 0.7907\n",
            "Epoch 14/150\n",
            "9/9 [==============================] - 67s 8s/step - loss: 0.2334 - acc: 0.9070 - val_loss: 0.5813 - val_acc: 0.7209\n",
            "Epoch 15/150\n",
            "9/9 [==============================] - 66s 7s/step - loss: 0.0873 - acc: 0.9942 - val_loss: 0.3997 - val_acc: 0.8837\n",
            "Epoch 16/150\n",
            "9/9 [==============================] - 65s 7s/step - loss: 0.0620 - acc: 0.9942 - val_loss: 0.4210 - val_acc: 0.8372\n",
            "Epoch 17/150\n",
            "9/9 [==============================] - 66s 7s/step - loss: 0.0393 - acc: 1.0000 - val_loss: 1.3527 - val_acc: 0.6512\n",
            "Epoch 18/150\n",
            "9/9 [==============================] - 67s 8s/step - loss: 0.2271 - acc: 0.9302 - val_loss: 0.3668 - val_acc: 0.8837\n",
            "Epoch 19/150\n",
            "9/9 [==============================] - 66s 7s/step - loss: 0.0233 - acc: 1.0000 - val_loss: 0.4352 - val_acc: 0.8372\n",
            "Epoch 20/150\n",
            "9/9 [==============================] - 66s 7s/step - loss: 0.0141 - acc: 1.0000 - val_loss: 0.3582 - val_acc: 0.8605\n",
            "Epoch 21/150\n",
            "9/9 [==============================] - 65s 7s/step - loss: 0.0120 - acc: 1.0000 - val_loss: 0.7066 - val_acc: 0.7674\n",
            "Epoch 22/150\n",
            "9/9 [==============================] - 71s 8s/step - loss: 0.2250 - acc: 0.9302 - val_loss: 0.3847 - val_acc: 0.8605\n",
            "Epoch 23/150\n",
            "9/9 [==============================] - 66s 7s/step - loss: 0.0144 - acc: 1.0000 - val_loss: 0.3907 - val_acc: 0.8605\n",
            "Epoch 24/150\n",
            "9/9 [==============================] - 66s 7s/step - loss: 0.0076 - acc: 1.0000 - val_loss: 0.4052 - val_acc: 0.8837\n",
            "Epoch 25/150\n",
            "9/9 [==============================] - 68s 8s/step - loss: 0.0049 - acc: 1.0000 - val_loss: 0.4007 - val_acc: 0.8837\n",
            "Epoch 26/150\n",
            "9/9 [==============================] - 66s 7s/step - loss: 0.0787 - acc: 0.9767 - val_loss: 0.5326 - val_acc: 0.7907\n",
            "Epoch 27/150\n",
            "9/9 [==============================] - 66s 7s/step - loss: 0.0204 - acc: 1.0000 - val_loss: 0.4896 - val_acc: 0.8837\n",
            "Epoch 28/150\n",
            "9/9 [==============================] - 66s 7s/step - loss: 0.0041 - acc: 1.0000 - val_loss: 0.5038 - val_acc: 0.8605\n",
            "Epoch 29/150\n",
            "9/9 [==============================] - 68s 8s/step - loss: 0.0026 - acc: 1.0000 - val_loss: 0.5258 - val_acc: 0.8605\n",
            "Epoch 30/150\n",
            "9/9 [==============================] - 66s 7s/step - loss: 0.0018 - acc: 1.0000 - val_loss: 0.5349 - val_acc: 0.8605\n",
            "Epoch 31/150\n",
            "9/9 [==============================] - 66s 7s/step - loss: 0.0015 - acc: 1.0000 - val_loss: 0.4487 - val_acc: 0.8605\n",
            "Epoch 32/150\n",
            "9/9 [==============================] - 66s 7s/step - loss: 0.0064 - acc: 1.0000 - val_loss: 4.2043 - val_acc: 0.5116\n",
            "Epoch 33/150\n",
            "9/9 [==============================] - 68s 8s/step - loss: 0.3178 - acc: 0.9244 - val_loss: 0.4508 - val_acc: 0.8837\n",
            "Epoch 34/150\n",
            "9/9 [==============================] - 66s 7s/step - loss: 0.0066 - acc: 1.0000 - val_loss: 0.4605 - val_acc: 0.8837\n",
            "Epoch 35/150\n",
            "9/9 [==============================] - 66s 7s/step - loss: 0.0033 - acc: 1.0000 - val_loss: 0.4594 - val_acc: 0.8605\n",
            "Epoch 36/150\n",
            "9/9 [==============================] - 69s 8s/step - loss: 0.0019 - acc: 1.0000 - val_loss: 0.4704 - val_acc: 0.8837\n",
            "Epoch 37/150\n",
            "9/9 [==============================] - 68s 7s/step - loss: 0.0012 - acc: 1.0000 - val_loss: 0.4835 - val_acc: 0.8837\n",
            "Epoch 38/150\n",
            "9/9 [==============================] - 67s 7s/step - loss: 7.3402e-04 - acc: 1.0000 - val_loss: 0.5092 - val_acc: 0.8837\n",
            "Epoch 39/150\n",
            "9/9 [==============================] - 67s 7s/step - loss: 5.9404e-04 - acc: 1.0000 - val_loss: 0.5283 - val_acc: 0.8605\n",
            "Epoch 40/150\n",
            "9/9 [==============================] - 68s 8s/step - loss: 3.9842e-04 - acc: 1.0000 - val_loss: 0.5558 - val_acc: 0.8605\n",
            "Epoch 41/150\n",
            "9/9 [==============================] - 66s 7s/step - loss: 3.1156e-04 - acc: 1.0000 - val_loss: 0.7512 - val_acc: 0.8140\n",
            "Epoch 42/150\n",
            "9/9 [==============================] - 66s 7s/step - loss: 0.2798 - acc: 0.9419 - val_loss: 0.4867 - val_acc: 0.8837\n",
            "Epoch 43/150\n",
            "9/9 [==============================] - 66s 7s/step - loss: 0.0031 - acc: 1.0000 - val_loss: 0.4689 - val_acc: 0.9070\n",
            "Epoch 44/150\n",
            "9/9 [==============================] - 68s 8s/step - loss: 0.0017 - acc: 1.0000 - val_loss: 0.4644 - val_acc: 0.8837\n",
            "Epoch 45/150\n",
            "9/9 [==============================] - 66s 7s/step - loss: 0.0011 - acc: 1.0000 - val_loss: 0.4679 - val_acc: 0.8837\n",
            "Epoch 46/150\n",
            "9/9 [==============================] - 70s 8s/step - loss: 7.6284e-04 - acc: 1.0000 - val_loss: 0.4735 - val_acc: 0.8837\n",
            "Epoch 47/150\n",
            "9/9 [==============================] - 67s 7s/step - loss: 5.2176e-04 - acc: 1.0000 - val_loss: 0.4824 - val_acc: 0.8837\n",
            "Epoch 48/150\n",
            "9/9 [==============================] - 68s 8s/step - loss: 3.5295e-04 - acc: 1.0000 - val_loss: 0.5037 - val_acc: 0.8837\n",
            "Epoch 49/150\n",
            "9/9 [==============================] - 66s 7s/step - loss: 2.5255e-04 - acc: 1.0000 - val_loss: 0.5154 - val_acc: 0.8837\n",
            "Epoch 50/150\n",
            "9/9 [==============================] - 66s 7s/step - loss: 1.8132e-04 - acc: 1.0000 - val_loss: 0.5481 - val_acc: 0.8837\n",
            "Epoch 51/150\n",
            "9/9 [==============================] - 66s 7s/step - loss: 1.2262e-04 - acc: 1.0000 - val_loss: 0.5568 - val_acc: 0.8837\n",
            "Epoch 52/150\n",
            "9/9 [==============================] - 68s 7s/step - loss: 8.2308e-05 - acc: 1.0000 - val_loss: 0.5809 - val_acc: 0.8837\n",
            "Epoch 53/150\n",
            "9/9 [==============================] - 66s 7s/step - loss: 5.5124e-05 - acc: 1.0000 - val_loss: 0.6036 - val_acc: 0.8837\n",
            "Epoch 54/150\n",
            "9/9 [==============================] - 66s 7s/step - loss: 3.7685e-05 - acc: 1.0000 - val_loss: 0.6546 - val_acc: 0.8837\n",
            "Epoch 55/150\n",
            "9/9 [==============================] - 68s 8s/step - loss: 3.5890e-05 - acc: 1.0000 - val_loss: 0.6375 - val_acc: 0.8837\n",
            "Epoch 56/150\n",
            "9/9 [==============================] - 66s 7s/step - loss: 2.9856e-05 - acc: 1.0000 - val_loss: 0.6837 - val_acc: 0.8837\n",
            "Epoch 57/150\n",
            "9/9 [==============================] - 66s 7s/step - loss: 1.1021e-05 - acc: 1.0000 - val_loss: 0.7008 - val_acc: 0.8605\n",
            "Epoch 58/150\n",
            "9/9 [==============================] - 66s 7s/step - loss: 7.0430e-06 - acc: 1.0000 - val_loss: 0.6695 - val_acc: 0.8605\n",
            "Epoch 59/150\n",
            "9/9 [==============================] - 69s 8s/step - loss: 4.5729e-06 - acc: 1.0000 - val_loss: 0.7012 - val_acc: 0.8605\n",
            "Epoch 60/150\n",
            "9/9 [==============================] - 66s 7s/step - loss: 3.1237e-06 - acc: 1.0000 - val_loss: 0.7333 - val_acc: 0.8837\n",
            "Epoch 61/150\n",
            "9/9 [==============================] - 66s 7s/step - loss: 2.6136e-06 - acc: 1.0000 - val_loss: 1.0318 - val_acc: 0.8140\n",
            "Epoch 62/150\n",
            "9/9 [==============================] - 67s 7s/step - loss: 1.3224 - acc: 0.9244 - val_loss: 0.6577 - val_acc: 0.8837\n",
            "Epoch 63/150\n",
            "9/9 [==============================] - 68s 8s/step - loss: 1.5502e-04 - acc: 1.0000 - val_loss: 0.6545 - val_acc: 0.8837\n",
            "Epoch 64/150\n",
            "9/9 [==============================] - 66s 7s/step - loss: 1.4072e-04 - acc: 1.0000 - val_loss: 0.6506 - val_acc: 0.8837\n",
            "Epoch 65/150\n",
            "9/9 [==============================] - 66s 7s/step - loss: 1.2386e-04 - acc: 1.0000 - val_loss: 0.6457 - val_acc: 0.8837\n",
            "Epoch 66/150\n",
            "9/9 [==============================] - 66s 7s/step - loss: 1.0719e-04 - acc: 1.0000 - val_loss: 0.6406 - val_acc: 0.8837\n",
            "Epoch 67/150\n",
            "9/9 [==============================] - 66s 7s/step - loss: 9.0714e-05 - acc: 1.0000 - val_loss: 0.6344 - val_acc: 0.8837\n",
            "Epoch 68/150\n",
            "9/9 [==============================] - 66s 7s/step - loss: 7.1444e-05 - acc: 1.0000 - val_loss: 0.6300 - val_acc: 0.8837\n",
            "Epoch 69/150\n",
            "9/9 [==============================] - 66s 7s/step - loss: 5.9032e-05 - acc: 1.0000 - val_loss: 0.6240 - val_acc: 0.8837\n",
            "Epoch 70/150\n",
            "9/9 [==============================] - 66s 7s/step - loss: 4.7233e-05 - acc: 1.0000 - val_loss: 0.6200 - val_acc: 0.8837\n",
            "Epoch 71/150\n",
            "9/9 [==============================] - 66s 7s/step - loss: 3.7727e-05 - acc: 1.0000 - val_loss: 0.6137 - val_acc: 0.8837\n",
            "Epoch 72/150\n",
            "9/9 [==============================] - 66s 7s/step - loss: 2.9936e-05 - acc: 1.0000 - val_loss: 0.6089 - val_acc: 0.8837\n",
            "Epoch 73/150\n",
            "9/9 [==============================] - 66s 7s/step - loss: 2.4413e-05 - acc: 1.0000 - val_loss: 0.6216 - val_acc: 0.8837\n",
            "Epoch 74/150\n",
            "9/9 [==============================] - 67s 7s/step - loss: 1.8546e-05 - acc: 1.0000 - val_loss: 0.6239 - val_acc: 0.8837\n",
            "Epoch 75/150\n",
            "9/9 [==============================] - 66s 7s/step - loss: 1.3784e-05 - acc: 1.0000 - val_loss: 0.6354 - val_acc: 0.8837\n",
            "Epoch 76/150\n",
            "9/9 [==============================] - 68s 8s/step - loss: 1.0268e-05 - acc: 1.0000 - val_loss: 0.6431 - val_acc: 0.8837\n",
            "Epoch 77/150\n",
            "9/9 [==============================] - 67s 7s/step - loss: 7.7762e-06 - acc: 1.0000 - val_loss: 0.6625 - val_acc: 0.8837\n",
            "Epoch 78/150\n",
            "9/9 [==============================] - 66s 7s/step - loss: 5.2965e-06 - acc: 1.0000 - val_loss: 0.6672 - val_acc: 0.8837\n",
            "Epoch 79/150\n",
            "9/9 [==============================] - 67s 7s/step - loss: 3.9512e-06 - acc: 1.0000 - val_loss: 0.6833 - val_acc: 0.8837\n",
            "Epoch 80/150\n",
            "9/9 [==============================] - 67s 7s/step - loss: 2.8097e-06 - acc: 1.0000 - val_loss: 0.6992 - val_acc: 0.8837\n",
            "Epoch 81/150\n",
            "9/9 [==============================] - 67s 7s/step - loss: 1.9933e-06 - acc: 1.0000 - val_loss: 0.7110 - val_acc: 0.8837\n",
            "Epoch 82/150\n",
            "9/9 [==============================] - 68s 8s/step - loss: 1.4042e-06 - acc: 1.0000 - val_loss: 0.7386 - val_acc: 0.8837\n",
            "Epoch 83/150\n",
            "9/9 [==============================] - 67s 7s/step - loss: 1.0930e-06 - acc: 1.0000 - val_loss: 0.7615 - val_acc: 0.8837\n",
            "Epoch 84/150\n",
            "9/9 [==============================] - 67s 7s/step - loss: 7.3327e-07 - acc: 1.0000 - val_loss: 0.8014 - val_acc: 0.8837\n",
            "Epoch 85/150\n",
            "9/9 [==============================] - 67s 7s/step - loss: 5.9813e-07 - acc: 1.0000 - val_loss: 0.7763 - val_acc: 0.8837\n",
            "Epoch 86/150\n",
            "9/9 [==============================] - 69s 8s/step - loss: 4.2763e-07 - acc: 1.0000 - val_loss: 0.8492 - val_acc: 0.8837\n",
            "Epoch 87/150\n",
            "9/9 [==============================] - 67s 7s/step - loss: 3.1535e-07 - acc: 1.0000 - val_loss: 0.8392 - val_acc: 0.8837\n",
            "Epoch 88/150\n",
            "9/9 [==============================] - 66s 7s/step - loss: 2.3495e-07 - acc: 1.0000 - val_loss: 0.8776 - val_acc: 0.8837\n",
            "Epoch 89/150\n",
            "9/9 [==============================] - 66s 7s/step - loss: 2.0862e-07 - acc: 1.0000 - val_loss: 0.8953 - val_acc: 0.8837\n",
            "Epoch 90/150\n",
            "9/9 [==============================] - 69s 8s/step - loss: 1.4693e-07 - acc: 1.0000 - val_loss: 0.8457 - val_acc: 0.8837\n",
            "Epoch 91/150\n",
            "9/9 [==============================] - 66s 7s/step - loss: 1.1574e-07 - acc: 1.0000 - val_loss: 0.8635 - val_acc: 0.8837\n",
            "Epoch 92/150\n",
            "9/9 [==============================] - 67s 7s/step - loss: 9.2872e-08 - acc: 1.0000 - val_loss: 0.8883 - val_acc: 0.8605\n",
            "Epoch 93/150\n",
            "9/9 [==============================] - 67s 7s/step - loss: 6.4456e-08 - acc: 1.0000 - val_loss: 0.9979 - val_acc: 0.8837\n",
            "Epoch 94/150\n",
            "9/9 [==============================] - 69s 8s/step - loss: 6.4456e-08 - acc: 1.0000 - val_loss: 0.9375 - val_acc: 0.8605\n",
            "Epoch 95/150\n",
            "9/9 [==============================] - 66s 7s/step - loss: 4.5050e-08 - acc: 1.0000 - val_loss: 0.9578 - val_acc: 0.8372\n",
            "Epoch 96/150\n",
            "9/9 [==============================] - 66s 7s/step - loss: 0.8476 - acc: 0.9302 - val_loss: 0.8729 - val_acc: 0.8605\n",
            "Epoch 97/150\n",
            "9/9 [==============================] - 66s 7s/step - loss: 4.3134e-04 - acc: 1.0000 - val_loss: 0.8495 - val_acc: 0.8605\n",
            "Epoch 98/150\n",
            "9/9 [==============================] - 68s 8s/step - loss: 2.5735e-04 - acc: 1.0000 - val_loss: 0.8314 - val_acc: 0.8837\n",
            "Epoch 99/150\n",
            "9/9 [==============================] - 66s 7s/step - loss: 1.6525e-04 - acc: 1.0000 - val_loss: 0.8128 - val_acc: 0.8837\n",
            "Epoch 100/150\n",
            "9/9 [==============================] - 66s 7s/step - loss: 1.1897e-04 - acc: 1.0000 - val_loss: 0.7994 - val_acc: 0.8837\n",
            "Epoch 101/150\n",
            "9/9 [==============================] - 66s 7s/step - loss: 7.8687e-05 - acc: 1.0000 - val_loss: 0.7853 - val_acc: 0.8837\n",
            "Epoch 102/150\n",
            "9/9 [==============================] - 68s 8s/step - loss: 5.1405e-05 - acc: 1.0000 - val_loss: 0.7753 - val_acc: 0.8837\n",
            "Epoch 103/150\n",
            "9/9 [==============================] - 66s 7s/step - loss: 3.5123e-05 - acc: 1.0000 - val_loss: 0.7672 - val_acc: 0.9070\n",
            "Epoch 104/150\n",
            "9/9 [==============================] - 66s 7s/step - loss: 2.4316e-05 - acc: 1.0000 - val_loss: 0.7597 - val_acc: 0.9070\n",
            "Epoch 105/150\n",
            "9/9 [==============================] - 66s 7s/step - loss: 1.6746e-05 - acc: 1.0000 - val_loss: 0.7562 - val_acc: 0.9070\n",
            "Epoch 106/150\n",
            "9/9 [==============================] - 68s 8s/step - loss: 1.1600e-05 - acc: 1.0000 - val_loss: 0.7532 - val_acc: 0.9070\n",
            "Epoch 107/150\n",
            "9/9 [==============================] - 67s 7s/step - loss: 8.3860e-06 - acc: 1.0000 - val_loss: 0.7535 - val_acc: 0.9070\n",
            "Epoch 108/150\n",
            "9/9 [==============================] - 66s 7s/step - loss: 5.7171e-06 - acc: 1.0000 - val_loss: 0.7535 - val_acc: 0.9070\n",
            "Epoch 109/150\n",
            "9/9 [==============================] - 66s 7s/step - loss: 3.8070e-06 - acc: 1.0000 - val_loss: 0.7531 - val_acc: 0.8837\n",
            "Epoch 110/150\n",
            "9/9 [==============================] - 68s 8s/step - loss: 2.6475e-06 - acc: 1.0000 - val_loss: 0.7526 - val_acc: 0.8837\n",
            "Epoch 111/150\n",
            "9/9 [==============================] - 66s 7s/step - loss: 1.8117e-06 - acc: 1.0000 - val_loss: 0.7531 - val_acc: 0.8837\n",
            "Epoch 112/150\n",
            "9/9 [==============================] - 67s 7s/step - loss: 1.2240e-06 - acc: 1.0000 - val_loss: 0.7529 - val_acc: 0.8837\n",
            "Epoch 113/150\n",
            "9/9 [==============================] - 66s 7s/step - loss: 8.8644e-07 - acc: 1.0000 - val_loss: 0.7601 - val_acc: 0.8837\n",
            "Epoch 114/150\n",
            "9/9 [==============================] - 68s 8s/step - loss: 6.2654e-07 - acc: 1.0000 - val_loss: 0.7639 - val_acc: 0.8837\n",
            "Epoch 115/150\n",
            "9/9 [==============================] - 66s 7s/step - loss: 4.4981e-07 - acc: 1.0000 - val_loss: 0.7696 - val_acc: 0.8837\n",
            "Epoch 116/150\n",
            "9/9 [==============================] - 66s 7s/step - loss: 3.4307e-07 - acc: 1.0000 - val_loss: 0.7800 - val_acc: 0.8837\n",
            "Epoch 117/150\n",
            "9/9 [==============================] - 66s 7s/step - loss: 2.5089e-07 - acc: 1.0000 - val_loss: 0.7938 - val_acc: 0.8837\n",
            "Epoch 118/150\n",
            "9/9 [==============================] - 66s 7s/step - loss: 1.8297e-07 - acc: 1.0000 - val_loss: 0.7949 - val_acc: 0.8837\n",
            "Epoch 119/150\n",
            "9/9 [==============================] - 68s 7s/step - loss: 1.4763e-07 - acc: 1.0000 - val_loss: 0.8068 - val_acc: 0.8837\n",
            "Epoch 120/150\n",
            "9/9 [==============================] - 66s 7s/step - loss: 1.1089e-07 - acc: 1.0000 - val_loss: 0.8269 - val_acc: 0.8837\n",
            "Epoch 121/150\n",
            "9/9 [==============================] - 66s 7s/step - loss: 8.5942e-08 - acc: 1.0000 - val_loss: 0.8375 - val_acc: 0.8837\n",
            "Epoch 122/150\n",
            "9/9 [==============================] - 66s 7s/step - loss: 7.1387e-08 - acc: 1.0000 - val_loss: 0.8650 - val_acc: 0.8837\n",
            "Epoch 123/150\n",
            "9/9 [==============================] - 68s 8s/step - loss: 5.1981e-08 - acc: 1.0000 - val_loss: 0.8410 - val_acc: 0.8837\n",
            "Epoch 124/150\n",
            "9/9 [==============================] - 66s 7s/step - loss: 4.2278e-08 - acc: 1.0000 - val_loss: 0.8813 - val_acc: 0.8837\n",
            "Epoch 125/150\n",
            "9/9 [==============================] - 66s 7s/step - loss: 3.4654e-08 - acc: 1.0000 - val_loss: 0.8395 - val_acc: 0.8837\n",
            "Epoch 126/150\n",
            "9/9 [==============================] - 66s 7s/step - loss: 3.0495e-08 - acc: 1.0000 - val_loss: 0.8854 - val_acc: 0.8837\n",
            "Epoch 127/150\n",
            "9/9 [==============================] - 68s 8s/step - loss: 2.4951e-08 - acc: 1.0000 - val_loss: 1.0740 - val_acc: 0.8605\n",
            "Epoch 128/150\n",
            "9/9 [==============================] - 66s 7s/step - loss: 1.1873 - acc: 0.9128 - val_loss: 0.9920 - val_acc: 0.8140\n",
            "Epoch 129/150\n",
            "9/9 [==============================] - 66s 7s/step - loss: 9.9681e-05 - acc: 1.0000 - val_loss: 0.9794 - val_acc: 0.8140\n",
            "Epoch 130/150\n",
            "9/9 [==============================] - 66s 7s/step - loss: 8.0441e-05 - acc: 1.0000 - val_loss: 0.9616 - val_acc: 0.8140\n",
            "Epoch 131/150\n",
            "9/9 [==============================] - 68s 8s/step - loss: 6.2291e-05 - acc: 1.0000 - val_loss: 0.9400 - val_acc: 0.8140\n",
            "Epoch 132/150\n",
            "9/9 [==============================] - 66s 7s/step - loss: 4.7916e-05 - acc: 1.0000 - val_loss: 0.9208 - val_acc: 0.8140\n",
            "Epoch 133/150\n",
            "9/9 [==============================] - 66s 7s/step - loss: 3.6170e-05 - acc: 1.0000 - val_loss: 0.8931 - val_acc: 0.8140\n",
            "Epoch 134/150\n",
            "9/9 [==============================] - 66s 7s/step - loss: 2.5442e-05 - acc: 1.0000 - val_loss: 0.8720 - val_acc: 0.8140\n",
            "Epoch 135/150\n",
            "9/9 [==============================] - 68s 8s/step - loss: 1.9060e-05 - acc: 1.0000 - val_loss: 0.8493 - val_acc: 0.8372\n",
            "Epoch 136/150\n",
            "9/9 [==============================] - 66s 7s/step - loss: 1.4050e-05 - acc: 1.0000 - val_loss: 0.8259 - val_acc: 0.8372\n",
            "Epoch 137/150\n",
            "9/9 [==============================] - 66s 7s/step - loss: 1.0354e-05 - acc: 1.0000 - val_loss: 0.8058 - val_acc: 0.8372\n",
            "Epoch 138/150\n",
            "9/9 [==============================] - 66s 7s/step - loss: 7.7374e-06 - acc: 1.0000 - val_loss: 0.7859 - val_acc: 0.8605\n",
            "Epoch 139/150\n",
            "9/9 [==============================] - 68s 8s/step - loss: 5.8363e-06 - acc: 1.0000 - val_loss: 0.7704 - val_acc: 0.8605\n",
            "Epoch 140/150\n",
            "9/9 [==============================] - 66s 7s/step - loss: 4.4890e-06 - acc: 1.0000 - val_loss: 0.7588 - val_acc: 0.8605\n",
            "Epoch 141/150\n",
            "9/9 [==============================] - 66s 7s/step - loss: 3.5922e-06 - acc: 1.0000 - val_loss: 0.7489 - val_acc: 0.8605\n",
            "Epoch 142/150\n",
            "9/9 [==============================] - 66s 7s/step - loss: 2.7827e-06 - acc: 1.0000 - val_loss: 0.7499 - val_acc: 0.8605\n",
            "Epoch 143/150\n",
            "9/9 [==============================] - 68s 8s/step - loss: 2.1707e-06 - acc: 1.0000 - val_loss: 0.7464 - val_acc: 0.8605\n",
            "Epoch 144/150\n",
            "9/9 [==============================] - 66s 7s/step - loss: 1.6821e-06 - acc: 1.0000 - val_loss: 0.7497 - val_acc: 0.8605\n",
            "Epoch 145/150\n",
            "9/9 [==============================] - 66s 7s/step - loss: 1.3064e-06 - acc: 1.0000 - val_loss: 0.7493 - val_acc: 0.8605\n",
            "Epoch 146/150\n",
            "9/9 [==============================] - 66s 7s/step - loss: 9.2456e-07 - acc: 1.0000 - val_loss: 0.7555 - val_acc: 0.8837\n",
            "Epoch 147/150\n",
            "9/9 [==============================] - 68s 8s/step - loss: 6.7436e-07 - acc: 1.0000 - val_loss: 0.7635 - val_acc: 0.8837\n",
            "Epoch 148/150\n",
            "9/9 [==============================] - 66s 7s/step - loss: 4.8030e-07 - acc: 1.0000 - val_loss: 0.7726 - val_acc: 0.8837\n",
            "Epoch 149/150\n",
            "9/9 [==============================] - 66s 7s/step - loss: 3.3129e-07 - acc: 1.0000 - val_loss: 0.7869 - val_acc: 0.8837\n",
            "Epoch 150/150\n",
            "9/9 [==============================] - 66s 7s/step - loss: 2.2317e-07 - acc: 1.0000 - val_loss: 0.8086 - val_acc: 0.8837\n"
          ]
        }
      ],
      "source": [
        "model = model.fit(X_train,\n",
        "                  y_train,\n",
        "                  epochs=150,\n",
        "                  batch_size=20,\n",
        "                  validation_data=(X_test,y_test))"
      ]
    },
    {
      "cell_type": "code",
      "execution_count": 7,
      "metadata": {
        "colab": {
          "base_uri": "https://localhost:8080/",
          "height": 545
        },
        "id": "6aLjSi823yBY",
        "outputId": "851bb57b-c107-4f0a-f625-c57ea4fea511"
      },
      "outputs": [
        {
          "output_type": "display_data",
          "data": {
            "text/plain": [
              "<Figure size 432x288 with 1 Axes>"
            ],
            "image/png": "[encoded data removed]"
          },
          "metadata": {
            "needs_background": "light"
          }
        },
        {
          "output_type": "display_data",
          "data": {
            "text/plain": [
              "<Figure size 432x288 with 1 Axes>"
            ],
            "image/png": "[encoded data removed]"
          },
          "metadata": {
            "needs_background": "light"
          }
        }
      ],
      "source": [
        "import matplotlib.pyplot as plt\n",
        "\n",
        "acc = model.history['acc']\n",
        "val_acc = model.history['val_acc']\n",
        "loss = model.history['loss']\n",
        "val_loss = model.history['val_loss']\n",
        "\n",
        "epochs = range(len(acc))\n",
        "\n",
        "plt.plot(epochs, acc, 'bo', label='Training acc')\n",
        "plt.plot(epochs, val_acc, 'b', label='Validation acc')\n",
        "plt.title('Training and validation accuracy')\n",
        "plt.legend()\n",
        "plt.savefig('property')\n",
        "\n",
        "plt.figure()\n",
        "\n",
        "plt.plot(epochs, loss, 'bo', label='Training loss')\n",
        "plt.plot(epochs, val_loss, 'b', label='Validation loss')\n",
        "plt.title('Training and validation loss')\n",
        "plt.legend()\n",
        "plt.savefig('loss')"
      ]
    },
    {
      "cell_type": "code",
      "execution_count": 8,
      "metadata": {
        "id": "9uMizVh4ptAu"
      },
      "outputs": [],
      "source": [
        "#モデルの保存\n",
        "\n",
        "json_string = model.model.to_json()\n",
        "open('/content/drive/MyDrive/tea_predict.json', 'w').write(json_string)\n",
        "\n",
        "#重みの保存\n",
        "\n",
        "hdf5_file = \"/content/drive/MyDrive/tea_predict.hdf5\"\n",
        "model.model.save_weights(hdf5_file)"
      ]
    },
    {
      "cell_type": "code",
      "execution_count": 9,
      "metadata": {
        "id": "ZmqzjO5CumdK"
      },
      "outputs": [],
      "source": [
        "from PIL import Image\n",
        "import os, glob\n",
        "import numpy as np\n",
        "import random, math\n",
        "\n",
        "# 画像が保存されているディレクトリのパス\n",
        "root_dir = \"/content/drive/MyDrive/sample_data\"\n",
        "# 画像が保存されているフォルダ名\n",
        "categories =[\"Pale Blue\",\"M87\",\"Stay sheep\",\"馬と鹿\",\"Bootleg\",\"かいじゅうずかん\"]\n",
        "\n",
        "X = [] # 画像データ\n",
        "Y = [] # ラベルデータ\n",
        "\n",
        "# フォルダごとに分けられたファイルを収集\n",
        "#（categoriesのidxと、画像のファイルパスが紐づいたリストを生成）\n",
        "allfiles = []\n",
        "for idx, cat in enumerate(categories):\n",
        "    image_dir = root_dir + \"/\" + cat\n",
        "    files = glob.glob(image_dir + \"/*.jpg\")\n",
        "    for f in files:\n",
        "        allfiles.append((idx, f))\n",
        "\n",
        "for cat, fname in allfiles:\n",
        "    img = Image.open(fname)\n",
        "    img = img.convert(\"RGB\")\n",
        "    img = img.resize((150, 150))\n",
        "    data = np.asarray(img)\n",
        "    X.append(data)\n",
        "    Y.append(cat)\n",
        "\n",
        "x = np.array(X)\n",
        "y = np.array(Y)\n",
        "\n",
        "np.save(\"/content/drive/MyDrive/tea_data_test_X_150.npy\", x)\n",
        "np.save(\"/content/drive/MyDrive/tea_data_test_Y_150.npy\", y)"
      ]
    },
    {
      "cell_type": "code",
      "execution_count": null,
      "metadata": {
        "colab": {
          "base_uri": "https://localhost:8080/"
        },
        "id": "YjUYF8hf7Lhd",
        "outputId": "38cef634-6796-4b50-cd56-1138b50b4aa3"
      },
      "outputs": [
        {
          "name": "stdout",
          "output_type": "stream",
          "text": [
            "7/7 [==============================] - 3s 356ms/step - loss: 24.9354 - acc: 0.9070\n",
            "loss= 24.9354248046875\n",
            "accuracy= 0.9069767594337463\n"
          ]
        }
      ],
      "source": [
        "# モデルの精度を測る\n",
        "\n",
        "#評価用のデータの読み込み\n",
        "test_X = np.load(\"/content/drive/MyDrive/tea_data_test_X_150.npy\")\n",
        "test_Y = np.load(\"/content/drive/MyDrive/tea_data_test_Y_150.npy\")\n",
        "\n",
        "#Yのデータをone-hotに変換\n",
        "from keras.utils import np_utils\n",
        "\n",
        "test_Y = np_utils.to_categorical(test_Y, 6)\n",
        "\n",
        "score = model.model.evaluate(x=test_X,y=test_Y)\n",
        "\n",
        "print('loss=', score[0])\n",
        "print('accuracy=', score[1])"
      ]
    },
    {
      "cell_type": "markdown",
      "metadata": {
        "id": "eUEekkdXxBSg"
      },
      "source": [
        "正しいジャケ写を選ばせるプログラム"
      ]
    },
    {
      "cell_type": "code",
      "execution_count": 11,
      "metadata": {
        "colab": {
          "base_uri": "https://localhost:8080/"
        },
        "id": "UwHE19eV8cFb",
        "outputId": "a728821f-b3b6-4bff-a427-cee30bd49e3a"
      },
      "outputs": [
        {
          "output_type": "stream",
          "name": "stdout",
          "text": [
            "/content/drive/MyDrive/sample_data/Bootleg/IMG_7890.jpg\n",
            "選ばれたのは、Pale blueでした。\n"
          ]
        }
      ],
      "source": [
        "#綾鷹を選ばせるプログラム\n",
        "\n",
        "from keras import models\n",
        "from keras.models import model_from_json\n",
        "from keras.preprocessing import image\n",
        "import numpy as np\n",
        "\n",
        "#保存したモデルの読み込み\n",
        "model = model_from_json(open('/content/drive/MyDrive/tea_predict.json').read())\n",
        "#保存した重みの読み込み\n",
        "model.load_weights('/content/drive/MyDrive/tea_predict.hdf5')\n",
        "\n",
        "categories = [\"Pale Blue\",\"M87\",\"Stay sheep\",\"馬と鹿\",\n",
        "              \"Bootleg\",\"かいじゅうずかん\"]\n",
        "\n",
        "#画像を読み込む\n",
        "img_path = str(input())\n",
        "img = image.load_img(img_path,target_size=(400, 400, 3))\n",
        "x = image.img_to_array(img)\n",
        "x = np.expand_dims(x, axis=0)\n",
        "\n",
        "#予測\n",
        "features = model.predict(x)\n",
        "\n",
        "#予測結果によって処理を分ける\n",
        "if features[0,0] == 1:\n",
        "    print (\"選ばれたのは、Pale blueでした。\")\n",
        "\n",
        "elif features[0,4] == 1:\n",
        "    print (\"選ばれたのは、Bootlegでした。\")\n",
        "\n",
        "else:\n",
        "    for i in range(0,10):\n",
        "          if features[0,i] == 1:\n",
        "              cat = categories[i]\n",
        "    message = \"綾鷹を選んでください。（もしかして：あなたが選んでいるのは「\" + cat + \"」ではありませんか？）\"\n",
        "    print(message)"
      ]
    }
  ],
  "metadata": {
    "colab": {
      "name": "米津玄師ジャケ写判別機.ipynb",
      "provenance": [],
      "include_colab_link": true
    },
    "kernelspec": {
      "display_name": "Python 3",
      "name": "python3"
    },
    "language_info": {
      "name": "python"
    }
  },
  "nbformat": 4,
  "nbformat_minor": 0
}