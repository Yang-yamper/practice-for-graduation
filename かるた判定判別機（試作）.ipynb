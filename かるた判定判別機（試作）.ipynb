{
  "cells": [
    {
      "cell_type": "markdown",
      "metadata": {
        "id": "view-in-github",
        "colab_type": "text"
      },
      "source": [
        "<a href=\"https://colab.research.google.com/github/Yang-yamper/practice-for-graduation/blob/main/%E3%81%8B%E3%82%8B%E3%81%9F%E5%88%A4%E5%AE%9A%E5%88%A4%E5%88%A5%E6%A9%9F%EF%BC%88%E8%A9%A6%E4%BD%9C%EF%BC%89.ipynb\" target=\"_parent\"><img src=\"https://colab.research.google.com/assets/colab-badge.svg\" alt=\"Open In Colab\"/></a>"
      ]
    },
    {
      "cell_type": "markdown",
      "metadata": {
        "id": "WkpYQEzJrzYq"
      },
      "source": [
        "データの読み込み"
      ]
    },
    {
      "cell_type": "code",
      "execution_count": 1,
      "metadata": {
        "colab": {
          "base_uri": "https://localhost:8080/"
        },
        "id": "iMyI3o9_zgqG",
        "outputId": "7770d726-b460-4b66-9c01-7c449a18519c"
      },
      "outputs": [
        {
          "output_type": "stream",
          "name": "stdout",
          "text": [
            "Mounted at /content/drive\n"
          ]
        }
      ],
      "source": [
        "from google.colab import drive\n",
        "drive.mount('/content/drive')"
      ]
    },
    {
      "cell_type": "code",
      "execution_count": 2,
      "metadata": {
        "colab": {
          "base_uri": "https://localhost:8080/"
        },
        "id": "JVc_wvNdrv7w",
        "outputId": "ef265116-b404-4f0d-ebb5-83af1cb95fc4"
      },
      "outputs": [
        {
          "output_type": "stream",
          "name": "stderr",
          "text": [
            "/usr/local/lib/python3.7/dist-packages/numpy/lib/npyio.py:528: VisibleDeprecationWarning: Creating an ndarray from ragged nested sequences (which is a list-or-tuple of lists-or-tuples-or ndarrays with different lengths or shapes) is deprecated. If you meant to do this, you must specify 'dtype=object' when creating the ndarray.\n",
            "  arr = np.asanyarray(arr)\n"
          ]
        }
      ],
      "source": [
        "from PIL import Image\n",
        "import os, glob\n",
        "import numpy as np\n",
        "import random, math\n",
        "\n",
        "#画像が保存されているルートディレクトリのパス\n",
        "root_dir = \"/content/drive/MyDrive/result_range\"\n",
        "# 商品名\n",
        "categories = [\"left\",\"right\"]\n",
        "\n",
        "# 画像データ用配列\n",
        "X = []\n",
        "# ラベルデータ用配列\n",
        "Y = []\n",
        "\n",
        "#画像データごとにadd_sample()を呼び出し、X,Yの配列を返す関数\n",
        "def make_sample(files):\n",
        "    global X, Y\n",
        "    X = []\n",
        "    Y = []\n",
        "    for cat, fname in files:\n",
        "        add_sample(cat, fname)\n",
        "    return np.array(X), np.array(Y)\n",
        "\n",
        "#渡された画像データを読み込んでXに格納し、また、\n",
        "#画像データに対応するcategoriesのidxをY格納する関数\n",
        "def add_sample(cat, fname):\n",
        "    img = Image.open(fname)\n",
        "    img = img.convert(\"RGB\")\n",
        "    img = img.resize((400,400))\n",
        "    data = np.asarray(img)\n",
        "    X.append(data)\n",
        "    Y.append(cat)\n",
        "\n",
        "#全データ格納用配列\n",
        "allfiles = []\n",
        "\n",
        "#カテゴリ配列の各値と、それに対応するidxを認識し、全データをallfilesにまとめる\n",
        "for idx, cat in enumerate(categories):\n",
        "    image_dir = root_dir + \"/\" + cat\n",
        "    files = glob.glob(image_dir + \"/*.jpg\")\n",
        "    for f in files:\n",
        "        allfiles.append((idx, f))\n",
        "\n",
        "#シャッフル後、学習データと検証データに分ける\n",
        "random.shuffle(allfiles)\n",
        "th = math.floor(len(allfiles) * 0.8)\n",
        "train = allfiles[0:th]\n",
        "test  = allfiles[th:]\n",
        "X_train, y_train = make_sample(train)\n",
        "X_test, y_test = make_sample(test)\n",
        "xy = (X_train, X_test, y_train, y_test)\n",
        "#データを保存する（データの名前を「tea_data.npy」としている）\n",
        "np.save(\"/content/drive/MyDrive/test_caruta.npy\", xy)"
      ]
    },
    {
      "cell_type": "markdown",
      "metadata": {
        "id": "oKmXIL87r_ex"
      },
      "source": [
        "モデルの構築"
      ]
    },
    {
      "cell_type": "code",
      "execution_count": 3,
      "metadata": {
        "colab": {
          "base_uri": "https://localhost:8080/"
        },
        "id": "Mx6LEnCXr9-c",
        "outputId": "31c59b58-abe4-4202-dd38-c86dafdd4b59"
      },
      "outputs": [
        {
          "output_type": "stream",
          "name": "stdout",
          "text": [
            "Model: \"sequential\"\n",
            "_________________________________________________________________\n",
            " Layer (type)                Output Shape              Param #   \n",
            "=================================================================\n",
            " conv2d (Conv2D)             (None, 398, 398, 32)      896       \n",
            "                                                                 \n",
            " max_pooling2d (MaxPooling2D  (None, 199, 199, 32)     0         \n",
            " )                                                               \n",
            "                                                                 \n",
            " conv2d_1 (Conv2D)           (None, 197, 197, 64)      18496     \n",
            "                                                                 \n",
            " max_pooling2d_1 (MaxPooling  (None, 98, 98, 64)       0         \n",
            " 2D)                                                             \n",
            "                                                                 \n",
            " conv2d_2 (Conv2D)           (None, 96, 96, 128)       73856     \n",
            "                                                                 \n",
            " max_pooling2d_2 (MaxPooling  (None, 48, 48, 128)      0         \n",
            " 2D)                                                             \n",
            "                                                                 \n",
            " conv2d_3 (Conv2D)           (None, 46, 46, 128)       147584    \n",
            "                                                                 \n",
            " max_pooling2d_3 (MaxPooling  (None, 23, 23, 128)      0         \n",
            " 2D)                                                             \n",
            "                                                                 \n",
            " flatten (Flatten)           (None, 67712)             0         \n",
            "                                                                 \n",
            " dense (Dense)               (None, 512)               34669056  \n",
            "                                                                 \n",
            " dense_1 (Dense)             (None, 2)                 1026      \n",
            "                                                                 \n",
            "=================================================================\n",
            "Total params: 34,910,914\n",
            "Trainable params: 34,910,914\n",
            "Non-trainable params: 0\n",
            "_________________________________________________________________\n"
          ]
        }
      ],
      "source": [
        "from keras import layers, models\n",
        "\n",
        "model = models.Sequential()\n",
        "model.add(layers.Conv2D(32,(3,3),activation=\"relu\",input_shape=(400,400,3)))\n",
        "model.add(layers.MaxPooling2D((2,2)))\n",
        "model.add(layers.Conv2D(64,(3,3),activation=\"relu\"))\n",
        "model.add(layers.MaxPooling2D((2,2)))\n",
        "model.add(layers.Conv2D(128,(3,3),activation=\"relu\"))\n",
        "model.add(layers.MaxPooling2D((2,2)))\n",
        "model.add(layers.Conv2D(128,(3,3),activation=\"relu\"))\n",
        "model.add(layers.MaxPooling2D((2,2)))\n",
        "model.add(layers.Flatten())\n",
        "model.add(layers.Dense(512,activation=\"relu\"))\n",
        "model.add(layers.Dense(2,activation=\"sigmoid\")) #分類先の種類分設定\n",
        "\n",
        "#モデル構成の確認\n",
        "model.summary()"
      ]
    },
    {
      "cell_type": "markdown",
      "metadata": {
        "id": "nhGrjSSgsDi-"
      },
      "source": [
        "モデルのコンパイル"
      ]
    },
    {
      "cell_type": "code",
      "execution_count": 4,
      "metadata": {
        "id": "CdkqIyvBsBNU"
      },
      "outputs": [],
      "source": [
        "from tensorflow.keras.optimizers import RMSprop\n",
        "\n",
        "model.compile(loss=\"binary_crossentropy\",optimizer=RMSprop(learning_rate=1e-4),metrics=[\"acc\"])"
      ]
    },
    {
      "cell_type": "markdown",
      "metadata": {
        "id": "PzmJM-FMsHfJ"
      },
      "source": [
        "モデルの正規化"
      ]
    },
    {
      "cell_type": "code",
      "execution_count": 5,
      "metadata": {
        "id": "gw0lC_e3sFCs"
      },
      "outputs": [],
      "source": [
        "from keras.utils import np_utils\n",
        "import numpy as np\n",
        "\n",
        "categories = [\"left\",\"right\"]\n",
        "nb_classes = len(categories)\n",
        "\n",
        "X_train, X_test,y_train, y_test = np.load(\"/content/drive/MyDrive/test_caruta.npy\", allow_pickle=True)\n",
        "\n",
        "#データの正規化\n",
        "X_train = X_train.astype(\"float\") / 255\n",
        "X_test  = X_test.astype(\"float\")  / 255\n",
        "\n",
        "#kerasで扱えるようにcategoriesをベクトルに変換\n",
        "y_train = np_utils.to_categorical(y_train, nb_classes)\n",
        "y_test  = np_utils.to_categorical(y_test, nb_classes)"
      ]
    },
    {
      "cell_type": "markdown",
      "metadata": {
        "id": "X4fVLrxksM4d"
      },
      "source": [
        "モデルの学習"
      ]
    },
    {
      "cell_type": "code",
      "execution_count": 6,
      "metadata": {
        "colab": {
          "base_uri": "https://localhost:8080/"
        },
        "id": "UeVnC8Q7sKnt",
        "outputId": "a67d739c-cc9a-4e83-de90-6de02d6ae62b"
      },
      "outputs": [
        {
          "output_type": "stream",
          "name": "stdout",
          "text": [
            "Epoch 1/20\n",
            "23/23 [==============================] - 152s 7s/step - loss: 0.6607 - acc: 0.6088 - val_loss: 0.5171 - val_acc: 0.7018\n",
            "Epoch 2/20\n",
            "23/23 [==============================] - 150s 7s/step - loss: 0.4006 - acc: 0.8571 - val_loss: 0.2736 - val_acc: 0.8860\n",
            "Epoch 3/20\n",
            "23/23 [==============================] - 150s 7s/step - loss: 0.2712 - acc: 0.8879 - val_loss: 0.1959 - val_acc: 0.9561\n",
            "Epoch 4/20\n",
            "23/23 [==============================] - 150s 7s/step - loss: 0.1618 - acc: 0.9473 - val_loss: 0.1387 - val_acc: 0.9561\n",
            "Epoch 5/20\n",
            "23/23 [==============================] - 150s 7s/step - loss: 0.1449 - acc: 0.9385 - val_loss: 0.1205 - val_acc: 0.9649\n",
            "Epoch 6/20\n",
            "23/23 [==============================] - 150s 7s/step - loss: 0.1022 - acc: 0.9582 - val_loss: 0.1209 - val_acc: 0.9474\n",
            "Epoch 7/20\n",
            "23/23 [==============================] - 150s 7s/step - loss: 0.1070 - acc: 0.9604 - val_loss: 0.1068 - val_acc: 0.9737\n",
            "Epoch 8/20\n",
            "23/23 [==============================] - 150s 7s/step - loss: 0.0592 - acc: 0.9802 - val_loss: 0.1101 - val_acc: 0.9561\n",
            "Epoch 9/20\n",
            "23/23 [==============================] - 150s 7s/step - loss: 0.0747 - acc: 0.9824 - val_loss: 0.1313 - val_acc: 0.9386\n",
            "Epoch 10/20\n",
            "23/23 [==============================] - 148s 6s/step - loss: 0.0577 - acc: 0.9846 - val_loss: 0.0876 - val_acc: 0.9649\n",
            "Epoch 11/20\n",
            "23/23 [==============================] - 150s 6s/step - loss: 0.0286 - acc: 0.9934 - val_loss: 0.0960 - val_acc: 0.9649\n",
            "Epoch 12/20\n",
            "23/23 [==============================] - 150s 7s/step - loss: 0.0204 - acc: 0.9956 - val_loss: 0.1161 - val_acc: 0.9474\n",
            "Epoch 13/20\n",
            "23/23 [==============================] - 150s 7s/step - loss: 0.0553 - acc: 0.9846 - val_loss: 0.0934 - val_acc: 0.9649\n",
            "Epoch 14/20\n",
            "23/23 [==============================] - 150s 7s/step - loss: 0.0051 - acc: 1.0000 - val_loss: 0.0956 - val_acc: 0.9737\n",
            "Epoch 15/20\n",
            "23/23 [==============================] - 150s 7s/step - loss: 0.0137 - acc: 0.9934 - val_loss: 0.1324 - val_acc: 0.9737\n",
            "Epoch 16/20\n",
            "23/23 [==============================] - 150s 7s/step - loss: 0.0045 - acc: 1.0000 - val_loss: 0.0954 - val_acc: 0.9649\n",
            "Epoch 17/20\n",
            "23/23 [==============================] - 150s 7s/step - loss: 8.7384e-04 - acc: 1.0000 - val_loss: 0.1099 - val_acc: 0.9649\n",
            "Epoch 18/20\n",
            "23/23 [==============================] - 150s 7s/step - loss: 0.0779 - acc: 0.9846 - val_loss: 0.0975 - val_acc: 0.9649\n",
            "Epoch 19/20\n",
            "23/23 [==============================] - 150s 7s/step - loss: 0.0011 - acc: 1.0000 - val_loss: 0.1011 - val_acc: 0.9561\n",
            "Epoch 20/20\n",
            "23/23 [==============================] - 150s 7s/step - loss: 6.0150e-04 - acc: 1.0000 - val_loss: 0.1072 - val_acc: 0.9649\n"
          ]
        }
      ],
      "source": [
        "model = model.fit(X_train,\n",
        "                  y_train,\n",
        "                  epochs=20,\n",
        "                  batch_size=20,\n",
        "                  validation_data=(X_test,y_test))"
      ]
    },
    {
      "cell_type": "code",
      "execution_count": 7,
      "metadata": {
        "colab": {
          "base_uri": "https://localhost:8080/",
          "height": 545
        },
        "id": "6aLjSi823yBY",
        "outputId": "4133488c-334b-43d0-8f73-b7e15d82e9a5"
      },
      "outputs": [
        {
          "output_type": "display_data",
          "data": {
            "text/plain": [
              "<Figure size 432x288 with 1 Axes>"
            ],
            "image/png": "[encoded data removed]"
          },
          "metadata": {
            "needs_background": "light"
          }
        },
        {
          "output_type": "display_data",
          "data": {
            "text/plain": [
              "<Figure size 432x288 with 1 Axes>"
            ],
            "image/png": "[encoded data removed]"
          },
          "metadata": {
            "needs_background": "light"
          }
        }
      ],
      "source": [
        "import matplotlib.pyplot as plt\n",
        "\n",
        "acc = model.history['acc']\n",
        "val_acc = model.history['val_acc']\n",
        "loss = model.history['loss']\n",
        "val_loss = model.history['val_loss']\n",
        "\n",
        "epochs = range(len(acc))\n",
        "\n",
        "plt.plot(epochs, acc, 'bo', label='Training acc')\n",
        "plt.plot(epochs, val_acc, 'b', label='Validation acc')\n",
        "plt.title('Training and validation accuracy')\n",
        "plt.legend()\n",
        "plt.savefig('property')\n",
        "\n",
        "plt.figure()\n",
        "\n",
        "plt.plot(epochs, loss, 'bo', label='Training loss')\n",
        "plt.plot(epochs, val_loss, 'b', label='Validation loss')\n",
        "plt.title('Training and validation loss')\n",
        "plt.legend()\n",
        "plt.savefig('loss')"
      ]
    },
    {
      "cell_type": "code",
      "execution_count": 35,
      "metadata": {
        "id": "9uMizVh4ptAu"
      },
      "outputs": [],
      "source": [
        "#モデルの保存\n",
        "\n",
        "json_string = model.model.to_json()\n",
        "open('/content/drive/MyDrive/caruta_predict.json', 'w').write(json_string)\n",
        "\n",
        "#重みの保存\n",
        "\n",
        "hdf5_file = \"/content/drive/MyDrive/caruta_predict.hdf5\"\n",
        "model.model.save(hdf5_file)"
      ]
    },
    {
      "cell_type": "code",
      "execution_count": 38,
      "metadata": {
        "id": "ZmqzjO5CumdK"
      },
      "outputs": [],
      "source": [
        "from PIL import Image\n",
        "import os, glob\n",
        "import numpy as np\n",
        "import random, math\n",
        "\n",
        "# 画像が保存されているディレクトリのパス\n",
        "root_dir = \"/content/drive/MyDrive/result_range\"\n",
        "# 画像が保存されているフォルダ名\n",
        "categories =[\"left\",\"right\"]\n",
        "\n",
        "X = [] # 画像データ\n",
        "Y = [] # ラベルデータ\n",
        "\n",
        "# フォルダごとに分けられたファイルを収集\n",
        "#（categoriesのidxと、画像のファイルパスが紐づいたリストを生成）\n",
        "allfiles = []\n",
        "for idx, cat in enumerate(categories):\n",
        "    image_dir = root_dir + \"/\" + cat\n",
        "    files = glob.glob(image_dir + \"/*.jpg\")\n",
        "    for f in files:\n",
        "        allfiles.append((idx, f))\n",
        "\n",
        "for cat, fname in allfiles:\n",
        "    img = Image.open(fname)\n",
        "    img = img.convert(\"RGB\")\n",
        "    img = img.resize((400,400))\n",
        "    data = np.asarray(img)\n",
        "    X.append(data)\n",
        "    Y.append(cat)\n",
        "\n",
        "x = np.array(X)\n",
        "y = np.array(Y)\n",
        "\n",
        "np.save(\"/content/drive/MyDrive/tea_data_test_X_150.npy\", x)\n",
        "np.save(\"/content/drive/MyDrive/tea_data_test_Y_150.npy\", y)"
      ]
    },
    {
      "cell_type": "code",
      "execution_count": 40,
      "metadata": {
        "colab": {
          "base_uri": "https://localhost:8080/"
        },
        "id": "YjUYF8hf7Lhd",
        "outputId": "b1eb6a1d-7fff-4b00-c7f5-b76265bd5931"
      },
      "outputs": [
        {
          "output_type": "stream",
          "name": "stdout",
          "text": [
            "13/13 [==============================] - 35s 3s/step - loss: 3.9154 - acc: 0.9949\n",
            "loss= 3.9153876304626465\n",
            "accuracy= 0.9949109554290771\n"
          ]
        }
      ],
      "source": [
        "# モデルの精度を測る\n",
        "\n",
        "#評価用のデータの読み込み\n",
        "test_X = np.load(\"/content/drive/MyDrive/tea_data_test_X_150.npy\")\n",
        "test_Y = np.load(\"/content/drive/MyDrive/tea_data_test_Y_150.npy\")\n",
        "\n",
        "#Yのデータをone-hotに変換\n",
        "from keras.utils import np_utils\n",
        "\n",
        "test_Y = np_utils.to_categorical(test_Y, 2)\n",
        "\n",
        "score = model.model.evaluate(x=test_X,y=test_Y)\n",
        "\n",
        "print('loss=', score[0])\n",
        "print('accuracy=', score[1])"
      ]
    },
    {
      "cell_type": "markdown",
      "metadata": {
        "id": "eUEekkdXxBSg"
      },
      "source": [
        "正しいジャケ写を選ばせるプログラム"
      ]
    },
    {
      "cell_type": "code",
      "execution_count": 41,
      "metadata": {
        "colab": {
          "base_uri": "https://localhost:8080/"
        },
        "id": "UwHE19eV8cFb",
        "outputId": "80946284-9801-414f-bc6f-082536c13ec4"
      },
      "outputs": [
        {
          "output_type": "stream",
          "name": "stdout",
          "text": [
            "/content/drive/MyDrive/スクリーンショット 2022-09-19 234817.jpg\n",
            "選ばれたのは、leftでした。\n"
          ]
        }
      ],
      "source": [
        "#綾鷹を選ばせるプログラム\n",
        "\n",
        "from keras import models\n",
        "from keras.models import model_from_json\n",
        "from keras.preprocessing import image\n",
        "import numpy as np\n",
        "\n",
        "#保存したモデルの読み込み\n",
        "model = model_from_json(open('/content/drive/MyDrive/caruta_predict.json').read())\n",
        "#保存した重みの読み込み\n",
        "model.load_weights('/content/drive/MyDrive/caruta_predict.hdf5')\n",
        "\n",
        "categories = [\"left\",\"right\"]\n",
        "\n",
        "#画像を読み込む\n",
        "img_path = str(input())\n",
        "img = image.load_img(img_path,target_size=(400, 400, 3))\n",
        "x = image.img_to_array(img)\n",
        "x = np.expand_dims(x, axis=0)\n",
        "\n",
        "#予測\n",
        "features = model.predict(x)\n",
        "\n",
        "#予測結果によって処理を分ける\n",
        "if features[0,0] == 1:\n",
        "    print (\"選ばれたのは、leftでした。\")\n",
        "\n",
        "else:\n",
        "    print (\"選ばれたのは、rightでした。\")"
      ]
    }
  ],
  "metadata": {
    "colab": {
      "provenance": [],
      "include_colab_link": true
    },
    "kernelspec": {
      "display_name": "Python 3",
      "name": "python3"
    },
    "language_info": {
      "name": "python"
    }
  },
  "nbformat": 4,
  "nbformat_minor": 0
}