{
  "nbformat": 4,
  "nbformat_minor": 0,
  "metadata": {
    "colab": {
      "name": "動画を静止画にする.ipynb",
      "provenance": [],
      "authorship_tag": "ABX9TyNOl7nVTRHquxLWJWn/JV2P",
      "include_colab_link": true
    },
    "kernelspec": {
      "name": "python3",
      "display_name": "Python 3"
    },
    "language_info": {
      "name": "python"
    }
  },
  "cells": [
    {
      "cell_type": "markdown",
      "metadata": {
        "id": "view-in-github",
        "colab_type": "text"
      },
      "source": [
        "<a href=\"https://colab.research.google.com/github/Yang-yamper/practice-for-graduation/blob/main/%E5%8B%95%E7%94%BB%E3%82%92%E9%9D%99%E6%AD%A2%E7%94%BB%E3%81%AB%E3%81%99%E3%82%8B.ipynb\" target=\"_parent\"><img src=\"https://colab.research.google.com/assets/colab-badge.svg\" alt=\"Open In Colab\"/></a>"
      ]
    },
    {
      "cell_type": "code",
      "source": [
        "from google.colab import drive\n",
        "drive.mount('/content/drive')"
      ],
      "metadata": {
        "colab": {
          "base_uri": "https://localhost:8080/"
        },
        "id": "JkIU3LGXvn7o",
        "outputId": "dc244301-7e06-431d-c8a9-044083dc425a"
      },
      "execution_count": 1,
      "outputs": [
        {
          "output_type": "stream",
          "name": "stdout",
          "text": [
            "Mounted at /content/drive\n"
          ]
        }
      ]
    },
    {
      "cell_type": "code",
      "source": [
        "import cv2\n",
        "import os\n",
        "\n",
        "def save_all_frames(video_path, dir_path, basename, ext='jpg'):\n",
        "    cap = cv2.VideoCapture(\"/content/drive/MyDrive/IMG_7505.MOV\")\n",
        "\n",
        "    if not cap.isOpened():\n",
        "        return\n",
        "\n",
        "    os.makedirs(dir_path, exist_ok=True)\n",
        "    base_path = os.path.join(dir_path, basename)\n",
        "\n",
        "    digit = len(str(int(cap.get(cv2.CAP_PROP_FRAME_COUNT))))\n",
        "\n",
        "    n = 0\n",
        "\n",
        "    while True:\n",
        "        ret, frame = cap.read()\n",
        "        if ret:\n",
        "            cv2.imwrite('{}_{}.{}'.format(base_path, str(n).zfill(digit), ext), frame)\n",
        "            n += 1\n",
        "        else:\n",
        "            return\n",
        "\n",
        "save_all_frames('/content/drive/MyDrive/IMG_7505.MOV', '/content/drive/MyDrive/result', 'sample_video_img')\n",
        "\n",
        "save_all_frames('/content/drive/MyDrive/IMG_7505.MOV', '/content/drive/MyDrive/result_png', 'sample_video_img', 'png')"
      ],
      "metadata": {
        "id": "G_I1gR7MvjcY"
      },
      "execution_count": 2,
      "outputs": []
    }
  ]
}