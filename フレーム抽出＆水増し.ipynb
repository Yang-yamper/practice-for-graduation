{
  "nbformat": 4,
  "nbformat_minor": 0,
  "metadata": {
    "colab": {
      "provenance": [],
      "authorship_tag": "ABX9TyORApoRG9eUBuaISJNg4dje",
      "include_colab_link": true
    },
    "kernelspec": {
      "name": "python3",
      "display_name": "Python 3"
    },
    "language_info": {
      "name": "python"
    }
  },
  "cells": [
    {
      "cell_type": "markdown",
      "metadata": {
        "id": "view-in-github",
        "colab_type": "text"
      },
      "source": [
        "<a href=\"https://colab.research.google.com/github/Yang-yamper/practice-for-graduation/blob/main/%E3%83%95%E3%83%AC%E3%83%BC%E3%83%A0%E6%8A%BD%E5%87%BA%EF%BC%86%E6%B0%B4%E5%A2%97%E3%81%97.ipynb\" target=\"_parent\"><img src=\"https://colab.research.google.com/assets/colab-badge.svg\" alt=\"Open In Colab\"/></a>"
      ]
    },
    {
      "cell_type": "code",
      "source": [
        "import cv2\n",
        "import os"
      ],
      "metadata": {
        "id": "ixoOq0-7HSUz"
      },
      "execution_count": 1,
      "outputs": []
    },
    {
      "cell_type": "code",
      "source": [
        "from google.colab import drive\n",
        "drive.mount('/content/drive')"
      ],
      "metadata": {
        "colab": {
          "base_uri": "https://localhost:8080/"
        },
        "id": "NfLDgyF9HWlx",
        "outputId": "d5a5bd63-09e0-4a6d-c0dd-fdfe452efe6c"
      },
      "execution_count": 2,
      "outputs": [
        {
          "output_type": "stream",
          "name": "stdout",
          "text": [
            "Mounted at /content/drive\n"
          ]
        }
      ]
    },
    {
      "cell_type": "markdown",
      "source": [
        "札をとってる瞬間をフレーム数で抜き出してフレームを抽出"
      ],
      "metadata": {
        "id": "YqAe9xx05k0z"
      }
    },
    {
      "cell_type": "code",
      "source": [
        "def save_frame_range(video_path, start_frame, stop_frame, step_frame,\n",
        "                     dir_path, basename, ext='jpg'):\n",
        "    cap = cv2.VideoCapture(video_path)\n",
        "\n",
        "    if not cap.isOpened():\n",
        "        return\n",
        "\n",
        "    os.makedirs(dir_path, exist_ok=True)\n",
        "    base_path = os.path.join(dir_path, basename)\n",
        "\n",
        "    digit = len(str(int(cap.get(cv2.CAP_PROP_FRAME_COUNT))))\n",
        "\n",
        "    for n in range(start_frame, stop_frame, step_frame):\n",
        "        cap.set(cv2.CAP_PROP_POS_FRAMES, n)\n",
        "        ret, frame = cap.read()\n",
        "        if ret:\n",
        "            cv2.imwrite('{}_{}.{}'.format(base_path, str(n).zfill(digit), ext), frame)\n",
        "        else:\n",
        "            return\n",
        "\n",
        "save_frame_range(\"/content/drive/MyDrive/IMG_7675.mov\",\n",
        "                 240, 300, 1,\n",
        "                 '/content/drive/MyDrive/result_range/sample1', 'sample_video_img')"
      ],
      "metadata": {
        "id": "dTD5J1uaHnh-"
      },
      "execution_count": 6,
      "outputs": []
    },
    {
      "cell_type": "markdown",
      "source": [
        "札撮ってる瞬間を秒数で指定して画像抽出"
      ],
      "metadata": {
        "id": "eLRF3DEr5txV"
      }
    },
    {
      "cell_type": "code",
      "source": [
        "def save_frame_range_sec(video_path, start_sec, stop_sec, step_sec,\n",
        "                         dir_path, basename, ext='jpg'):\n",
        "    cap = cv2.VideoCapture(video_path)\n",
        "\n",
        "    if not cap.isOpened():\n",
        "        return\n",
        "\n",
        "    os.makedirs(dir_path, exist_ok=True)\n",
        "    base_path = os.path.join(dir_path, basename)\n",
        "\n",
        "    digit = len(str(int(cap.get(cv2.CAP_PROP_FRAME_COUNT))))\n",
        "\n",
        "    fps = cap.get(cv2.CAP_PROP_FPS)\n",
        "    fps_inv = 1 / fps\n",
        "\n",
        "    sec = start_sec\n",
        "    while sec < stop_sec:\n",
        "        n = round(fps * sec)\n",
        "        cap.set(cv2.CAP_PROP_POS_FRAMES, n)\n",
        "        ret, frame = cap.read()\n",
        "        if ret:\n",
        "            cv2.imwrite(\n",
        "                '{}_{}_{:.2f}.{}'.format(\n",
        "                    base_path, str(n).zfill(digit), n * fps_inv, ext\n",
        "                ),\n",
        "                frame\n",
        "            )\n",
        "        else:\n",
        "            return\n",
        "        sec += step_sec\n",
        "\n",
        "save_frame_range_sec(\"/content/drive/MyDrive/IMG_7642.mov\",\n",
        "                     4, 6, 0.1,\n",
        "                     '/content/drive/MyDrive/result_range/right', 'sample_video_img')"
      ],
      "metadata": {
        "id": "PjmYwG8jhQtp"
      },
      "execution_count": 23,
      "outputs": []
    },
    {
      "cell_type": "markdown",
      "source": [
        "画像の水増し"
      ],
      "metadata": {
        "id": "7Pb3h5Gd56N-"
      }
    },
    {
      "cell_type": "code",
      "source": [
        "from keras.preprocessing.image import ImageDataGenerator\n",
        "import os\n",
        "import cv2\n",
        "\n",
        "\n",
        "DATA_DIR = '/content/drive/MyDrive/result_range/left'  # データディレクトリ\n",
        "IMAGE_NAME = '/content/drive/MyDrive/result_range/left/sample_video_img_243_8.89.jpg'  # 対象画像ファイル\n",
        "SAVE_DIR = os.path.join(DATA_DIR, '/content/drive/MyDrive/result_range/left')  # 生成画像の保存先ディレクトリ\n",
        "\n",
        "datagen = ImageDataGenerator(\n",
        "        rotation_range=40,\n",
        "        width_shift_range=0.2,\n",
        "        height_shift_range=0.2,\n",
        "        shear_range=0.2,\n",
        "        zoom_range=0.2,\n",
        "        horizontal_flip=True,\n",
        "        fill_mode='nearest')\n",
        "\n",
        "img_array = cv2.imread(os.path.join(DATA_DIR, IMAGE_NAME),)  # 画像読み込み\n",
        "img_array = img_array.reshape((1,) + img_array.shape)  # 4次元データに変換（flow()に渡すため）\n",
        "\n",
        "# 保存先ディレクトリが存在しない場合、作成する。\n",
        "if not os.path.exists(SAVE_DIR):\n",
        "    os.makedirs(SAVE_DIR)\n",
        "\n",
        "# flow()により、ランダム変換したイメージのバッチを作成。\n",
        "# 指定したディレクトリに生成画像を保存する。\n",
        "i = 0\n",
        "for batch in datagen.flow(img_array, batch_size=1,\n",
        "                          save_to_dir=SAVE_DIR, save_prefix='caruta', save_format='jpg'):\n",
        "    i += 1\n",
        "    if i == 50:\n",
        "        break  # 停止しないと無限ループ"
      ],
      "metadata": {
        "id": "AZHDjIR53rIW"
      },
      "execution_count": 30,
      "outputs": []
    }
  ]
}