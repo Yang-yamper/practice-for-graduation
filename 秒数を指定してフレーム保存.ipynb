{
  "nbformat": 4,
  "nbformat_minor": 0,
  "metadata": {
    "colab": {
      "name": "秒数を指定してフレーム保存.ipynb",
      "provenance": [],
      "authorship_tag": "ABX9TyNOMiHXHlhfJRV3ShhneGmj",
      "include_colab_link": true
    },
    "kernelspec": {
      "name": "python3",
      "display_name": "Python 3"
    },
    "language_info": {
      "name": "python"
    }
  },
  "cells": [
    {
      "cell_type": "markdown",
      "metadata": {
        "id": "view-in-github",
        "colab_type": "text"
      },
      "source": [
        "<a href=\"https://colab.research.google.com/github/Yang-yamper/practice-for-graduation/blob/main/%E7%A7%92%E6%95%B0%E3%82%92%E6%8C%87%E5%AE%9A%E3%81%97%E3%81%A6%E3%83%95%E3%83%AC%E3%83%BC%E3%83%A0%E4%BF%9D%E5%AD%98.ipynb\" target=\"_parent\"><img src=\"https://colab.research.google.com/assets/colab-badge.svg\" alt=\"Open In Colab\"/></a>"
      ]
    },
    {
      "cell_type": "code",
      "source": [
        "from google.colab import drive\n",
        "drive.mount('/content/drive')"
      ],
      "metadata": {
        "colab": {
          "base_uri": "https://localhost:8080/"
        },
        "id": "_0QCGe4HMqRb",
        "outputId": "7156fcda-b492-44a0-bce5-e399b629b4f4"
      },
      "execution_count": 1,
      "outputs": [
        {
          "output_type": "stream",
          "name": "stdout",
          "text": [
            "Mounted at /content/drive\n"
          ]
        }
      ]
    },
    {
      "cell_type": "code",
      "source": [
        "import cv2\n",
        "import os\n",
        "\n",
        "def save_frame_sec(video_path, sec, result_path):\n",
        "    cap = cv2.VideoCapture('/content/drive/MyDrive/IMG_7673.mov')\n",
        "\n",
        "    if not cap.isOpened():\n",
        "        return\n",
        "\n",
        "    os.makedirs(os.path.dirname(result_path), exist_ok=True)\n",
        "\n",
        "    fps = cap.get(cv2.CAP_PROP_FPS)\n",
        "\n",
        "    cap.set(cv2.CAP_PROP_POS_FRAMES, round(fps * sec))\n",
        "\n",
        "    ret, frame = cap.read()\n",
        "\n",
        "    if ret:\n",
        "        cv2.imwrite(result_path, frame)\n",
        "\n",
        "save_frame_sec('/content/drive/MyDrive/IMG_7673.mov', 7,'/content/drive/MyDrive/result_7sec.jpg')\n"
      ],
      "metadata": {
        "id": "qa907EJuS3ru"
      },
      "execution_count": 8,
      "outputs": []
    }
  ]
}