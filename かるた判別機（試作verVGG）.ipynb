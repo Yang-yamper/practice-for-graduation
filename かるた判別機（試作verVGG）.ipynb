{
  "cells": [
    {
      "cell_type": "markdown",
      "metadata": {
        "id": "view-in-github",
        "colab_type": "text"
      },
      "source": [
        "<a href=\"https://colab.research.google.com/github/Yang-yamper/practice-for-graduation/blob/main/%E3%81%8B%E3%82%8B%E3%81%9F%E5%88%A4%E5%88%A5%E6%A9%9F%EF%BC%88%E8%A9%A6%E4%BD%9CverVGG%EF%BC%89.ipynb\" target=\"_parent\"><img src=\"https://colab.research.google.com/assets/colab-badge.svg\" alt=\"Open In Colab\"/></a>"
      ]
    },
    {
      "cell_type": "code",
      "execution_count": 1,
      "metadata": {
        "colab": {
          "base_uri": "https://localhost:8080/"
        },
        "id": "iMyI3o9_zgqG",
        "outputId": "8a325692-2982-4983-d73a-8a2ece7d826c"
      },
      "outputs": [
        {
          "output_type": "stream",
          "name": "stdout",
          "text": [
            "Mounted at /content/drive\n"
          ]
        }
      ],
      "source": [
        "from google.colab import drive\n",
        "drive.mount('/content/drive')"
      ]
    },
    {
      "cell_type": "code",
      "execution_count": 2,
      "metadata": {
        "colab": {
          "base_uri": "https://localhost:8080/"
        },
        "id": "JVc_wvNdrv7w",
        "outputId": "7264c029-623a-4a8b-d983-b71517cbeb46"
      },
      "outputs": [
        {
          "output_type": "stream",
          "name": "stderr",
          "text": [
            "/usr/local/lib/python3.7/dist-packages/numpy/lib/npyio.py:528: VisibleDeprecationWarning: Creating an ndarray from ragged nested sequences (which is a list-or-tuple of lists-or-tuples-or ndarrays with different lengths or shapes) is deprecated. If you meant to do this, you must specify 'dtype=object' when creating the ndarray.\n",
            "  arr = np.asanyarray(arr)\n"
          ]
        }
      ],
      "source": [
        "from PIL import Image\n",
        "import os, glob\n",
        "import numpy as np\n",
        "import random, math\n",
        "\n",
        "#画像が保存されているルートディレクトリのパス\n",
        "root_dir = \"/content/drive/MyDrive/result_range\"\n",
        "# 商品名\n",
        "categories = [\"left\",\"right\"]\n",
        "\n",
        "# 画像データ用配列\n",
        "X = []\n",
        "# ラベルデータ用配列\n",
        "Y = []\n",
        "\n",
        "#画像データごとにadd_sample()を呼び出し、X,Yの配列を返す関数\n",
        "def make_sample(files):\n",
        "    global X, Y\n",
        "    X = []\n",
        "    Y = []\n",
        "    for cat, fname in files:\n",
        "        add_sample(cat, fname)\n",
        "    return np.array(X), np.array(Y)\n",
        "\n",
        "#渡された画像データを読み込んでXに格納し、また、\n",
        "#画像データに対応するcategoriesのidxをY格納する関数\n",
        "def add_sample(cat, fname):\n",
        "    img = Image.open(fname)\n",
        "    img = img.convert(\"RGB\")\n",
        "    img = img.resize((224,224))\n",
        "    data = np.asarray(img)\n",
        "    X.append(data)\n",
        "    Y.append(cat)\n",
        "\n",
        "#全データ格納用配列\n",
        "allfiles = []\n",
        "\n",
        "#カテゴリ配列の各値と、それに対応するidxを認識し、全データをallfilesにまとめる\n",
        "for idx, cat in enumerate(categories):\n",
        "    image_dir = root_dir + \"/\" + cat\n",
        "    files = glob.glob(image_dir + \"/*.jpg\")\n",
        "    for f in files:\n",
        "        allfiles.append((idx, f))\n",
        "\n",
        "#シャッフル後、学習データと検証データに分ける\n",
        "random.shuffle(allfiles)\n",
        "th = math.floor(len(allfiles) * 0.8)\n",
        "train = allfiles[0:th]\n",
        "test  = allfiles[th:]\n",
        "X_train, y_train = make_sample(train)\n",
        "X_test, y_test = make_sample(test)\n",
        "xy = (X_train, X_test, y_train, y_test)\n",
        "#データを保存する（データの名前を「tea_data.npy」としている）\n",
        "np.save(\"/content/drive/MyDrive/test_caruta.npy\", xy)"
      ]
    },
    {
      "cell_type": "markdown",
      "metadata": {
        "id": "oKmXIL87r_ex"
      },
      "source": [
        "モデルの構築"
      ]
    },
    {
      "cell_type": "code",
      "execution_count": 3,
      "metadata": {
        "colab": {
          "base_uri": "https://localhost:8080/"
        },
        "id": "wk9i0_nxrBB5",
        "outputId": "f4d57aa6-0f9b-4b00-b831-557ef5383f4f"
      },
      "outputs": [
        {
          "output_type": "stream",
          "name": "stdout",
          "text": [
            "Model: \"sequential\"\n",
            "_________________________________________________________________\n",
            " Layer (type)                Output Shape              Param #   \n",
            "=================================================================\n",
            " conv2d (Conv2D)             (None, 222, 222, 16)      448       \n",
            "                                                                 \n",
            " conv2d_1 (Conv2D)           (None, 220, 220, 16)      2320      \n",
            "                                                                 \n",
            " max_pooling2d (MaxPooling2D  (None, 110, 110, 16)     0         \n",
            " )                                                               \n",
            "                                                                 \n",
            " conv2d_2 (Conv2D)           (None, 108, 108, 16)      2320      \n",
            "                                                                 \n",
            " conv2d_3 (Conv2D)           (None, 106, 106, 16)      2320      \n",
            "                                                                 \n",
            " max_pooling2d_1 (MaxPooling  (None, 53, 53, 16)       0         \n",
            " 2D)                                                             \n",
            "                                                                 \n",
            " conv2d_4 (Conv2D)           (None, 51, 51, 32)        4640      \n",
            "                                                                 \n",
            " conv2d_5 (Conv2D)           (None, 49, 49, 32)        9248      \n",
            "                                                                 \n",
            " conv2d_6 (Conv2D)           (None, 47, 47, 32)        9248      \n",
            "                                                                 \n",
            " max_pooling2d_2 (MaxPooling  (None, 23, 23, 32)       0         \n",
            " 2D)                                                             \n",
            "                                                                 \n",
            " conv2d_7 (Conv2D)           (None, 21, 21, 32)        9248      \n",
            "                                                                 \n",
            " conv2d_8 (Conv2D)           (None, 19, 19, 32)        9248      \n",
            "                                                                 \n",
            " conv2d_9 (Conv2D)           (None, 17, 17, 32)        9248      \n",
            "                                                                 \n",
            " max_pooling2d_3 (MaxPooling  (None, 8, 8, 32)         0         \n",
            " 2D)                                                             \n",
            "                                                                 \n",
            " conv2d_10 (Conv2D)          (None, 6, 6, 64)          18496     \n",
            "                                                                 \n",
            " conv2d_11 (Conv2D)          (None, 4, 4, 64)          36928     \n",
            "                                                                 \n",
            " conv2d_12 (Conv2D)          (None, 2, 2, 64)          36928     \n",
            "                                                                 \n",
            " max_pooling2d_4 (MaxPooling  (None, 1, 1, 64)         0         \n",
            " 2D)                                                             \n",
            "                                                                 \n",
            " flatten (Flatten)           (None, 64)                0         \n",
            "                                                                 \n",
            " dense (Dense)               (None, 256)               16640     \n",
            "                                                                 \n",
            " dropout (Dropout)           (None, 256)               0         \n",
            "                                                                 \n",
            " dense_1 (Dense)             (None, 256)               65792     \n",
            "                                                                 \n",
            " dropout_1 (Dropout)         (None, 256)               0         \n",
            "                                                                 \n",
            " dense_2 (Dense)             (None, 2)                 514       \n",
            "                                                                 \n",
            "=================================================================\n",
            "Total params: 233,586\n",
            "Trainable params: 233,586\n",
            "Non-trainable params: 0\n",
            "_________________________________________________________________\n"
          ]
        }
      ],
      "source": [
        "from keras import layers, models\n",
        "\n",
        "model = models.Sequential()\n",
        "model.add(layers.Conv2D(16,(3,3),activation=\"relu\",input_shape=(224,224,3)))\n",
        "model.add(layers.Conv2D(16,(3,3),activation=\"relu\"))\n",
        "model.add(layers.MaxPooling2D((2,2)))#strides=(2,2)\n",
        "model.add(layers.Conv2D(16,(3,3),activation=\"relu\"))\n",
        "model.add(layers.Conv2D(16,(3,3),activation=\"relu\"))\n",
        "model.add(layers.MaxPooling2D((2,2)))\n",
        "model.add(layers.Conv2D(32,(3,3),activation=\"relu\"))\n",
        "model.add(layers.Conv2D(32,(3,3),activation=\"relu\"))\n",
        "model.add(layers.Conv2D(32,(3,3),activation=\"relu\"))\n",
        "model.add(layers.MaxPooling2D((2,2)))\n",
        "model.add(layers.Conv2D(32,(3,3),activation=\"relu\"))\n",
        "model.add(layers.Conv2D(32,(3,3),activation=\"relu\"))\n",
        "model.add(layers.Conv2D(32,(3,3),activation=\"relu\"))\n",
        "model.add(layers.MaxPooling2D((2,2)))\n",
        "model.add(layers.Conv2D(64,(3,3),activation=\"relu\"))\n",
        "model.add(layers.Conv2D(64,(3,3),activation=\"relu\"))\n",
        "model.add(layers.Conv2D(64,(3,3),activation=\"relu\"))\n",
        "model.add(layers.MaxPooling2D((2,2)))\n",
        "model.add(layers.Flatten())\n",
        "model.add(layers.Dense(256,activation=\"relu\"))\n",
        "model.add(layers.Dropout(0.5))\n",
        "model.add(layers.Dense(256,activation=\"relu\"))\n",
        "model.add(layers.Dropout(0.5))\n",
        "model.add(layers.Dense(2,activation=\"sigmoid\")) #分類先の種類分設定\n",
        "\n",
        "#モデル構成の確認\n",
        "model.summary()"
      ]
    },
    {
      "cell_type": "markdown",
      "metadata": {
        "id": "nhGrjSSgsDi-"
      },
      "source": [
        "モデルのコンパイル"
      ]
    },
    {
      "cell_type": "code",
      "execution_count": 4,
      "metadata": {
        "colab": {
          "base_uri": "https://localhost:8080/"
        },
        "id": "CdkqIyvBsBNU",
        "outputId": "f3690b25-985d-444b-95ec-7991cb6d10ed"
      },
      "outputs": [
        {
          "output_type": "stream",
          "name": "stderr",
          "text": [
            "/usr/local/lib/python3.7/dist-packages/keras/optimizers/optimizer_v2/gradient_descent.py:108: UserWarning: The `lr` argument is deprecated, use `learning_rate` instead.\n",
            "  super(SGD, self).__init__(name, **kwargs)\n"
          ]
        }
      ],
      "source": [
        "from tensorflow.keras.optimizers import SGD\n",
        "\n",
        "model.compile(loss=\"categorical_crossentropy\",optimizer=SGD(lr=0.01, momentum=0.1, decay=0.0),metrics=[\"acc\"])"
      ]
    },
    {
      "cell_type": "markdown",
      "metadata": {
        "id": "PzmJM-FMsHfJ"
      },
      "source": [
        "モデルの正規化"
      ]
    },
    {
      "cell_type": "code",
      "execution_count": 5,
      "metadata": {
        "id": "gw0lC_e3sFCs"
      },
      "outputs": [],
      "source": [
        "from keras.utils import np_utils\n",
        "import numpy as np\n",
        "\n",
        "categories = [\"left\",\"right\"]\n",
        "nb_classes = len(categories)\n",
        "\n",
        "X_train, X_test,y_train, y_test = np.load(\"/content/drive/MyDrive/test_caruta.npy\", allow_pickle=True)\n",
        "\n",
        "#データの正規化\n",
        "X_train = X_train.astype(\"float\") / 255\n",
        "X_test  = X_test.astype(\"float\")  / 255\n",
        "\n",
        "#kerasで扱えるようにcategoriesをベクトルに変換\n",
        "y_train = np_utils.to_categorical(y_train, nb_classes)\n",
        "y_test  = np_utils.to_categorical(y_test, nb_classes)"
      ]
    },
    {
      "cell_type": "markdown",
      "metadata": {
        "id": "X4fVLrxksM4d"
      },
      "source": [
        "モデルの学習"
      ]
    },
    {
      "cell_type": "code",
      "execution_count": 6,
      "metadata": {
        "id": "UeVnC8Q7sKnt",
        "colab": {
          "base_uri": "https://localhost:8080/"
        },
        "outputId": "5b0acda0-eefc-4d6a-9c0e-4aeb6cb20545"
      },
      "outputs": [
        {
          "output_type": "stream",
          "name": "stdout",
          "text": [
            "Epoch 1/30\n",
            "59/59 [==============================] - 112s 2s/step - loss: 0.6908 - acc: 0.5488 - val_loss: 0.6877 - val_acc: 0.5616\n",
            "Epoch 2/30\n",
            "59/59 [==============================] - 110s 2s/step - loss: 0.6883 - acc: 0.5522 - val_loss: 0.6860 - val_acc: 0.5616\n",
            "Epoch 3/30\n",
            "59/59 [==============================] - 111s 2s/step - loss: 0.6875 - acc: 0.5522 - val_loss: 0.6855 - val_acc: 0.5616\n",
            "Epoch 4/30\n",
            "59/59 [==============================] - 109s 2s/step - loss: 0.6877 - acc: 0.5522 - val_loss: 0.6854 - val_acc: 0.5616\n",
            "Epoch 5/30\n",
            "59/59 [==============================] - 109s 2s/step - loss: 0.6871 - acc: 0.5522 - val_loss: 0.6850 - val_acc: 0.5616\n",
            "Epoch 6/30\n",
            "59/59 [==============================] - 110s 2s/step - loss: 0.6875 - acc: 0.5522 - val_loss: 0.6850 - val_acc: 0.5616\n",
            "Epoch 7/30\n",
            "59/59 [==============================] - 109s 2s/step - loss: 0.6866 - acc: 0.5522 - val_loss: 0.6845 - val_acc: 0.5616\n",
            "Epoch 8/30\n",
            "59/59 [==============================] - 109s 2s/step - loss: 0.6871 - acc: 0.5522 - val_loss: 0.6843 - val_acc: 0.5616\n",
            "Epoch 9/30\n",
            "59/59 [==============================] - 109s 2s/step - loss: 0.6860 - acc: 0.5522 - val_loss: 0.6836 - val_acc: 0.5616\n",
            "Epoch 10/30\n",
            "59/59 [==============================] - 108s 2s/step - loss: 0.6859 - acc: 0.5522 - val_loss: 0.6831 - val_acc: 0.5616\n",
            "Epoch 11/30\n",
            "59/59 [==============================] - 109s 2s/step - loss: 0.6849 - acc: 0.5522 - val_loss: 0.6821 - val_acc: 0.5616\n",
            "Epoch 12/30\n",
            "59/59 [==============================] - 109s 2s/step - loss: 0.6834 - acc: 0.5522 - val_loss: 0.6805 - val_acc: 0.5616\n",
            "Epoch 13/30\n",
            "59/59 [==============================] - 109s 2s/step - loss: 0.6817 - acc: 0.5514 - val_loss: 0.6783 - val_acc: 0.5616\n",
            "Epoch 14/30\n",
            "59/59 [==============================] - 110s 2s/step - loss: 0.6789 - acc: 0.5522 - val_loss: 0.6751 - val_acc: 0.5616\n",
            "Epoch 15/30\n",
            "59/59 [==============================] - 110s 2s/step - loss: 0.6755 - acc: 0.5514 - val_loss: 0.6703 - val_acc: 0.5616\n",
            "Epoch 16/30\n",
            "59/59 [==============================] - 109s 2s/step - loss: 0.6700 - acc: 0.5591 - val_loss: 0.6656 - val_acc: 0.5890\n",
            "Epoch 17/30\n",
            "59/59 [==============================] - 109s 2s/step - loss: 0.6615 - acc: 0.6122 - val_loss: 0.6462 - val_acc: 0.6370\n",
            "Epoch 18/30\n",
            "59/59 [==============================] - 109s 2s/step - loss: 0.6505 - acc: 0.6627 - val_loss: 0.6381 - val_acc: 0.5959\n",
            "Epoch 19/30\n",
            "59/59 [==============================] - 109s 2s/step - loss: 0.6343 - acc: 0.6704 - val_loss: 0.7707 - val_acc: 0.4384\n",
            "Epoch 20/30\n",
            "59/59 [==============================] - 109s 2s/step - loss: 0.6236 - acc: 0.6729 - val_loss: 0.6085 - val_acc: 0.6438\n",
            "Epoch 21/30\n",
            "59/59 [==============================] - 109s 2s/step - loss: 0.6112 - acc: 0.7021 - val_loss: 0.5840 - val_acc: 0.7432\n",
            "Epoch 22/30\n",
            "59/59 [==============================] - 108s 2s/step - loss: 0.5685 - acc: 0.7500 - val_loss: 0.6280 - val_acc: 0.6027\n",
            "Epoch 23/30\n",
            "59/59 [==============================] - 108s 2s/step - loss: 0.5537 - acc: 0.7449 - val_loss: 0.5148 - val_acc: 0.7979\n",
            "Epoch 24/30\n",
            "59/59 [==============================] - 108s 2s/step - loss: 0.6947 - acc: 0.5702 - val_loss: 0.6910 - val_acc: 0.5616\n",
            "Epoch 25/30\n",
            "59/59 [==============================] - 108s 2s/step - loss: 0.6903 - acc: 0.5522 - val_loss: 0.6855 - val_acc: 0.5616\n",
            "Epoch 26/30\n",
            "59/59 [==============================] - 108s 2s/step - loss: 0.6899 - acc: 0.5531 - val_loss: 0.6854 - val_acc: 0.5616\n",
            "Epoch 27/30\n",
            "59/59 [==============================] - 108s 2s/step - loss: 0.6898 - acc: 0.5531 - val_loss: 0.6852 - val_acc: 0.5616\n",
            "Epoch 28/30\n",
            "59/59 [==============================] - 108s 2s/step - loss: 0.6879 - acc: 0.5522 - val_loss: 0.6830 - val_acc: 0.5616\n",
            "Epoch 29/30\n",
            "59/59 [==============================] - 108s 2s/step - loss: 0.6320 - acc: 0.6515 - val_loss: 0.6689 - val_acc: 0.5616\n",
            "Epoch 30/30\n",
            "59/59 [==============================] - 108s 2s/step - loss: 0.5481 - acc: 0.7440 - val_loss: 0.5440 - val_acc: 0.7671\n"
          ]
        }
      ],
      "source": [
        "model = model.fit(X_train,\n",
        "                  y_train,\n",
        "                  epochs=30,\n",
        "                  batch_size=20,\n",
        "                  validation_data=(X_test,y_test))"
      ]
    },
    {
      "cell_type": "code",
      "execution_count": 7,
      "metadata": {
        "id": "6aLjSi823yBY",
        "colab": {
          "base_uri": "https://localhost:8080/",
          "height": 545
        },
        "outputId": "ae741505-1ab2-45f6-af22-3626e83617b9"
      },
      "outputs": [
        {
          "output_type": "display_data",
          "data": {
            "text/plain": [
              "<Figure size 432x288 with 1 Axes>"
            ],
            "image/png": "[encoded data removed]"
          },
          "metadata": {
            "needs_background": "light"
          }
        },
        {
          "output_type": "display_data",
          "data": {
            "text/plain": [
              "<Figure size 432x288 with 1 Axes>"
            ],
            "image/png": "[encoded data removed]"
          },
          "metadata": {
            "needs_background": "light"
          }
        }
      ],
      "source": [
        "import matplotlib.pyplot as plt\n",
        "\n",
        "acc = model.history['acc']\n",
        "val_acc = model.history['val_acc']\n",
        "loss = model.history['loss']\n",
        "val_loss = model.history['val_loss']\n",
        "\n",
        "epochs = range(len(acc))\n",
        "\n",
        "plt.plot(epochs, acc, 'bo', label='Training acc')\n",
        "plt.plot(epochs, val_acc, 'b', label='Validation acc')\n",
        "plt.title('Training and validation accuracy')\n",
        "plt.legend()\n",
        "plt.savefig('property')\n",
        "\n",
        "plt.figure()\n",
        "\n",
        "plt.plot(epochs, loss, 'bo', label='Training loss')\n",
        "plt.plot(epochs, val_loss, 'b', label='Validation loss')\n",
        "plt.title('Training and validation loss')\n",
        "plt.legend()\n",
        "plt.savefig('loss')"
      ]
    },
    {
      "cell_type": "code",
      "execution_count": null,
      "metadata": {
        "id": "9uMizVh4ptAu"
      },
      "outputs": [],
      "source": [
        "#モデルの保存\n",
        "\n",
        "json_string = model.model.to_json()\n",
        "open('/content/drive/MyDrive/caruta_predict.json', 'w').write(json_string)\n",
        "\n",
        "#重みの保存\n",
        "\n",
        "hdf5_file = \"/content/drive/MyDrive/caruta_predict.hdf5\"\n",
        "model.model.save(hdf5_file)"
      ]
    },
    {
      "cell_type": "code",
      "execution_count": null,
      "metadata": {
        "id": "ZmqzjO5CumdK"
      },
      "outputs": [],
      "source": [
        "from PIL import Image\n",
        "import os, glob\n",
        "import numpy as np\n",
        "import random, math\n",
        "\n",
        "# 画像が保存されているディレクトリのパス\n",
        "root_dir = \"/content/drive/MyDrive/result_range\"\n",
        "# 画像が保存されているフォルダ名\n",
        "categories =[\"left\",\"right\"]\n",
        "\n",
        "X = [] # 画像データ\n",
        "Y = [] # ラベルデータ\n",
        "\n",
        "# フォルダごとに分けられたファイルを収集\n",
        "#（categoriesのidxと、画像のファイルパスが紐づいたリストを生成）\n",
        "allfiles = []\n",
        "for idx, cat in enumerate(categories):\n",
        "    image_dir = root_dir + \"/\" + cat\n",
        "    files = glob.glob(image_dir + \"/*.jpg\")\n",
        "    for f in files:\n",
        "        allfiles.append((idx, f))\n",
        "\n",
        "for cat, fname in allfiles:\n",
        "    img = Image.open(fname)\n",
        "    img = img.convert(\"RGB\")\n",
        "    img = img.resize((224,224))\n",
        "    data = np.asarray(img)\n",
        "    X.append(data)\n",
        "    Y.append(cat)\n",
        "\n",
        "x = np.array(X)\n",
        "y = np.array(Y)\n",
        "\n",
        "np.save(\"/content/drive/MyDrive/tea_data_test_X_150.npy\", x)\n",
        "np.save(\"/content/drive/MyDrive/tea_data_test_Y_150.npy\", y)"
      ]
    },
    {
      "cell_type": "code",
      "execution_count": null,
      "metadata": {
        "colab": {
          "base_uri": "https://localhost:8080/",
          "height": 666
        },
        "id": "YjUYF8hf7Lhd",
        "outputId": "1e36295d-7728-456c-8340-a3fb72aba66d"
      },
      "outputs": [
        {
          "ename": "ValueError",
          "evalue": "ignored",
          "output_type": "error",
          "traceback": [
            "\u001b[0;31m---------------------------------------------------------------------------\u001b[0m",
            "\u001b[0;31mValueError\u001b[0m                                Traceback (most recent call last)",
            "\u001b[0;32m<ipython-input-21-7f342d2e3a45>\u001b[0m in \u001b[0;36m<module>\u001b[0;34m\u001b[0m\n\u001b[1;32m     10\u001b[0m \u001b[0mtest_Y\u001b[0m \u001b[0;34m=\u001b[0m \u001b[0mnp_utils\u001b[0m\u001b[0;34m.\u001b[0m\u001b[0mto_categorical\u001b[0m\u001b[0;34m(\u001b[0m\u001b[0mtest_Y\u001b[0m\u001b[0;34m,\u001b[0m \u001b[0;36m2\u001b[0m\u001b[0;34m)\u001b[0m\u001b[0;34m\u001b[0m\u001b[0;34m\u001b[0m\u001b[0m\n\u001b[1;32m     11\u001b[0m \u001b[0;34m\u001b[0m\u001b[0m\n\u001b[0;32m---> 12\u001b[0;31m \u001b[0mscore\u001b[0m \u001b[0;34m=\u001b[0m \u001b[0mmodel\u001b[0m\u001b[0;34m.\u001b[0m\u001b[0mmodel\u001b[0m\u001b[0;34m.\u001b[0m\u001b[0mevaluate\u001b[0m\u001b[0;34m(\u001b[0m\u001b[0mx\u001b[0m\u001b[0;34m=\u001b[0m\u001b[0mtest_X\u001b[0m\u001b[0;34m,\u001b[0m\u001b[0my\u001b[0m\u001b[0;34m=\u001b[0m\u001b[0mtest_Y\u001b[0m\u001b[0;34m)\u001b[0m\u001b[0;34m\u001b[0m\u001b[0;34m\u001b[0m\u001b[0m\n\u001b[0m\u001b[1;32m     13\u001b[0m \u001b[0;34m\u001b[0m\u001b[0m\n\u001b[1;32m     14\u001b[0m \u001b[0mprint\u001b[0m\u001b[0;34m(\u001b[0m\u001b[0;34m'loss='\u001b[0m\u001b[0;34m,\u001b[0m \u001b[0mscore\u001b[0m\u001b[0;34m[\u001b[0m\u001b[0;36m0\u001b[0m\u001b[0;34m]\u001b[0m\u001b[0;34m)\u001b[0m\u001b[0;34m\u001b[0m\u001b[0;34m\u001b[0m\u001b[0m\n",
            "\u001b[0;32m/usr/local/lib/python3.7/dist-packages/keras/utils/traceback_utils.py\u001b[0m in \u001b[0;36merror_handler\u001b[0;34m(*args, **kwargs)\u001b[0m\n\u001b[1;32m     65\u001b[0m     \u001b[0;32mexcept\u001b[0m \u001b[0mException\u001b[0m \u001b[0;32mas\u001b[0m \u001b[0me\u001b[0m\u001b[0;34m:\u001b[0m  \u001b[0;31m# pylint: disable=broad-except\u001b[0m\u001b[0;34m\u001b[0m\u001b[0;34m\u001b[0m\u001b[0m\n\u001b[1;32m     66\u001b[0m       \u001b[0mfiltered_tb\u001b[0m \u001b[0;34m=\u001b[0m \u001b[0m_process_traceback_frames\u001b[0m\u001b[0;34m(\u001b[0m\u001b[0me\u001b[0m\u001b[0;34m.\u001b[0m\u001b[0m__traceback__\u001b[0m\u001b[0;34m)\u001b[0m\u001b[0;34m\u001b[0m\u001b[0;34m\u001b[0m\u001b[0m\n\u001b[0;32m---> 67\u001b[0;31m       \u001b[0;32mraise\u001b[0m \u001b[0me\u001b[0m\u001b[0;34m.\u001b[0m\u001b[0mwith_traceback\u001b[0m\u001b[0;34m(\u001b[0m\u001b[0mfiltered_tb\u001b[0m\u001b[0;34m)\u001b[0m \u001b[0;32mfrom\u001b[0m \u001b[0;32mNone\u001b[0m\u001b[0;34m\u001b[0m\u001b[0;34m\u001b[0m\u001b[0m\n\u001b[0m\u001b[1;32m     68\u001b[0m     \u001b[0;32mfinally\u001b[0m\u001b[0;34m:\u001b[0m\u001b[0;34m\u001b[0m\u001b[0;34m\u001b[0m\u001b[0m\n\u001b[1;32m     69\u001b[0m       \u001b[0;32mdel\u001b[0m \u001b[0mfiltered_tb\u001b[0m\u001b[0;34m\u001b[0m\u001b[0;34m\u001b[0m\u001b[0m\n",
            "\u001b[0;32m/usr/local/lib/python3.7/dist-packages/keras/engine/training.py\u001b[0m in \u001b[0;36mtf__test_function\u001b[0;34m(iterator)\u001b[0m\n\u001b[1;32m     13\u001b[0m                 \u001b[0;32mtry\u001b[0m\u001b[0;34m:\u001b[0m\u001b[0;34m\u001b[0m\u001b[0;34m\u001b[0m\u001b[0m\n\u001b[1;32m     14\u001b[0m                     \u001b[0mdo_return\u001b[0m \u001b[0;34m=\u001b[0m \u001b[0;32mTrue\u001b[0m\u001b[0;34m\u001b[0m\u001b[0;34m\u001b[0m\u001b[0m\n\u001b[0;32m---> 15\u001b[0;31m                     \u001b[0mretval_\u001b[0m \u001b[0;34m=\u001b[0m \u001b[0mag__\u001b[0m\u001b[0;34m.\u001b[0m\u001b[0mconverted_call\u001b[0m\u001b[0;34m(\u001b[0m\u001b[0mag__\u001b[0m\u001b[0;34m.\u001b[0m\u001b[0mld\u001b[0m\u001b[0;34m(\u001b[0m\u001b[0mstep_function\u001b[0m\u001b[0;34m)\u001b[0m\u001b[0;34m,\u001b[0m \u001b[0;34m(\u001b[0m\u001b[0mag__\u001b[0m\u001b[0;34m.\u001b[0m\u001b[0mld\u001b[0m\u001b[0;34m(\u001b[0m\u001b[0mself\u001b[0m\u001b[0;34m)\u001b[0m\u001b[0;34m,\u001b[0m \u001b[0mag__\u001b[0m\u001b[0;34m.\u001b[0m\u001b[0mld\u001b[0m\u001b[0;34m(\u001b[0m\u001b[0miterator\u001b[0m\u001b[0;34m)\u001b[0m\u001b[0;34m)\u001b[0m\u001b[0;34m,\u001b[0m \u001b[0;32mNone\u001b[0m\u001b[0;34m,\u001b[0m \u001b[0mfscope\u001b[0m\u001b[0;34m)\u001b[0m\u001b[0;34m\u001b[0m\u001b[0;34m\u001b[0m\u001b[0m\n\u001b[0m\u001b[1;32m     16\u001b[0m                 \u001b[0;32mexcept\u001b[0m\u001b[0;34m:\u001b[0m\u001b[0;34m\u001b[0m\u001b[0;34m\u001b[0m\u001b[0m\n\u001b[1;32m     17\u001b[0m                     \u001b[0mdo_return\u001b[0m \u001b[0;34m=\u001b[0m \u001b[0;32mFalse\u001b[0m\u001b[0;34m\u001b[0m\u001b[0;34m\u001b[0m\u001b[0m\n",
            "\u001b[0;31mValueError\u001b[0m: in user code:\n\n    File \"/usr/local/lib/python3.7/dist-packages/keras/engine/training.py\", line 1557, in test_function  *\n        return step_function(self, iterator)\n    File \"/usr/local/lib/python3.7/dist-packages/keras/engine/training.py\", line 1546, in step_function  **\n        outputs = model.distribute_strategy.run(run_step, args=(data,))\n    File \"/usr/local/lib/python3.7/dist-packages/keras/engine/training.py\", line 1535, in run_step  **\n        outputs = model.test_step(data)\n    File \"/usr/local/lib/python3.7/dist-packages/keras/engine/training.py\", line 1499, in test_step\n        y_pred = self(x, training=False)\n    File \"/usr/local/lib/python3.7/dist-packages/keras/utils/traceback_utils.py\", line 67, in error_handler\n        raise e.with_traceback(filtered_tb) from None\n    File \"/usr/local/lib/python3.7/dist-packages/keras/engine/input_spec.py\", line 264, in assert_input_compatibility\n        raise ValueError(f'Input {input_index} of layer \"{layer_name}\" is '\n\n    ValueError: Input 0 of layer \"sequential_9\" is incompatible with the layer: expected shape=(None, 224, 224, 3), found shape=(None, 200, 200, 3)\n"
          ]
        }
      ],
      "source": [
        "# モデルの精度を測る\n",
        "\n",
        "#評価用のデータの読み込み\n",
        "test_X = np.load(\"/content/drive/MyDrive/tea_data_test_X_150.npy\")\n",
        "test_Y = np.load(\"/content/drive/MyDrive/tea_data_test_Y_150.npy\")\n",
        "\n",
        "#Yのデータをone-hotに変換\n",
        "from keras.utils import np_utils\n",
        "\n",
        "test_Y = np_utils.to_categorical(test_Y, 2)\n",
        "\n",
        "score = model.model.evaluate(x=test_X,y=test_Y)\n",
        "\n",
        "print('loss=', score[0])\n",
        "print('accuracy=', score[1])"
      ]
    }
  ],
  "metadata": {
    "colab": {
      "collapsed_sections": [],
      "provenance": [],
      "include_colab_link": true
    },
    "kernelspec": {
      "display_name": "Python 3",
      "name": "python3"
    },
    "language_info": {
      "name": "python"
    }
  },
  "nbformat": 4,
  "nbformat_minor": 0
}